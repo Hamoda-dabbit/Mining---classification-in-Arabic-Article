{
  "cells": [
    {
      "cell_type": "markdown",
      "metadata": {
        "id": "view-in-github",
        "colab_type": "text"
      },
      "source": [
        "<a href=\"https://colab.research.google.com/github/Hamoda-dabbit/Mining---classification-in-Arabic-Article/blob/main/DecisionTree_RandomForest/DecisionTree_RandomForest.ipynb\" target=\"_parent\"><img src=\"https://colab.research.google.com/assets/colab-badge.svg\" alt=\"Open In Colab\"/></a>"
      ]
    },
    {
      "cell_type": "markdown",
      "metadata": {
        "id": "wNbjAAdR_a7V"
      },
      "source": [
        " 1- إستيراد المكتبات"
      ]
    },
    {
      "cell_type": "code",
      "execution_count": null,
      "metadata": {
        "colab": {
          "base_uri": "https://localhost:8080/"
        },
        "id": "TNoA8UhxJGT0",
        "outputId": "621122ec-2820-4104-ca2c-3926e97081c6"
      },
      "outputs": [
        {
          "output_type": "stream",
          "name": "stderr",
          "text": [
            "[nltk_data] Downloading package stopwords to /root/nltk_data...\n",
            "[nltk_data]   Unzipping corpora/stopwords.zip.\n"
          ]
        }
      ],
      "source": [
        "import warnings\n",
        "warnings.filterwarnings(\"ignore\")\n",
        "import numpy as np\n",
        "import pandas as pd\n",
        "from sklearn.utils import shuffle\n",
        "import nltk \n",
        "nltk.download('stopwords')\n",
        "from nltk.corpus import stopwords\n",
        "from nltk.tokenize import word_tokenize\n",
        "from nltk.tokenize import RegexpTokenizer\n",
        "from nltk.stem.isri import ISRIStemmer\n",
        "import re\n",
        "import string\n",
        "from sklearn.feature_extraction.text import TfidfVectorizer\n",
        "from sklearn.pipeline import Pipeline\n",
        "from sklearn.svm import SVC\n",
        "from sklearn.calibration import CalibratedClassifierCV\n",
        "from sklearn.feature_selection import SelectKBest\n",
        "from sklearn.model_selection import GridSearchCV\n",
        "from sklearn.metrics import accuracy_score, precision_recall_fscore_support\n",
        "from joblib import dump, load"
      ]
    },
    {
      "cell_type": "markdown",
      "metadata": {
        "id": "IY_2pUn__oh8"
      },
      "source": [
        "--------\n",
        "\n",
        "2- استيراد ملفات البيانات"
      ]
    },
    {
      "cell_type": "code",
      "execution_count": null,
      "metadata": {
        "id": "a5M0RrmjJXpU"
      },
      "outputs": [],
      "source": [
        "\n",
        "df1 = pd.read_excel(\"drive/MyDrive/mining/1.xlsx\")\n",
        "# df2 = pd.read_excel(\"drive/MyDrive/mining/2.xlsx\")\n",
        "# df3 = pd.read_excel(\"drive/MyDrive/mining/3.xlsx\")\n",
        "# df4 = pd.read_excel(\"drive/MyDrive/mining/4.xlsx\")\n",
        "\n",
        "df=df1"
      ]
    },
    {
      "cell_type": "markdown",
      "metadata": {
        "id": "CjXeZSy9_fB2"
      },
      "source": [
        "------\n",
        "3- shuffle  \n",
        "بعثرة البيانات"
      ]
    },
    {
      "cell_type": "code",
      "execution_count": null,
      "metadata": {
        "colab": {
          "base_uri": "https://localhost:8080/",
          "height": 424
        },
        "id": "3E1HSB0BJbab",
        "outputId": "ceb1f1ea-68e4-468c-f72d-80436d5caff5"
      },
      "outputs": [
        {
          "output_type": "execute_result",
          "data": {
            "text/plain": [
              "                                                    text  targe\n",
              "9035   أعلن محمد بنشعبون الرئيس المدير العام لمجموعة ...      2\n",
              "8256   أعلنت شركة الخطوط الجوية الملكية المغربية لارا...      2\n",
              "2237   حصدت الممثلة السينمائية ساندرا بولوك أربع جوائ...      0\n",
              "7798   ارتفاع حجم المخاطر المرتبطة بمنح دفتر الشيكات ...      2\n",
              "10830  أن أعلنت وزارة الداخلية عن عدد طلبات القي ونقل...      3\n",
              "...                                                  ...    ...\n",
              "9259   طالب مهنيو قطاع الصيد البحري بإسبانيا المملكة ...      2\n",
              "15006  ذكر الاتحاد الدولي لكرة القدم الفيفا اليوم الأ...      4\n",
              "8656   استعرضت أمينة بنخضرة المديرة العامة للمكتب الو...      2\n",
              "15441  يعتقد البوسني وحيد خليلوجيتش مدرب الجزائر ان ا...      4\n",
              "11729  لم تكن التصريحات التي أدلى بها رئيس الحكومة عب...      3\n",
              "\n",
              "[17500 rows x 2 columns]"
            ],
            "text/html": [
              "\n",
              "  <div id=\"df-164f7607-6193-4609-8cc5-3aff66975b40\">\n",
              "    <div class=\"colab-df-container\">\n",
              "      <div>\n",
              "<style scoped>\n",
              "    .dataframe tbody tr th:only-of-type {\n",
              "        vertical-align: middle;\n",
              "    }\n",
              "\n",
              "    .dataframe tbody tr th {\n",
              "        vertical-align: top;\n",
              "    }\n",
              "\n",
              "    .dataframe thead th {\n",
              "        text-align: right;\n",
              "    }\n",
              "</style>\n",
              "<table border=\"1\" class=\"dataframe\">\n",
              "  <thead>\n",
              "    <tr style=\"text-align: right;\">\n",
              "      <th></th>\n",
              "      <th>text</th>\n",
              "      <th>targe</th>\n",
              "    </tr>\n",
              "  </thead>\n",
              "  <tbody>\n",
              "    <tr>\n",
              "      <th>9035</th>\n",
              "      <td>أعلن محمد بنشعبون الرئيس المدير العام لمجموعة ...</td>\n",
              "      <td>2</td>\n",
              "    </tr>\n",
              "    <tr>\n",
              "      <th>8256</th>\n",
              "      <td>أعلنت شركة الخطوط الجوية الملكية المغربية لارا...</td>\n",
              "      <td>2</td>\n",
              "    </tr>\n",
              "    <tr>\n",
              "      <th>2237</th>\n",
              "      <td>حصدت الممثلة السينمائية ساندرا بولوك أربع جوائ...</td>\n",
              "      <td>0</td>\n",
              "    </tr>\n",
              "    <tr>\n",
              "      <th>7798</th>\n",
              "      <td>ارتفاع حجم المخاطر المرتبطة بمنح دفتر الشيكات ...</td>\n",
              "      <td>2</td>\n",
              "    </tr>\n",
              "    <tr>\n",
              "      <th>10830</th>\n",
              "      <td>أن أعلنت وزارة الداخلية عن عدد طلبات القي ونقل...</td>\n",
              "      <td>3</td>\n",
              "    </tr>\n",
              "    <tr>\n",
              "      <th>...</th>\n",
              "      <td>...</td>\n",
              "      <td>...</td>\n",
              "    </tr>\n",
              "    <tr>\n",
              "      <th>9259</th>\n",
              "      <td>طالب مهنيو قطاع الصيد البحري بإسبانيا المملكة ...</td>\n",
              "      <td>2</td>\n",
              "    </tr>\n",
              "    <tr>\n",
              "      <th>15006</th>\n",
              "      <td>ذكر الاتحاد الدولي لكرة القدم الفيفا اليوم الأ...</td>\n",
              "      <td>4</td>\n",
              "    </tr>\n",
              "    <tr>\n",
              "      <th>8656</th>\n",
              "      <td>استعرضت أمينة بنخضرة المديرة العامة للمكتب الو...</td>\n",
              "      <td>2</td>\n",
              "    </tr>\n",
              "    <tr>\n",
              "      <th>15441</th>\n",
              "      <td>يعتقد البوسني وحيد خليلوجيتش مدرب الجزائر ان ا...</td>\n",
              "      <td>4</td>\n",
              "    </tr>\n",
              "    <tr>\n",
              "      <th>11729</th>\n",
              "      <td>لم تكن التصريحات التي أدلى بها رئيس الحكومة عب...</td>\n",
              "      <td>3</td>\n",
              "    </tr>\n",
              "  </tbody>\n",
              "</table>\n",
              "<p>17500 rows × 2 columns</p>\n",
              "</div>\n",
              "      <button class=\"colab-df-convert\" onclick=\"convertToInteractive('df-164f7607-6193-4609-8cc5-3aff66975b40')\"\n",
              "              title=\"Convert this dataframe to an interactive table.\"\n",
              "              style=\"display:none;\">\n",
              "        \n",
              "  <svg xmlns=\"http://www.w3.org/2000/svg\" height=\"24px\"viewBox=\"0 0 24 24\"\n",
              "       width=\"24px\">\n",
              "    <path d=\"M0 0h24v24H0V0z\" fill=\"none\"/>\n",
              "    <path d=\"M18.56 5.44l.94 2.06.94-2.06 2.06-.94-2.06-.94-.94-2.06-.94 2.06-2.06.94zm-11 1L8.5 8.5l.94-2.06 2.06-.94-2.06-.94L8.5 2.5l-.94 2.06-2.06.94zm10 10l.94 2.06.94-2.06 2.06-.94-2.06-.94-.94-2.06-.94 2.06-2.06.94z\"/><path d=\"M17.41 7.96l-1.37-1.37c-.4-.4-.92-.59-1.43-.59-.52 0-1.04.2-1.43.59L10.3 9.45l-7.72 7.72c-.78.78-.78 2.05 0 2.83L4 21.41c.39.39.9.59 1.41.59.51 0 1.02-.2 1.41-.59l7.78-7.78 2.81-2.81c.8-.78.8-2.07 0-2.86zM5.41 20L4 18.59l7.72-7.72 1.47 1.35L5.41 20z\"/>\n",
              "  </svg>\n",
              "      </button>\n",
              "      \n",
              "  <style>\n",
              "    .colab-df-container {\n",
              "      display:flex;\n",
              "      flex-wrap:wrap;\n",
              "      gap: 12px;\n",
              "    }\n",
              "\n",
              "    .colab-df-convert {\n",
              "      background-color: #E8F0FE;\n",
              "      border: none;\n",
              "      border-radius: 50%;\n",
              "      cursor: pointer;\n",
              "      display: none;\n",
              "      fill: #1967D2;\n",
              "      height: 32px;\n",
              "      padding: 0 0 0 0;\n",
              "      width: 32px;\n",
              "    }\n",
              "\n",
              "    .colab-df-convert:hover {\n",
              "      background-color: #E2EBFA;\n",
              "      box-shadow: 0px 1px 2px rgba(60, 64, 67, 0.3), 0px 1px 3px 1px rgba(60, 64, 67, 0.15);\n",
              "      fill: #174EA6;\n",
              "    }\n",
              "\n",
              "    [theme=dark] .colab-df-convert {\n",
              "      background-color: #3B4455;\n",
              "      fill: #D2E3FC;\n",
              "    }\n",
              "\n",
              "    [theme=dark] .colab-df-convert:hover {\n",
              "      background-color: #434B5C;\n",
              "      box-shadow: 0px 1px 3px 1px rgba(0, 0, 0, 0.15);\n",
              "      filter: drop-shadow(0px 1px 2px rgba(0, 0, 0, 0.3));\n",
              "      fill: #FFFFFF;\n",
              "    }\n",
              "  </style>\n",
              "\n",
              "      <script>\n",
              "        const buttonEl =\n",
              "          document.querySelector('#df-164f7607-6193-4609-8cc5-3aff66975b40 button.colab-df-convert');\n",
              "        buttonEl.style.display =\n",
              "          google.colab.kernel.accessAllowed ? 'block' : 'none';\n",
              "\n",
              "        async function convertToInteractive(key) {\n",
              "          const element = document.querySelector('#df-164f7607-6193-4609-8cc5-3aff66975b40');\n",
              "          const dataTable =\n",
              "            await google.colab.kernel.invokeFunction('convertToInteractive',\n",
              "                                                     [key], {});\n",
              "          if (!dataTable) return;\n",
              "\n",
              "          const docLinkHtml = 'Like what you see? Visit the ' +\n",
              "            '<a target=\"_blank\" href=https://colab.research.google.com/notebooks/data_table.ipynb>data table notebook</a>'\n",
              "            + ' to learn more about interactive tables.';\n",
              "          element.innerHTML = '';\n",
              "          dataTable['output_type'] = 'display_data';\n",
              "          await google.colab.output.renderOutput(dataTable, element);\n",
              "          const docLink = document.createElement('div');\n",
              "          docLink.innerHTML = docLinkHtml;\n",
              "          element.appendChild(docLink);\n",
              "        }\n",
              "      </script>\n",
              "    </div>\n",
              "  </div>\n",
              "  "
            ]
          },
          "metadata": {},
          "execution_count": 4
        }
      ],
      "source": [
        "df=shuffle(df)\n",
        "df"
      ]
    },
    {
      "cell_type": "markdown",
      "metadata": {
        "id": "IWomJ3tI_qIQ"
      },
      "source": [
        "------\n",
        "4- clean\n",
        "تنظيف البيانات"
      ]
    },
    {
      "cell_type": "code",
      "execution_count": null,
      "metadata": {
        "colab": {
          "base_uri": "https://localhost:8080/"
        },
        "id": "yuk9UFPZJjxA",
        "outputId": "7a47682e-61ea-4ebd-ae16-2143eb8baeca"
      },
      "outputs": [
        {
          "output_type": "stream",
          "name": "stdout",
          "text": [
            "139\n",
            "0\n",
            "text     True\n",
            "targe    True\n",
            "dtype: bool\n",
            "17500\n",
            "                                                    text  targe\n",
            "9035   اعلن محمد بنشعبون الرئيس المدير العام لمجموعه ...      2\n",
            "8256   اعلنت شركه الخطوط الجويه الملكيه المغربيه لارا...      2\n",
            "2237   حصدت المثله السينمائيه ساندرا بولوك اربع جوائز...      0\n",
            "7798   ارتفاع حجم المخاطر المرتبطه بمنح دفتر الشيكات ...      2\n",
            "10830  ان اعلنت وزاره الداخليه عن عد طلبات القي ونقل ...      3\n",
            "...                                                  ...    ...\n",
            "9259   طالب مهنيو قطاع الصيد البحري باسبانيا الملكه ا...      2\n",
            "15006  ذكر الاتحاد الدولي لكره القدم الفيفا اليوم الا...      4\n",
            "8656   استعرضت امينه بنخضره المديره العامه لمكتب الوط...      2\n",
            "15441  يعتقد البوسني وحيد خليلوجيتش مدرب الجزائر ان ا...      4\n",
            "11729  لم تكن التصريحات التي ادلي بها رئيس الحكومه عب...      3\n",
            "\n",
            "[17361 rows x 2 columns]\n"
          ]
        }
      ],
      "source": [
        "# clean_df=[]\n",
        "# for i in range(0,len(df)):\n",
        "print(np.sum(df.isnull().any(axis=1)))\n",
        "\n",
        "clean_df= df.dropna()\n",
        "print(np.sum(clean_df.isnull().any(axis=1)))\n",
        "#-------------\n",
        "print (df.notnull().any(axis = 0))\n",
        "print(len(df))\n",
        "#-------------\n",
        "def remove_hashtag(df, col = 'text'):\n",
        "    for letter in r'#.][!XR':\n",
        "      df[col] = df[col].astype(str).str.replace(letter,'', regex=True)\n",
        "    \n",
        "\n",
        "# for i in range(0,len(clean_df)):        \n",
        "remove_hashtag(clean_df)\n",
        "clean_df\n",
        "#-------------\n",
        "arabic_punctuations = '''`÷×؛<>_()*&^%][ـ،/:\"؟.,'{}~¦+|!”…“–ـ'''\n",
        "english_punctuations = string.punctuation\n",
        "punctuations_list = arabic_punctuations + english_punctuations\n",
        "\n",
        "def remove_punctuations(text):\n",
        "    translator = str.maketrans('', '', punctuations_list)\n",
        "    return text.translate(translator)\n",
        "#-------------\n",
        "def normalize_arabic(text):\n",
        "    text = re.sub(\"[إأآا]\", \"ا\", text)\n",
        "    text = re.sub(\"ى\", \"ي\", text)\n",
        "    text = re.sub(\"ة\", \"ه\", text)\n",
        "    text = re.sub(\"گ\", \"ك\", text)\n",
        "    return text\n",
        "#-------------    \n",
        "def remove_repeating_char(text):\n",
        "    return re.sub(r'(.)\\1+', r'\\1', text)\n",
        "#-------------\n",
        "def processDocument(doc, stemmer): \n",
        "\n",
        "    #Replace @username with empty string\n",
        "    doc = re.sub(r'@[^\\s]+', ' ', doc)\n",
        "    doc = re.sub(r'_', ' ', doc)\n",
        "    doc = re.sub(r'\\n', ' ', doc)\n",
        "    doc = re.sub(r'[a-z,A-Z]', '', doc)\n",
        "    doc = re.sub(r'\\d', '', doc)\n",
        "    #Convert www.* or https?://* to \" \"\n",
        "    doc = re.sub('((www\\.[^\\s]+)|(https?://[^\\s]+))',' ',doc)\n",
        "    #Replace #word with word\n",
        "    doc = re.sub(r'#([^\\s]+)', r'\\1', doc)\n",
        "    # remove punctuations\n",
        "    doc= remove_punctuations(doc)\n",
        "    # normalize the tweet\n",
        "    doc= normalize_arabic(doc)\n",
        "    # remove repeated letters\n",
        "    doc=remove_repeating_char(doc)\n",
        "    #stemming\n",
        "    doc = stemmer.stem(doc)\n",
        "    \n",
        "    return doc\n",
        "# for i in range(0,len(clean_df)):\n",
        "stemmer = ISRIStemmer()\n",
        "clean_df[\"text\"] = clean_df['text'].apply(lambda x: processDocument(x, stemmer))\n",
        "print(clean_df)"
      ]
    },
    {
      "cell_type": "markdown",
      "metadata": {
        "id": "7rNrSubY_-K2"
      },
      "source": [
        "----\n",
        "7- عمل تابع لحساب الدقة"
      ]
    },
    {
      "cell_type": "code",
      "execution_count": null,
      "metadata": {
        "id": "dNuFbLERJ32Z"
      },
      "outputs": [],
      "source": [
        "def calculate_results(y_true, y_pred):\n",
        "  # Calculate model accuracy\n",
        "  model_accuracy = accuracy_score(y_true, y_pred) * 100\n",
        "  # Calculate model precision, recall and f1 score using \"weighted\" average\n",
        "  model_precision, model_recall, model_f1, _ = precision_recall_fscore_support(y_true, y_pred, average=\"weighted\")\n",
        "  model_results = {\"accuracy\": model_accuracy,\n",
        "                  \"precision\": model_precision,\n",
        "                  \"recall\": model_recall,\n",
        "                  \"f1\": model_f1}\n",
        "  return model_results"
      ]
    },
    {
      "cell_type": "markdown",
      "metadata": {
        "id": "0W__rb6W_7g-"
      },
      "source": [
        "----\n",
        "8-\n",
        "Tokinaizer:\n",
        "تحويل النصوص إلى أرقام عبر خوازرمية\n",
        "TfidfVectorizer\n",
        "\n",
        "\n"
      ]
    },
    {
      "cell_type": "code",
      "source": [
        "y = clean_df['targe']\n",
        "X = clean_df['text']\n",
        "stopwords_list = stopwords.words('arabic')\n",
        "\n",
        "tfidf = TfidfVectorizer(max_features=1500, min_df=5, max_df=0.7,token_pattern=r\"(?u)\\b\\w\\w+\\b\",stop_words=stopwords_list)\n",
        "\n",
        "y1 = clean_df['targe']\n",
        "X1 = clean_df['text']\n",
        "X1= tfidf.fit_transform (X1) .toarray ()\n"
      ],
      "metadata": {
        "id": "a9xbE07AnyLm"
      },
      "execution_count": null,
      "outputs": []
    },
    {
      "cell_type": "markdown",
      "source": [
        "\n",
        "استخدام خوارزميات\n",
        "\n",
        "DecisionTreeClassifier\n",
        "\n",
        "RandomForestClassifier\n",
        "\n",
        "استخدام خوارزمية \n",
        "Cross validation\n",
        "لتوزيع عينات الاختبار والتأكد من عدم وجود \n",
        "Overfitting"
      ],
      "metadata": {
        "id": "eAXIMBXPnw6N"
      }
    },
    {
      "cell_type": "code",
      "execution_count": null,
      "metadata": {
        "colab": {
          "base_uri": "https://localhost:8080/"
        },
        "id": "yL8T-qutKIbg",
        "outputId": "1608efde-0101-4a28-feba-0abef61fa7ab"
      },
      "outputs": [
        {
          "output_type": "stream",
          "name": "stdout",
          "text": [
            "DecisionTreeClassifier\n",
            "[{'accuracy': 85.92328072802673, 'precision': 0.8597155245851824, 'recall': 0.8592328072802673, 'f1': 0.8594173538327294}, {'accuracy': 84.74654377880184, 'precision': 0.8474033278016389, 'recall': 0.8474654377880184, 'f1': 0.8472375730816838}]\n",
            "RandomForestClassifier\n",
            "[{'accuracy': 94.35548899896325, 'precision': 0.9439723111481049, 'recall': 0.9435548899896326, 'f1': 0.9435889431436126}, {'accuracy': 94.42396313364056, 'precision': 0.9445912896699677, 'recall': 0.9442396313364055, 'f1': 0.9443217905003634}]\n"
          ]
        }
      ],
      "source": [
        "from sklearn import tree\n",
        "from sklearn.model_selection import KFold\n",
        "from sklearn.ensemble import RandomForestClassifier\n",
        "\n",
        "\n",
        "clf = tree.DecisionTreeClassifier(random_state=5)\n",
        "classifier = RandomForestClassifier(n_estimators=1000, random_state=0)\n",
        "\n",
        "from sklearn.model_selection import KFold\n",
        "kf = KFold(n_splits=2,shuffle=False)\n",
        "result_DecisionTreeClassifier=[]\n",
        "result_RandomForestClassifier=[]\n",
        "kf.split(X1)\n",
        "\n",
        "for train_index, test_index in kf.split(X1):\n",
        "    # Split train-test\n",
        "    X_train, X_test = X1[train_index], X1[test_index]\n",
        "    y_train, y_test = y1.iloc[train_index], y1.iloc[test_index]\n",
        "\n",
        "    model = clf.fit(X_train, y_train)\n",
        "    classifier.fit(X_train, y_train)\n",
        "      \n",
        "    y_pred=(model.predict(X_test))\n",
        "    result_DecisionTreeClassifier.append(calculate_results(y_test, y_pred))\n",
        "    y_pred=(classifier.predict(X_test))\n",
        "    result_RandomForestClassifier.append(calculate_results(y_test, y_pred))\n",
        "\n",
        "print('DecisionTreeClassifier')\n",
        "print(result_DecisionTreeClassifier)\n",
        "\n",
        "print('RandomForestClassifier')\n",
        "print(result_RandomForestClassifier)"
      ]
    },
    {
      "cell_type": "code",
      "source": [
        "from sklearn.model_selection import KFold\n",
        "kf = KFold(n_splits=2,shuffle=False)\n",
        "for train_index, test_index in kf.split(X1):\n",
        "    # Split train-test\n",
        "    X_train, X_test = X1[train_index], X1[test_index]\n",
        "    y_train, y_test = y1.iloc[train_index], y1.iloc[test_index]\n",
        "y_train"
      ],
      "metadata": {
        "colab": {
          "base_uri": "https://localhost:8080/"
        },
        "id": "rOx0ME3QpD0T",
        "outputId": "747eaa39-a2c6-424c-d668-6390ae0bef2d"
      },
      "execution_count": null,
      "outputs": [
        {
          "output_type": "execute_result",
          "data": {
            "text/plain": [
              "1740     0\n",
              "7885     2\n",
              "9189     2\n",
              "16072    4\n",
              "13234    3\n",
              "        ..\n",
              "4187     1\n",
              "12194    3\n",
              "9160     2\n",
              "5472     1\n",
              "10751    3\n",
              "Name: targe, Length: 8681, dtype: int64"
            ]
          },
          "metadata": {},
          "execution_count": 11
        }
      ]
    },
    {
      "cell_type": "code",
      "execution_count": null,
      "metadata": {
        "id": "Svx-SEbjnahs"
      },
      "outputs": [],
      "source": [
        "print('DecisionTreeClassifier')\n",
        "result_DecisionTreeClassifier"
      ]
    },
    {
      "cell_type": "code",
      "execution_count": null,
      "metadata": {
        "colab": {
          "base_uri": "https://localhost:8080/"
        },
        "id": "c46FxlE_ncX3",
        "outputId": "4cf287b4-f52f-4013-e069-cfb9cad1b68e"
      },
      "outputs": [
        {
          "name": "stdout",
          "output_type": "stream",
          "text": [
            "RandomForestClassifier\n"
          ]
        },
        {
          "data": {
            "text/plain": [
              "[{'accuracy': 95.11633264224832,\n",
              "  'f1': 0.9511706941827349,\n",
              "  'precision': 0.9512257635924397,\n",
              "  'recall': 0.9511633264224832},\n",
              " {'accuracy': 93.89400921658986,\n",
              "  'f1': 0.9389703724711965,\n",
              "  'precision': 0.939253968879081,\n",
              "  'recall': 0.9389400921658986},\n",
              " {'accuracy': 95.52995391705069,\n",
              "  'f1': 0.9553637855918315,\n",
              "  'precision': 0.9557188165301592,\n",
              "  'recall': 0.9552995391705069},\n",
              " {'accuracy': 94.49308755760369,\n",
              "  'f1': 0.9450576982403098,\n",
              "  'precision': 0.9455910681821194,\n",
              "  'recall': 0.9449308755760368},\n",
              " {'accuracy': 94.26163260593465,\n",
              "  'f1': 0.9426236662346701,\n",
              "  'precision': 0.942887238919576,\n",
              "  'recall': 0.9426163260593465},\n",
              " {'accuracy': 93.89216025863064,\n",
              "  'f1': 0.9389160121768851,\n",
              "  'precision': 0.9391658092124088,\n",
              "  'recall': 0.9389216025863064},\n",
              " {'accuracy': 94.42327675788015,\n",
              "  'f1': 0.9442552480334536,\n",
              "  'precision': 0.944378938314956,\n",
              "  'recall': 0.9442327675788015},\n",
              " {'accuracy': 94.72347304006465,\n",
              "  'f1': 0.947249529153386,\n",
              "  'precision': 0.9473510259763005,\n",
              "  'recall': 0.9472347304006465}]"
            ]
          },
          "execution_count": 8,
          "metadata": {},
          "output_type": "execute_result"
        }
      ],
      "source": [
        "print('RandomForestClassifier')\n",
        "result_RandomForestClassifier"
      ]
    }
  ],
  "metadata": {
    "colab": {
      "collapsed_sections": [],
      "name": "DecisionTree_RandomForest.ipynb",
      "provenance": [],
      "mount_file_id": "1hTusSTu1z4nfJOxhod9zPxd9xiAo_Wt9",
      "authorship_tag": "ABX9TyM3WfvfOVwBAkUeF/QEQdJD",
      "include_colab_link": true
    },
    "kernelspec": {
      "display_name": "Python 3",
      "name": "python3"
    },
    "language_info": {
      "name": "python"
    }
  },
  "nbformat": 4,
  "nbformat_minor": 0
}