{
  "cells": [
    {
      "cell_type": "markdown",
      "metadata": {
        "id": "view-in-github",
        "colab_type": "text"
      },
      "source": [
        "<a href=\"https://colab.research.google.com/github/Hamoda-dabbit/Mining---classification-in-Arabic-Article/blob/main/SVC/SVC_TFIDF.ipynb\" target=\"_parent\"><img src=\"https://colab.research.google.com/assets/colab-badge.svg\" alt=\"Open In Colab\"/></a>"
      ]
    },
    {
      "cell_type": "markdown",
      "metadata": {
        "id": "IAN7PiDfoXor"
      },
      "source": [
        " 1- إستيراد المكتبات"
      ]
    },
    {
      "cell_type": "code",
      "execution_count": 1,
      "metadata": {
        "colab": {
          "base_uri": "https://localhost:8080/"
        },
        "id": "Gh7Z3i1W2fTP",
        "outputId": "1ec138fb-19dd-451b-b23c-20fe4c240a1a"
      },
      "outputs": [
        {
          "output_type": "stream",
          "name": "stderr",
          "text": [
            "[nltk_data] Downloading package stopwords to /root/nltk_data...\n",
            "[nltk_data]   Unzipping corpora/stopwords.zip.\n"
          ]
        }
      ],
      "source": [
        "import warnings\n",
        "warnings.filterwarnings(\"ignore\")\n",
        "import numpy as np\n",
        "import pandas as pd\n",
        "from sklearn.utils import shuffle\n",
        "import nltk\n",
        "nltk.download('stopwords')\n",
        "from nltk.corpus import stopwords\n",
        "from nltk.tokenize import RegexpTokenizer\n",
        "from nltk.stem.isri import ISRIStemmer\n",
        "import re\n",
        "import string\n",
        "from sklearn.feature_extraction.text import TfidfVectorizer\n",
        "from sklearn.pipeline import Pipeline\n",
        "from sklearn.svm import SVC\n",
        "from sklearn.metrics import accuracy_score, precision_recall_fscore_support\n",
        "from joblib import dump"
      ]
    },
    {
      "cell_type": "markdown",
      "metadata": {
        "id": "SraE-Lyfoe9l"
      },
      "source": [
        "--------\n",
        "\n",
        "2- استيراد ملفات البيانات"
      ]
    },
    {
      "cell_type": "code",
      "execution_count": 2,
      "metadata": {
        "colab": {
          "base_uri": "https://localhost:8080/"
        },
        "id": "a0wCUvEf2jLR",
        "outputId": "73b1649a-8ba6-4944-88e3-f097ac296b08"
      },
      "outputs": [
        {
          "output_type": "stream",
          "name": "stdout",
          "text": [
            "<class 'pandas.core.frame.DataFrame'>\n",
            "RangeIndex: 68690 entries, 0 to 68689\n",
            "Data columns (total 2 columns):\n",
            " #   Column  Non-Null Count  Dtype \n",
            "---  ------  --------------  ----- \n",
            " 0   text    68312 non-null  object\n",
            " 1   targe   68690 non-null  int64 \n",
            "dtypes: int64(1), object(1)\n",
            "memory usage: 1.0+ MB\n"
          ]
        }
      ],
      "source": [
        "# df = pd.read_excel(\"drive/MyDrive/mining/1.xlsx\")\n",
        "# df = pd.read_excel(\"drive/MyDrive/mining/2.xlsx\")\n",
        "# df = pd.read_excel(\"drive/MyDrive/mining/3.xlsx\")\n",
        "df = pd.read_excel(\"drive/MyDrive/mining/4.xlsx\")\n",
        "df.info()"
      ]
    },
    {
      "cell_type": "markdown",
      "metadata": {
        "id": "9m4cKsWI2nhC"
      },
      "source": [
        "------\n",
        "3- shuffle  \n",
        "بعثرة البيانات"
      ]
    },
    {
      "cell_type": "code",
      "execution_count": 3,
      "metadata": {
        "colab": {
          "base_uri": "https://localhost:8080/",
          "height": 424
        },
        "id": "4dI9bE4n2pVY",
        "outputId": "fa0b9b3d-542a-464b-d49a-1a119d1b83bc"
      },
      "outputs": [
        {
          "output_type": "execute_result",
          "data": {
            "text/plain": [
              "                                                    text  targe\n",
              "24777  أخبارنا المغربية سناء الوردي بعد حرب الأرقام و...      2\n",
              "30399  أكد المحامي المكلف بملف اللاعب الدولي السابق ع...      4\n",
              "30133  أخبارنا المغربية عـادل الوزانـي رغم اطلاق مجمو...      3\n",
              "65234  أخبارنا المغربية نوفل العمراني اعتدى لاعبو الف...      4\n",
              "24900                                                NaN      2\n",
              "...                                                  ...    ...\n",
              "46860  عضو اللجنة المركزية لحزب الاستقلال طالب بتخصيص...      3\n",
              "42128  شرعت شركة سوني للإلكترونيات في تسويق كاميراتها...      2\n",
              "15341  في ما يلي نتائج مباريات المرحلة الرابعة من الد...      4\n",
              "34646  أخبارنا المغربية ــ متابعة يعتزم أعضاء من جمعي...      0\n",
              "33767  نشرت الفنانة اللبنانية نوال الزغبي صورا على حس...      0\n",
              "\n",
              "[68690 rows x 2 columns]"
            ],
            "text/html": [
              "\n",
              "  <div id=\"df-dfa62d23-7bb0-403e-9a4f-3fd7dfed453b\">\n",
              "    <div class=\"colab-df-container\">\n",
              "      <div>\n",
              "<style scoped>\n",
              "    .dataframe tbody tr th:only-of-type {\n",
              "        vertical-align: middle;\n",
              "    }\n",
              "\n",
              "    .dataframe tbody tr th {\n",
              "        vertical-align: top;\n",
              "    }\n",
              "\n",
              "    .dataframe thead th {\n",
              "        text-align: right;\n",
              "    }\n",
              "</style>\n",
              "<table border=\"1\" class=\"dataframe\">\n",
              "  <thead>\n",
              "    <tr style=\"text-align: right;\">\n",
              "      <th></th>\n",
              "      <th>text</th>\n",
              "      <th>targe</th>\n",
              "    </tr>\n",
              "  </thead>\n",
              "  <tbody>\n",
              "    <tr>\n",
              "      <th>24777</th>\n",
              "      <td>أخبارنا المغربية سناء الوردي بعد حرب الأرقام و...</td>\n",
              "      <td>2</td>\n",
              "    </tr>\n",
              "    <tr>\n",
              "      <th>30399</th>\n",
              "      <td>أكد المحامي المكلف بملف اللاعب الدولي السابق ع...</td>\n",
              "      <td>4</td>\n",
              "    </tr>\n",
              "    <tr>\n",
              "      <th>30133</th>\n",
              "      <td>أخبارنا المغربية عـادل الوزانـي رغم اطلاق مجمو...</td>\n",
              "      <td>3</td>\n",
              "    </tr>\n",
              "    <tr>\n",
              "      <th>65234</th>\n",
              "      <td>أخبارنا المغربية نوفل العمراني اعتدى لاعبو الف...</td>\n",
              "      <td>4</td>\n",
              "    </tr>\n",
              "    <tr>\n",
              "      <th>24900</th>\n",
              "      <td>NaN</td>\n",
              "      <td>2</td>\n",
              "    </tr>\n",
              "    <tr>\n",
              "      <th>...</th>\n",
              "      <td>...</td>\n",
              "      <td>...</td>\n",
              "    </tr>\n",
              "    <tr>\n",
              "      <th>46860</th>\n",
              "      <td>عضو اللجنة المركزية لحزب الاستقلال طالب بتخصيص...</td>\n",
              "      <td>3</td>\n",
              "    </tr>\n",
              "    <tr>\n",
              "      <th>42128</th>\n",
              "      <td>شرعت شركة سوني للإلكترونيات في تسويق كاميراتها...</td>\n",
              "      <td>2</td>\n",
              "    </tr>\n",
              "    <tr>\n",
              "      <th>15341</th>\n",
              "      <td>في ما يلي نتائج مباريات المرحلة الرابعة من الد...</td>\n",
              "      <td>4</td>\n",
              "    </tr>\n",
              "    <tr>\n",
              "      <th>34646</th>\n",
              "      <td>أخبارنا المغربية ــ متابعة يعتزم أعضاء من جمعي...</td>\n",
              "      <td>0</td>\n",
              "    </tr>\n",
              "    <tr>\n",
              "      <th>33767</th>\n",
              "      <td>نشرت الفنانة اللبنانية نوال الزغبي صورا على حس...</td>\n",
              "      <td>0</td>\n",
              "    </tr>\n",
              "  </tbody>\n",
              "</table>\n",
              "<p>68690 rows × 2 columns</p>\n",
              "</div>\n",
              "      <button class=\"colab-df-convert\" onclick=\"convertToInteractive('df-dfa62d23-7bb0-403e-9a4f-3fd7dfed453b')\"\n",
              "              title=\"Convert this dataframe to an interactive table.\"\n",
              "              style=\"display:none;\">\n",
              "        \n",
              "  <svg xmlns=\"http://www.w3.org/2000/svg\" height=\"24px\"viewBox=\"0 0 24 24\"\n",
              "       width=\"24px\">\n",
              "    <path d=\"M0 0h24v24H0V0z\" fill=\"none\"/>\n",
              "    <path d=\"M18.56 5.44l.94 2.06.94-2.06 2.06-.94-2.06-.94-.94-2.06-.94 2.06-2.06.94zm-11 1L8.5 8.5l.94-2.06 2.06-.94-2.06-.94L8.5 2.5l-.94 2.06-2.06.94zm10 10l.94 2.06.94-2.06 2.06-.94-2.06-.94-.94-2.06-.94 2.06-2.06.94z\"/><path d=\"M17.41 7.96l-1.37-1.37c-.4-.4-.92-.59-1.43-.59-.52 0-1.04.2-1.43.59L10.3 9.45l-7.72 7.72c-.78.78-.78 2.05 0 2.83L4 21.41c.39.39.9.59 1.41.59.51 0 1.02-.2 1.41-.59l7.78-7.78 2.81-2.81c.8-.78.8-2.07 0-2.86zM5.41 20L4 18.59l7.72-7.72 1.47 1.35L5.41 20z\"/>\n",
              "  </svg>\n",
              "      </button>\n",
              "      \n",
              "  <style>\n",
              "    .colab-df-container {\n",
              "      display:flex;\n",
              "      flex-wrap:wrap;\n",
              "      gap: 12px;\n",
              "    }\n",
              "\n",
              "    .colab-df-convert {\n",
              "      background-color: #E8F0FE;\n",
              "      border: none;\n",
              "      border-radius: 50%;\n",
              "      cursor: pointer;\n",
              "      display: none;\n",
              "      fill: #1967D2;\n",
              "      height: 32px;\n",
              "      padding: 0 0 0 0;\n",
              "      width: 32px;\n",
              "    }\n",
              "\n",
              "    .colab-df-convert:hover {\n",
              "      background-color: #E2EBFA;\n",
              "      box-shadow: 0px 1px 2px rgba(60, 64, 67, 0.3), 0px 1px 3px 1px rgba(60, 64, 67, 0.15);\n",
              "      fill: #174EA6;\n",
              "    }\n",
              "\n",
              "    [theme=dark] .colab-df-convert {\n",
              "      background-color: #3B4455;\n",
              "      fill: #D2E3FC;\n",
              "    }\n",
              "\n",
              "    [theme=dark] .colab-df-convert:hover {\n",
              "      background-color: #434B5C;\n",
              "      box-shadow: 0px 1px 3px 1px rgba(0, 0, 0, 0.15);\n",
              "      filter: drop-shadow(0px 1px 2px rgba(0, 0, 0, 0.3));\n",
              "      fill: #FFFFFF;\n",
              "    }\n",
              "  </style>\n",
              "\n",
              "      <script>\n",
              "        const buttonEl =\n",
              "          document.querySelector('#df-dfa62d23-7bb0-403e-9a4f-3fd7dfed453b button.colab-df-convert');\n",
              "        buttonEl.style.display =\n",
              "          google.colab.kernel.accessAllowed ? 'block' : 'none';\n",
              "\n",
              "        async function convertToInteractive(key) {\n",
              "          const element = document.querySelector('#df-dfa62d23-7bb0-403e-9a4f-3fd7dfed453b');\n",
              "          const dataTable =\n",
              "            await google.colab.kernel.invokeFunction('convertToInteractive',\n",
              "                                                     [key], {});\n",
              "          if (!dataTable) return;\n",
              "\n",
              "          const docLinkHtml = 'Like what you see? Visit the ' +\n",
              "            '<a target=\"_blank\" href=https://colab.research.google.com/notebooks/data_table.ipynb>data table notebook</a>'\n",
              "            + ' to learn more about interactive tables.';\n",
              "          element.innerHTML = '';\n",
              "          dataTable['output_type'] = 'display_data';\n",
              "          await google.colab.output.renderOutput(dataTable, element);\n",
              "          const docLink = document.createElement('div');\n",
              "          docLink.innerHTML = docLinkHtml;\n",
              "          element.appendChild(docLink);\n",
              "        }\n",
              "      </script>\n",
              "    </div>\n",
              "  </div>\n",
              "  "
            ]
          },
          "metadata": {},
          "execution_count": 3
        }
      ],
      "source": [
        "df=shuffle(df)\n",
        "df"
      ]
    },
    {
      "cell_type": "markdown",
      "metadata": {
        "id": "mo35ApRl2wZ1"
      },
      "source": [
        "------\n",
        "4- clean\n",
        "تنظيف البيانات"
      ]
    },
    {
      "cell_type": "code",
      "execution_count": 4,
      "metadata": {
        "colab": {
          "base_uri": "https://localhost:8080/"
        },
        "id": "x7Jkd1C_2ya8",
        "outputId": "e1ed20f6-66a1-43a1-ff49-37d10ad5afc9"
      },
      "outputs": [
        {
          "output_type": "stream",
          "name": "stdout",
          "text": [
            "378\n",
            "0\n",
            "text     True\n",
            "targe    True\n",
            "dtype: bool\n",
            "68690\n",
            "                                                    text  targe\n",
            "24777  اخبارنا المغربيه سناء الوردي بعد حرب الارقام و...      2\n",
            "30399  اكد المحامي المكلف بملف الاعب الدولي السابق عب...      4\n",
            "30133  اخبارنا المغربيه عادل الوزاني رغم اطلاق مجموعه...      3\n",
            "65234  اخبارنا المغربيه نوفل العمراني اعتدي لاعبو الف...      4\n",
            "5562   تمكن امن العرائش اليوم الخميس من احباط محاوله ...      1\n",
            "...                                                  ...    ...\n",
            "46860  عضو الجنه المركزيه لحزب الاستقلال طالب بتخصيص ...      3\n",
            "42128  شرعت شركه سوني لالكترونيات في تسويق كاميراتها ...      2\n",
            "15341  في ما يلي نتائج مباريات المرحله الرابعه من الد...      4\n",
            "34646  اخبارنا المغربيه متابعه يعتزم اعضاء من جمعيه م...      0\n",
            "33767  نشرت الفنانه البنانيه نوال الزغبي صورا علي حسا...      0\n",
            "\n",
            "[68312 rows x 2 columns]\n"
          ]
        }
      ],
      "source": [
        "print(np.sum(df.isnull().any(axis=1)))\n",
        "\n",
        "clean_df= df.dropna()\n",
        "print(np.sum(clean_df.isnull().any(axis=1)))\n",
        "#-------------\n",
        "print (df.notnull().any(axis = 0))\n",
        "print(len(df))\n",
        "#-------------\n",
        "def remove_hashtag(df, col = 'text'):\n",
        "    for letter in r'#.][!XR':\n",
        "      df[col] = df[col].astype(str).str.replace(letter,'', regex=True)\n",
        "        \n",
        "remove_hashtag(clean_df)\n",
        "clean_df\n",
        "#-------------\n",
        "arabic_punctuations = '''`÷×؛<>_()*&^%][ـ،/:\"؟.,'{}~¦+|!”…“–ـ'''\n",
        "english_punctuations = string.punctuation\n",
        "punctuations_list = arabic_punctuations + english_punctuations\n",
        "\n",
        "def remove_punctuations(text):\n",
        "    translator = str.maketrans('', '', punctuations_list)\n",
        "    return text.translate(translator)\n",
        "#-------------\n",
        "def normalize_arabic(text):\n",
        "    text = re.sub(\"[إأآا]\", \"ا\", text)\n",
        "    text = re.sub(\"ى\", \"ي\", text)\n",
        "    text = re.sub(\"ة\", \"ه\", text)\n",
        "    text = re.sub(\"گ\", \"ك\", text)\n",
        "    return text\n",
        "#-------------    \n",
        "def remove_repeating_char(text):\n",
        "    return re.sub(r'(.)\\1+', r'\\1', text)\n",
        "#-------------\n",
        "def processDocument(doc, stemmer): \n",
        "\n",
        "    #Replace @username with empty string\n",
        "    doc = re.sub(r'@[^\\s]+', ' ', doc)\n",
        "    doc = re.sub(r'_', ' ', doc)\n",
        "    doc = re.sub(r'\\n', ' ', doc)\n",
        "    doc = re.sub(r'[a-z,A-Z]', '', doc)\n",
        "    doc = re.sub(r'\\d', '', doc)\n",
        "    #Convert www.* or https?://* to \" \"\n",
        "    doc = re.sub('((www\\.[^\\s]+)|(https?://[^\\s]+))',' ',doc)\n",
        "    #Replace #word with word\n",
        "    doc = re.sub(r'#([^\\s]+)', r'\\1', doc)\n",
        "    # remove punctuations\n",
        "    doc= remove_punctuations(doc)\n",
        "    # normalize the tweet\n",
        "    doc= normalize_arabic(doc)\n",
        "    # remove repeated letters\n",
        "    doc=remove_repeating_char(doc)\n",
        "    #stemming\n",
        "    doc = stemmer.stem(doc)\n",
        "    \n",
        "    return doc\n",
        "\n",
        "stemmer = ISRIStemmer()\n",
        "clean_df[\"text\"] = clean_df['text'].apply(lambda x: processDocument(x, stemmer))\n",
        "print(clean_df)"
      ]
    },
    {
      "cell_type": "markdown",
      "metadata": {
        "id": "Sdi9quG-o8_t"
      },
      "source": [
        "----\n",
        "\n",
        "5- tokenizer\n",
        "تقسيم كل نص على مستوى الكلمة"
      ]
    },
    {
      "cell_type": "code",
      "execution_count": 5,
      "metadata": {
        "colab": {
          "base_uri": "https://localhost:8080/"
        },
        "id": "uypmleK92zgO",
        "outputId": "7d603506-efc2-480e-ff4b-1717d93bb45c"
      },
      "outputs": [
        {
          "output_type": "stream",
          "name": "stdout",
          "text": [
            "                                                    text  targe\n",
            "24777  [اخبارنا, المغربيه, سناء, الوردي, بعد, حرب, ال...      2\n",
            "30399  [اكد, المحامي, المكلف, بملف, الاعب, الدولي, ال...      4\n",
            "30133  [اخبارنا, المغربيه, عادل, الوزاني, رغم, اطلاق,...      3\n",
            "65234  [اخبارنا, المغربيه, نوفل, العمراني, اعتدي, لاع...      4\n",
            "5562   [تمكن, امن, العرائش, اليوم, الخميس, من, احباط,...      1\n",
            "...                                                  ...    ...\n",
            "46860  [عضو, الجنه, المركزيه, لحزب, الاستقلال, طالب, ...      3\n",
            "42128  [شرعت, شركه, سوني, لالكترونيات, في, تسويق, كام...      2\n",
            "15341  [في, ما, يلي, نتائج, مباريات, المرحله, الرابعه...      4\n",
            "34646  [اخبارنا, المغربيه, متابعه, يعتزم, اعضاء, من, ...      0\n",
            "33767  [نشرت, الفنانه, البنانيه, نوال, الزغبي, صورا, ...      0\n",
            "\n",
            "[68312 rows x 2 columns]\n"
          ]
        }
      ],
      "source": [
        "tokenizer = RegexpTokenizer(r'\\w+')\n",
        "clean_df[\"text\"] = clean_df[\"text\"].apply(tokenizer.tokenize)\n",
        "print(clean_df)"
      ]
    },
    {
      "cell_type": "markdown",
      "metadata": {
        "id": "Np4e31Upq1_Q"
      },
      "source": [
        "---\n",
        "6- Delete StopWords\n",
        "\n",
        "حذف الكلمات غير المؤثرة"
      ]
    },
    {
      "cell_type": "code",
      "execution_count": 6,
      "metadata": {
        "colab": {
          "base_uri": "https://localhost:8080/",
          "height": 462
        },
        "id": "VdZbg0K93Cb4",
        "outputId": "8ad45931-94e0-4de4-87b4-dd6734b07080"
      },
      "outputs": [
        {
          "output_type": "stream",
          "name": "stdout",
          "text": [
            "إذ إذا إذما إذن أف أقل أكثر ألا إلا التي الذي الذين اللاتي اللائي اللتان اللتيا اللتين اللذان اللذين اللواتي إلى إليك إليكم إليكما إليكن أم أما أما إما أن إن إنا أنا أنت أنتم أنتما أنتن إنما إنه أنى أنى آه آها أو أولاء أولئك أوه آي أي أيها إي أين أين أينما إيه بخ بس بعد بعض بك بكم بكم بكما بكن بل بلى بما بماذا بمن بنا به بها بهم بهما بهن بي بين بيد تلك تلكم تلكما ته تي تين تينك ثم ثمة حاشا حبذا حتى حيث حيثما حين خلا دون ذا ذات ذاك ذان ذانك ذلك ذلكم ذلكما ذلكن ذه ذو ذوا ذواتا ذواتي ذي ذين ذينك ريث سوف سوى شتان عدا عسى عل على عليك عليه عما عن عند غير فإذا فإن فلا فمن في فيم فيما فيه فيها قد كأن كأنما كأي كأين كذا كذلك كل كلا كلاهما كلتا كلما كليكما كليهما كم كم كما كي كيت كيف كيفما لا لاسيما لدى لست لستم لستما لستن لسن لسنا لعل لك لكم لكما لكن لكنما لكي لكيلا لم لما لن لنا له لها لهم لهما لهن لو لولا لوما لي لئن ليت ليس ليسا ليست ليستا ليسوا ما ماذا متى مذ مع مما ممن من منه منها منذ مه مهما نحن نحو نعم ها هاتان هاته هاتي هاتين هاك هاهنا هذا هذان هذه هذي هذين هكذا هل هلا هم هما هن هنا هناك هنالك هو هؤلاء هي هيا هيت هيهات والذي والذين وإذ وإذا وإن ولا ولكن ولو وما ومن وهو يا أبٌ أخٌ حمٌ فو أنتِ يناير فبراير مارس أبريل مايو يونيو يوليو أغسطس سبتمبر أكتوبر نوفمبر ديسمبر جانفي فيفري مارس أفريل ماي جوان جويلية أوت كانون شباط آذار نيسان أيار حزيران تموز آب أيلول تشرين دولار دينار ريال درهم ليرة جنيه قرش مليم فلس هللة سنتيم يورو ين يوان شيكل واحد اثنان ثلاثة أربعة خمسة ستة سبعة ثمانية تسعة عشرة أحد اثنا اثني إحدى ثلاث أربع خمس ست سبع ثماني تسع عشر ثمان سبت أحد اثنين ثلاثاء أربعاء خميس جمعة أول ثان ثاني ثالث رابع خامس سادس سابع ثامن تاسع عاشر حادي أ ب ت ث ج ح خ د ذ ر ز س ش ص ض ط ظ ع غ ف ق ك ل م ن ه و ي ء ى آ ؤ ئ أ ة ألف باء تاء ثاء جيم حاء خاء دال ذال راء زاي سين شين صاد ضاد طاء ظاء عين غين فاء قاف كاف لام ميم نون هاء واو ياء همزة ي نا ك كن ه إياه إياها إياهما إياهم إياهن إياك إياكما إياكم إياك إياكن إياي إيانا أولالك تانِ تانِك تِه تِي تَيْنِ ثمّ ثمّة ذانِ ذِه ذِي ذَيْنِ هَؤلاء هَاتانِ هَاتِه هَاتِي هَاتَيْنِ هَذا هَذانِ هَذِه هَذِي هَذَيْنِ الألى الألاء أل أنّى أيّ ّأيّان أنّى أيّ ّأيّان ذيت كأيّ كأيّن بضع فلان وا آمينَ آهِ آهٍ آهاً أُفٍّ أُفٍّ أفٍّ أمامك أمامكَ أوّهْ إلَيْكَ إلَيْكَ إليكَ إليكنّ إيهٍ بخٍ بسّ بَسْ بطآن بَلْهَ حاي حَذارِ حيَّ حيَّ دونك رويدك سرعان شتانَ شَتَّانَ صهْ صهٍ طاق طَق عَدَسْ كِخ مكانَك مكانَك مكانَك مكانكم مكانكما مكانكنّ نَخْ هاكَ هَجْ هلم هيّا هَيْهات وا واهاً وراءَك وُشْكَانَ وَيْ يفعلان تفعلان يفعلون تفعلون تفعلين اتخذ ألفى تخذ ترك تعلَّم جعل حجا حبيب خال حسب خال درى رأى زعم صبر ظنَّ عدَّ علم غادر ذهب وجد ورد وهب أسكن أطعم أعطى رزق زود سقى كسا أخبر أرى أعلم أنبأ حدَث خبَّر نبَّا أفعل به ما أفعله بئس ساء طالما قلما لات لكنَّ ءَ أجل إذاً أمّا إمّا إنَّ أنًّ أى إى أيا ب ثمَّ جلل جير رُبَّ س علًّ ف كأنّ كلَّا كى ل لات لعلَّ لكنَّ لكنَّ م نَّ هلّا وا أل إلّا ت ك لمّا ن ه و ا ي تجاه تلقاء جميع حسب سبحان شبه لعمر مثل معاذ أبو أخو حمو فو مئة مئتان ثلاثمئة أربعمئة خمسمئة ستمئة سبعمئة ثمنمئة تسعمئة مائة ثلاثمائة أربعمائة خمسمائة ستمائة سبعمائة ثمانمئة تسعمائة عشرون ثلاثون اربعون خمسون ستون سبعون ثمانون تسعون عشرين ثلاثين اربعين خمسين ستين سبعين ثمانين تسعين بضع نيف أجمع جميع عامة عين نفس لا سيما أصلا أهلا أيضا بؤسا بعدا بغتة تعسا حقا حمدا خلافا خاصة دواليك سحقا سرا سمعا صبرا صدقا صراحة طرا عجبا عيانا غالبا فرادى فضلا قاطبة كثيرا لبيك معاذ أبدا إزاء أصلا الآن أمد أمس آنفا آناء أنّى أول أيّان تارة ثمّ ثمّة حقا صباح مساء ضحوة عوض غدا غداة قطّ كلّما لدن لمّا مرّة قبل خلف أمام فوق تحت يمين شمال ارتدّ استحال أصبح أضحى آض أمسى انقلب بات تبدّل تحوّل حار رجع راح صار ظلّ عاد غدا كان ما انفك ما برح مادام مازال مافتئ ابتدأ أخذ اخلولق أقبل انبرى أنشأ أوشك جعل حرى شرع طفق علق قام كرب كاد هبّ\n"
          ]
        },
        {
          "output_type": "execute_result",
          "data": {
            "text/plain": [
              "                                                    text  targe\n",
              "24777  [اخبارنا, المغربيه, سناء, الوردي, حرب, الارقام...      2\n",
              "30399  [اكد, المحامي, المكلف, بملف, الاعب, الدولي, ال...      4\n",
              "30133  [اخبارنا, المغربيه, عادل, الوزاني, رغم, اطلاق,...      3\n",
              "65234  [اخبارنا, المغربيه, نوفل, العمراني, اعتدي, لاع...      4\n",
              "5562   [تمكن, امن, العرائش, اليوم, الخميس, احباط, محا...      1\n",
              "...                                                  ...    ...\n",
              "46860  [عضو, الجنه, المركزيه, لحزب, الاستقلال, طالب, ...      3\n",
              "42128  [شرعت, شركه, سوني, لالكترونيات, تسويق, كاميرات...      2\n",
              "15341  [يلي, نتائج, مباريات, المرحله, الرابعه, الدوري...      4\n",
              "34646  [اخبارنا, المغربيه, متابعه, يعتزم, اعضاء, جمعي...      0\n",
              "33767  [نشرت, الفنانه, البنانيه, نوال, الزغبي, صورا, ...      0\n",
              "\n",
              "[68312 rows x 2 columns]"
            ],
            "text/html": [
              "\n",
              "  <div id=\"df-49a6cc52-1c05-4ecd-8229-f350390fe3a3\">\n",
              "    <div class=\"colab-df-container\">\n",
              "      <div>\n",
              "<style scoped>\n",
              "    .dataframe tbody tr th:only-of-type {\n",
              "        vertical-align: middle;\n",
              "    }\n",
              "\n",
              "    .dataframe tbody tr th {\n",
              "        vertical-align: top;\n",
              "    }\n",
              "\n",
              "    .dataframe thead th {\n",
              "        text-align: right;\n",
              "    }\n",
              "</style>\n",
              "<table border=\"1\" class=\"dataframe\">\n",
              "  <thead>\n",
              "    <tr style=\"text-align: right;\">\n",
              "      <th></th>\n",
              "      <th>text</th>\n",
              "      <th>targe</th>\n",
              "    </tr>\n",
              "  </thead>\n",
              "  <tbody>\n",
              "    <tr>\n",
              "      <th>24777</th>\n",
              "      <td>[اخبارنا, المغربيه, سناء, الوردي, حرب, الارقام...</td>\n",
              "      <td>2</td>\n",
              "    </tr>\n",
              "    <tr>\n",
              "      <th>30399</th>\n",
              "      <td>[اكد, المحامي, المكلف, بملف, الاعب, الدولي, ال...</td>\n",
              "      <td>4</td>\n",
              "    </tr>\n",
              "    <tr>\n",
              "      <th>30133</th>\n",
              "      <td>[اخبارنا, المغربيه, عادل, الوزاني, رغم, اطلاق,...</td>\n",
              "      <td>3</td>\n",
              "    </tr>\n",
              "    <tr>\n",
              "      <th>65234</th>\n",
              "      <td>[اخبارنا, المغربيه, نوفل, العمراني, اعتدي, لاع...</td>\n",
              "      <td>4</td>\n",
              "    </tr>\n",
              "    <tr>\n",
              "      <th>5562</th>\n",
              "      <td>[تمكن, امن, العرائش, اليوم, الخميس, احباط, محا...</td>\n",
              "      <td>1</td>\n",
              "    </tr>\n",
              "    <tr>\n",
              "      <th>...</th>\n",
              "      <td>...</td>\n",
              "      <td>...</td>\n",
              "    </tr>\n",
              "    <tr>\n",
              "      <th>46860</th>\n",
              "      <td>[عضو, الجنه, المركزيه, لحزب, الاستقلال, طالب, ...</td>\n",
              "      <td>3</td>\n",
              "    </tr>\n",
              "    <tr>\n",
              "      <th>42128</th>\n",
              "      <td>[شرعت, شركه, سوني, لالكترونيات, تسويق, كاميرات...</td>\n",
              "      <td>2</td>\n",
              "    </tr>\n",
              "    <tr>\n",
              "      <th>15341</th>\n",
              "      <td>[يلي, نتائج, مباريات, المرحله, الرابعه, الدوري...</td>\n",
              "      <td>4</td>\n",
              "    </tr>\n",
              "    <tr>\n",
              "      <th>34646</th>\n",
              "      <td>[اخبارنا, المغربيه, متابعه, يعتزم, اعضاء, جمعي...</td>\n",
              "      <td>0</td>\n",
              "    </tr>\n",
              "    <tr>\n",
              "      <th>33767</th>\n",
              "      <td>[نشرت, الفنانه, البنانيه, نوال, الزغبي, صورا, ...</td>\n",
              "      <td>0</td>\n",
              "    </tr>\n",
              "  </tbody>\n",
              "</table>\n",
              "<p>68312 rows × 2 columns</p>\n",
              "</div>\n",
              "      <button class=\"colab-df-convert\" onclick=\"convertToInteractive('df-49a6cc52-1c05-4ecd-8229-f350390fe3a3')\"\n",
              "              title=\"Convert this dataframe to an interactive table.\"\n",
              "              style=\"display:none;\">\n",
              "        \n",
              "  <svg xmlns=\"http://www.w3.org/2000/svg\" height=\"24px\"viewBox=\"0 0 24 24\"\n",
              "       width=\"24px\">\n",
              "    <path d=\"M0 0h24v24H0V0z\" fill=\"none\"/>\n",
              "    <path d=\"M18.56 5.44l.94 2.06.94-2.06 2.06-.94-2.06-.94-.94-2.06-.94 2.06-2.06.94zm-11 1L8.5 8.5l.94-2.06 2.06-.94-2.06-.94L8.5 2.5l-.94 2.06-2.06.94zm10 10l.94 2.06.94-2.06 2.06-.94-2.06-.94-.94-2.06-.94 2.06-2.06.94z\"/><path d=\"M17.41 7.96l-1.37-1.37c-.4-.4-.92-.59-1.43-.59-.52 0-1.04.2-1.43.59L10.3 9.45l-7.72 7.72c-.78.78-.78 2.05 0 2.83L4 21.41c.39.39.9.59 1.41.59.51 0 1.02-.2 1.41-.59l7.78-7.78 2.81-2.81c.8-.78.8-2.07 0-2.86zM5.41 20L4 18.59l7.72-7.72 1.47 1.35L5.41 20z\"/>\n",
              "  </svg>\n",
              "      </button>\n",
              "      \n",
              "  <style>\n",
              "    .colab-df-container {\n",
              "      display:flex;\n",
              "      flex-wrap:wrap;\n",
              "      gap: 12px;\n",
              "    }\n",
              "\n",
              "    .colab-df-convert {\n",
              "      background-color: #E8F0FE;\n",
              "      border: none;\n",
              "      border-radius: 50%;\n",
              "      cursor: pointer;\n",
              "      display: none;\n",
              "      fill: #1967D2;\n",
              "      height: 32px;\n",
              "      padding: 0 0 0 0;\n",
              "      width: 32px;\n",
              "    }\n",
              "\n",
              "    .colab-df-convert:hover {\n",
              "      background-color: #E2EBFA;\n",
              "      box-shadow: 0px 1px 2px rgba(60, 64, 67, 0.3), 0px 1px 3px 1px rgba(60, 64, 67, 0.15);\n",
              "      fill: #174EA6;\n",
              "    }\n",
              "\n",
              "    [theme=dark] .colab-df-convert {\n",
              "      background-color: #3B4455;\n",
              "      fill: #D2E3FC;\n",
              "    }\n",
              "\n",
              "    [theme=dark] .colab-df-convert:hover {\n",
              "      background-color: #434B5C;\n",
              "      box-shadow: 0px 1px 3px 1px rgba(0, 0, 0, 0.15);\n",
              "      filter: drop-shadow(0px 1px 2px rgba(0, 0, 0, 0.3));\n",
              "      fill: #FFFFFF;\n",
              "    }\n",
              "  </style>\n",
              "\n",
              "      <script>\n",
              "        const buttonEl =\n",
              "          document.querySelector('#df-49a6cc52-1c05-4ecd-8229-f350390fe3a3 button.colab-df-convert');\n",
              "        buttonEl.style.display =\n",
              "          google.colab.kernel.accessAllowed ? 'block' : 'none';\n",
              "\n",
              "        async function convertToInteractive(key) {\n",
              "          const element = document.querySelector('#df-49a6cc52-1c05-4ecd-8229-f350390fe3a3');\n",
              "          const dataTable =\n",
              "            await google.colab.kernel.invokeFunction('convertToInteractive',\n",
              "                                                     [key], {});\n",
              "          if (!dataTable) return;\n",
              "\n",
              "          const docLinkHtml = 'Like what you see? Visit the ' +\n",
              "            '<a target=\"_blank\" href=https://colab.research.google.com/notebooks/data_table.ipynb>data table notebook</a>'\n",
              "            + ' to learn more about interactive tables.';\n",
              "          element.innerHTML = '';\n",
              "          dataTable['output_type'] = 'display_data';\n",
              "          await google.colab.output.renderOutput(dataTable, element);\n",
              "          const docLink = document.createElement('div');\n",
              "          docLink.innerHTML = docLinkHtml;\n",
              "          element.appendChild(docLink);\n",
              "        }\n",
              "      </script>\n",
              "    </div>\n",
              "  </div>\n",
              "  "
            ]
          },
          "metadata": {},
          "execution_count": 6
        }
      ],
      "source": [
        "stopwords_list = stopwords.words('arabic')\n",
        "listToStr = ' '.join([str(elem) for elem in stopwords_list]) \n",
        "print(listToStr)\n",
        "#-------------\n",
        "clean_df[\"text\"] = clean_df[\"text\"].apply(lambda x: [item for item in x if item not in stopwords_list])\n",
        "((clean_df))"
      ]
    },
    {
      "cell_type": "markdown",
      "metadata": {
        "id": "js5rp_PArIiB"
      },
      "source": [
        "----\n",
        "7- عمل تابع لحساب الدقة"
      ]
    },
    {
      "cell_type": "code",
      "execution_count": null,
      "metadata": {
        "id": "zdiv_uBP3FwV"
      },
      "outputs": [],
      "source": [
        "def calculate_results(y_true, y_pred):\n",
        "  # Calculate model accuracy\n",
        "  model_accuracy = accuracy_score(y_true, y_pred) * 100\n",
        "  # Calculate model precision, recall and f1 score using \"weighted\" average\n",
        "  model_precision, model_recall, model_f1, _ = precision_recall_fscore_support(y_true, y_pred, average=\"weighted\")\n",
        "  model_results = {\"accuracy\": model_accuracy,\n",
        "                  \"precision\": model_precision,\n",
        "                  \"recall\": model_recall,\n",
        "                  \"f1\": model_f1}\n",
        "  return model_results"
      ]
    },
    {
      "cell_type": "markdown",
      "metadata": {
        "id": "iRUZfy4arNaF"
      },
      "source": [
        "------------\n",
        "8- classifier:SVC & TfIdfVectorizer\n",
        "\n",
        "with Cross validation\n",
        "\n",
        "\n",
        "\n",
        "التنصنيف عبر خوارزمية\n",
        "\n",
        "SVC\n",
        "\n",
        "مع ميزة\n",
        "\n",
        "TfIdfVectorizer\n",
        "\n",
        "واستخدام خوارزمية\n",
        "\n",
        "Cross validation\n",
        "\n",
        "لتوزيع عينات الاختبار والتأكد من عدم وجود\n",
        "\n",
        "Overfitting"
      ]
    },
    {
      "cell_type": "code",
      "execution_count": 8,
      "metadata": {
        "colab": {
          "base_uri": "https://localhost:8080/"
        },
        "id": "BXDbLKMh3t-8",
        "outputId": "6fafab65-9ced-46b8-a907-d68a6142a37b"
      },
      "outputs": [
        {
          "data": {
            "text/plain": [
              "[{'accuracy': 95.05796931725027,\n",
              "  'f1': 0.9505694001631746,\n",
              "  'precision': 0.9506118505028125,\n",
              "  'recall': 0.9505796931725027},\n",
              " {'accuracy': 94.81203888043096,\n",
              "  'f1': 0.9480809275456434,\n",
              "  'precision': 0.9480823765319017,\n",
              "  'recall': 0.9481203888043096},\n",
              " {'accuracy': 95.36831010656985,\n",
              "  'f1': 0.9536585368304017,\n",
              "  'precision': 0.9536470537086641,\n",
              "  'recall': 0.9536831010656985},\n",
              " {'accuracy': 95.2277784283874,\n",
              "  'f1': 0.9522974669838242,\n",
              "  'precision': 0.9523328416109652,\n",
              "  'recall': 0.952277784283874}]"
            ]
          },
          "execution_count": 8,
          "metadata": {},
          "output_type": "execute_result"
        }
      ],
      "source": [
        "word_vectorizer = TfidfVectorizer(\n",
        "    sublinear_tf=True,\n",
        "    strip_accents='unicode',\n",
        "    analyzer='word',\n",
        "    ngram_range=(1, 1),\n",
        "    max_features =10000)\n",
        "\n",
        "model = Pipeline([\n",
        "                    (\"tfidf\", word_vectorizer), # convert words to numbers using tfidf\n",
        "                    (\"clf\", SVC()) # model the text\n",
        "])\n",
        "\n",
        "from sklearn.model_selection import KFold\n",
        "kf = KFold(n_splits=4,shuffle=False)\n",
        "result_Pipeline=[]\n",
        "# for i in range(0,len(clean_df)):\n",
        "y1 = clean_df['targe']\n",
        "X1 = clean_df['text']\n",
        "\n",
        "kf.split(X1)\n",
        "j =0\n",
        "for train_index, test_index in kf.split(X1):\n",
        "#     # Split train-test\n",
        "    X_train, X_test = X1.iloc[train_index], X1.iloc[test_index]\n",
        "    y_train, y_test = y1.iloc[train_index], y1.iloc[test_index]\n",
        "    model.fit(X_train.astype('str'), y_train)\n",
        "    dump(model, \"svm_model.joblib\")\n",
        "    \n",
        "    y_pred=(model.predict(X_test.astype('str')))\n",
        "    result_Pipeline.append(calculate_results(y_test, y_pred))\n",
        "\n",
        "result_Pipeline"
      ]
    },
    {
      "cell_type": "code",
      "source": [
        "accuracy=0\n",
        "f1=0\n",
        "precision=0\n",
        "recall=0\n",
        "for i in result_Pipeline:\n",
        "  accuracy+=(i['accuracy'])\n",
        "  f1+=(i['f1'])\n",
        "  precision+=(i['precision'])\n",
        "  recall+=(i['recall'])\n",
        "\n",
        "accuracy=accuracy/len(result_Pipeline)\n",
        "f1=f1/len(result_Pipeline)\n",
        "precision=precision/len(result_Pipeline)\n",
        "recall=recall/len(result_Pipeline)\n",
        "# (result_DecisionTreeClassifier)\n",
        "results_Pipeline=[{'accuracy':accuracy,'f1':f1,'precision':precision,'recall':recall}]\n",
        "results_Pipeline"
      ],
      "metadata": {
        "colab": {
          "base_uri": "https://localhost:8080/"
        },
        "outputId": "39fc60c0-27f5-4d77-b371-9a3d647d7e78",
        "id": "_Kb8CK_JgJSH"
      },
      "execution_count": null,
      "outputs": [
        {
          "output_type": "execute_result",
          "data": {
            "text/plain": [
              "[{'accuracy': 95.11652418315961,\n",
              "  'f1': 0.951151582880761,\n",
              "  'precision': 0.9511685305885859,\n",
              "  'recall': 0.9511652418315961}]"
            ]
          },
          "metadata": {},
          "execution_count": 9
        }
      ]
    },
    {
      "cell_type": "markdown",
      "metadata": {
        "id": "Hue08t2XtVPj"
      },
      "source": [
        "-------\n",
        "--------\n",
        "-------\n",
        "\n",
        "9-Results\n",
        "\n",
        "النتائج\n",
        "\n",
        "نتائج التدريب لكل قاعدة بيانات"
      ]
    },
    {
      "cell_type": "code",
      "execution_count": 18,
      "metadata": {
        "id": "hgb6B_5rptXt",
        "colab": {
          "base_uri": "https://localhost:8080/"
        },
        "outputId": "147b2712-e097-4eed-c901-b074020c6de6"
      },
      "outputs": [
        {
          "output_type": "stream",
          "name": "stdout",
          "text": [
            "Pipeline results in dataset 1:\n"
          ]
        },
        {
          "output_type": "execute_result",
          "data": {
            "text/plain": [
              "[{'accuracy': 96.89533114224355,\n",
              "  'f1': 0.9689985341982958,\n",
              "  'precision': 0.9690937439771347,\n",
              "  'recall': 0.9689533114224355}]"
            ]
          },
          "metadata": {},
          "execution_count": 18
        }
      ],
      "source": [
        "print('Pipeline results in dataset 1:')\n",
        "results_Pipeline"
      ]
    },
    {
      "cell_type": "code",
      "execution_count": 10,
      "metadata": {
        "colab": {
          "base_uri": "https://localhost:8080/"
        },
        "outputId": "0306977f-04a6-4320-db08-23ced516c67f",
        "id": "GIxG9ceJ6GIc"
      },
      "outputs": [
        {
          "output_type": "stream",
          "name": "stdout",
          "text": [
            "Pipeline results in dataset 2:\n"
          ]
        },
        {
          "output_type": "execute_result",
          "data": {
            "text/plain": [
              "[{'accuracy': 96.70650040411039,\n",
              "  'f1': 0.9670976908703979,\n",
              "  'precision': 0.9671582117740604,\n",
              "  'recall': 0.9670650040411037}]"
            ]
          },
          "metadata": {},
          "execution_count": 10
        }
      ],
      "source": [
        "print('Pipeline results in dataset 2:')\n",
        "results_Pipeline"
      ]
    },
    {
      "cell_type": "code",
      "execution_count": 10,
      "metadata": {
        "colab": {
          "base_uri": "https://localhost:8080/"
        },
        "outputId": "76921dee-79f3-417c-bf62-25f1c9a8ae06",
        "id": "KvUt5GHL6GTG"
      },
      "outputs": [
        {
          "output_type": "stream",
          "name": "stdout",
          "text": [
            "Pipeline results in dataset 3:\n"
          ]
        },
        {
          "output_type": "execute_result",
          "data": {
            "text/plain": [
              "[{'accuracy': 95.45393519602939,\n",
              "  'f1': 0.9545394323284653,\n",
              "  'precision': 0.9545786090267925,\n",
              "  'recall': 0.9545393519602939}]"
            ]
          },
          "metadata": {},
          "execution_count": 10
        }
      ],
      "source": [
        "print('Pipeline results in dataset 3:')\n",
        "results_Pipeline"
      ]
    },
    {
      "cell_type": "code",
      "execution_count": 10,
      "metadata": {
        "colab": {
          "base_uri": "https://localhost:8080/"
        },
        "outputId": "eaece976-9788-4f68-b359-3418cbe50259",
        "id": "esXlMICb6Gbx"
      },
      "outputs": [
        {
          "output_type": "stream",
          "name": "stdout",
          "text": [
            "Pipeline results in dataset 4:\n"
          ]
        },
        {
          "output_type": "execute_result",
          "data": {
            "text/plain": [
              "[{'accuracy': 95.11652418315961,\n",
              "  'f1': 0.951151582880761,\n",
              "  'precision': 0.9511685305885859,\n",
              "  'recall': 0.9511652418315961}]"
            ]
          },
          "metadata": {},
          "execution_count": 10
        }
      ],
      "source": [
        "print('Pipeline results in dataset 4:')\n",
        "results_Pipeline"
      ]
    },
    {
      "cell_type": "code",
      "source": [
        "Final_Result=[\n",
        "  {'accuracy': 96.89533114224355,\n",
        "  'f1': 0.9689985341982958,\n",
        "  'precision': 0.9690937439771347,\n",
        "  'recall': 0.9689533114224355}\n",
        "  ,\n",
        " {'accuracy': 96.70650040411039,\n",
        "  'f1': 0.9670976908703979,\n",
        "  'precision': 0.9671582117740604,\n",
        "  'recall': 0.9670650040411037}\n",
        "  ,\n",
        " {'accuracy': 95.45393519602939,\n",
        "  'f1': 0.9545394323284653,\n",
        "  'precision': 0.9545786090267925,\n",
        "  'recall': 0.9545393519602939}\n",
        "  ,\n",
        " {'accuracy': 95.11652418315961,\n",
        "  'f1': 0.951151582880761,\n",
        "  'precision': 0.9511685305885859,\n",
        "  'recall': 0.9511652418315961}\n",
        "  ]\n",
        "\n",
        "accuracy=0\n",
        "f1=0\n",
        "precision=0\n",
        "recall=0\n",
        "for i in Final_Result:\n",
        "  accuracy+=(i['accuracy'])\n",
        "  f1+=(i['f1'])\n",
        "  precision+=(i['precision'])\n",
        "  recall+=(i['recall'])\n",
        "\n",
        "accuracy=accuracy/len(Final_Result)\n",
        "f1=f1/len(Final_Result)\n",
        "precision=precision/len(Final_Result)\n",
        "recall=recall/len(Final_Result)\n",
        "# (result_DecisionTreeClassifier)\n",
        "Final_Result=[{'accuracy':accuracy,'f1':f1,'precision':precision,'recall':recall}]\n",
        "\n",
        "print('Final_Result:')\n",
        "(Final_Result)"
      ],
      "metadata": {
        "id": "-lB0leWu1IwK",
        "colab": {
          "base_uri": "https://localhost:8080/"
        },
        "outputId": "e857a0a3-8f33-49a2-850a-b1d51640f69c"
      },
      "execution_count": 12,
      "outputs": [
        {
          "output_type": "stream",
          "name": "stdout",
          "text": [
            "Final_Result:\n"
          ]
        },
        {
          "output_type": "execute_result",
          "data": {
            "text/plain": [
              "[{'accuracy': 96.04307273138573,\n",
              "  'f1': 0.96044681006948,\n",
              "  'precision': 0.9604997738416433,\n",
              "  'recall': 0.9604307273138573}]"
            ]
          },
          "metadata": {},
          "execution_count": 12
        }
      ]
    }
  ],
  "metadata": {
    "colab": {
      "collapsed_sections": [],
      "name": "SVC_TFIDF.ipynb",
      "provenance": [],
      "mount_file_id": "19B5IoS7xV5yxpbsujuu_BrvY9Pta6eSJ",
      "authorship_tag": "ABX9TyNuHP95CYeEViY29NrXEpUA",
      "include_colab_link": true
    },
    "kernelspec": {
      "display_name": "Python 3",
      "name": "python3"
    },
    "language_info": {
      "name": "python"
    },
    "gpuClass": "standard"
  },
  "nbformat": 4,
  "nbformat_minor": 0
}