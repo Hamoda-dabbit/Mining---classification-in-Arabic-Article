{
  "nbformat": 4,
  "nbformat_minor": 0,
  "metadata": {
    "colab": {
      "name": "NN_CV.ipynb",
      "provenance": [],
      "collapsed_sections": [],
      "mount_file_id": "https://github.com/Hamoda-dabbit/Mining---classification-in-Arabic-Article/blob/main/CNN/NN_CV.ipynb",
      "authorship_tag": "ABX9TyNwYVmIKor3Ckzk4i8y6+KM",
      "include_colab_link": true
    },
    "kernelspec": {
      "name": "python3",
      "display_name": "Python 3"
    },
    "language_info": {
      "name": "python"
    }
  },
  "cells": [
    {
      "cell_type": "markdown",
      "metadata": {
        "id": "view-in-github",
        "colab_type": "text"
      },
      "source": [
        "<a href=\"https://colab.research.google.com/github/Hamoda-dabbit/Mining---classification-in-Arabic-Article/blob/main/CNN/NN_CV_withoutClean.ipynb\" target=\"_parent\"><img src=\"https://colab.research.google.com/assets/colab-badge.svg\" alt=\"Open In Colab\"/></a>"
      ]
    },
    {
      "cell_type": "markdown",
      "source": [
        "**Classification by Neural Network and Count Vectorizer**\n",
        "\n",
        "without clean\n",
        "\n",
        "----------"
      ],
      "metadata": {
        "id": "RsFRy0mOXz2p"
      }
    },
    {
      "cell_type": "markdown",
      "metadata": {
        "id": "IAN7PiDfoXor"
      },
      "source": [
        " import library\n",
        "\n",
        "  إستيراد المكتبات"
      ]
    },
    {
      "cell_type": "code",
      "execution_count": 1,
      "metadata": {
        "colab": {
          "base_uri": "https://localhost:8080/"
        },
        "id": "Gh7Z3i1W2fTP",
        "outputId": "a3a0b1d4-23a1-41e5-f647-6603cd3d8f3c"
      },
      "outputs": [
        {
          "output_type": "stream",
          "name": "stderr",
          "text": [
            "[nltk_data] Downloading package stopwords to /root/nltk_data...\n",
            "[nltk_data]   Unzipping corpora/stopwords.zip.\n"
          ]
        }
      ],
      "source": [
        "import warnings\n",
        "warnings.filterwarnings(\"ignore\")\n",
        "import numpy as np\n",
        "import pandas as pd\n",
        "from sklearn.utils import shuffle\n",
        "import nltk\n",
        "nltk.download('stopwords')\n",
        "from nltk.stem.isri import ISRIStemmer\n",
        "import re\n",
        "import string\n",
        "from sklearn.metrics import accuracy_score, precision_recall_fscore_support\n"
      ]
    },
    {
      "cell_type": "markdown",
      "metadata": {
        "id": "SraE-Lyfoe9l"
      },
      "source": [
        "--------\n",
        "\n",
        "**1- Import Data set**"
      ]
    },
    {
      "cell_type": "code",
      "execution_count": 2,
      "metadata": {
        "colab": {
          "base_uri": "https://localhost:8080/",
          "height": 206
        },
        "id": "a0wCUvEf2jLR",
        "outputId": "a0f8a24c-76fb-4d1b-9cd1-4a5991bdfe1a"
      },
      "outputs": [
        {
          "output_type": "execute_result",
          "data": {
            "text/plain": [
              "                                                text  targe\n",
              "0  أكد وزير الاتصال الناطق الرسمي باسم الحكومة مص...      0\n",
              "1  عبدالاله بوسحابة أخبارنا المغربية أثار فيلم أل...      0\n",
              "2  عبدالاله بوسحابة اخبارنا المغربية أبدى القائمو...      0\n",
              "3  أخبارنا المغربية اختار الفنان المغربي البشير ع...      0\n",
              "4  المادة الأولى على ملك غرناطة القادة الفقهاء ال...      0"
            ],
            "text/html": [
              "\n",
              "  <div id=\"df-04a5cb2b-a64d-4183-a86f-b7f67c1a8aaa\">\n",
              "    <div class=\"colab-df-container\">\n",
              "      <div>\n",
              "<style scoped>\n",
              "    .dataframe tbody tr th:only-of-type {\n",
              "        vertical-align: middle;\n",
              "    }\n",
              "\n",
              "    .dataframe tbody tr th {\n",
              "        vertical-align: top;\n",
              "    }\n",
              "\n",
              "    .dataframe thead th {\n",
              "        text-align: right;\n",
              "    }\n",
              "</style>\n",
              "<table border=\"1\" class=\"dataframe\">\n",
              "  <thead>\n",
              "    <tr style=\"text-align: right;\">\n",
              "      <th></th>\n",
              "      <th>text</th>\n",
              "      <th>targe</th>\n",
              "    </tr>\n",
              "  </thead>\n",
              "  <tbody>\n",
              "    <tr>\n",
              "      <th>0</th>\n",
              "      <td>أكد وزير الاتصال الناطق الرسمي باسم الحكومة مص...</td>\n",
              "      <td>0</td>\n",
              "    </tr>\n",
              "    <tr>\n",
              "      <th>1</th>\n",
              "      <td>عبدالاله بوسحابة أخبارنا المغربية أثار فيلم أل...</td>\n",
              "      <td>0</td>\n",
              "    </tr>\n",
              "    <tr>\n",
              "      <th>2</th>\n",
              "      <td>عبدالاله بوسحابة اخبارنا المغربية أبدى القائمو...</td>\n",
              "      <td>0</td>\n",
              "    </tr>\n",
              "    <tr>\n",
              "      <th>3</th>\n",
              "      <td>أخبارنا المغربية اختار الفنان المغربي البشير ع...</td>\n",
              "      <td>0</td>\n",
              "    </tr>\n",
              "    <tr>\n",
              "      <th>4</th>\n",
              "      <td>المادة الأولى على ملك غرناطة القادة الفقهاء ال...</td>\n",
              "      <td>0</td>\n",
              "    </tr>\n",
              "  </tbody>\n",
              "</table>\n",
              "</div>\n",
              "      <button class=\"colab-df-convert\" onclick=\"convertToInteractive('df-04a5cb2b-a64d-4183-a86f-b7f67c1a8aaa')\"\n",
              "              title=\"Convert this dataframe to an interactive table.\"\n",
              "              style=\"display:none;\">\n",
              "        \n",
              "  <svg xmlns=\"http://www.w3.org/2000/svg\" height=\"24px\"viewBox=\"0 0 24 24\"\n",
              "       width=\"24px\">\n",
              "    <path d=\"M0 0h24v24H0V0z\" fill=\"none\"/>\n",
              "    <path d=\"M18.56 5.44l.94 2.06.94-2.06 2.06-.94-2.06-.94-.94-2.06-.94 2.06-2.06.94zm-11 1L8.5 8.5l.94-2.06 2.06-.94-2.06-.94L8.5 2.5l-.94 2.06-2.06.94zm10 10l.94 2.06.94-2.06 2.06-.94-2.06-.94-.94-2.06-.94 2.06-2.06.94z\"/><path d=\"M17.41 7.96l-1.37-1.37c-.4-.4-.92-.59-1.43-.59-.52 0-1.04.2-1.43.59L10.3 9.45l-7.72 7.72c-.78.78-.78 2.05 0 2.83L4 21.41c.39.39.9.59 1.41.59.51 0 1.02-.2 1.41-.59l7.78-7.78 2.81-2.81c.8-.78.8-2.07 0-2.86zM5.41 20L4 18.59l7.72-7.72 1.47 1.35L5.41 20z\"/>\n",
              "  </svg>\n",
              "      </button>\n",
              "      \n",
              "  <style>\n",
              "    .colab-df-container {\n",
              "      display:flex;\n",
              "      flex-wrap:wrap;\n",
              "      gap: 12px;\n",
              "    }\n",
              "\n",
              "    .colab-df-convert {\n",
              "      background-color: #E8F0FE;\n",
              "      border: none;\n",
              "      border-radius: 50%;\n",
              "      cursor: pointer;\n",
              "      display: none;\n",
              "      fill: #1967D2;\n",
              "      height: 32px;\n",
              "      padding: 0 0 0 0;\n",
              "      width: 32px;\n",
              "    }\n",
              "\n",
              "    .colab-df-convert:hover {\n",
              "      background-color: #E2EBFA;\n",
              "      box-shadow: 0px 1px 2px rgba(60, 64, 67, 0.3), 0px 1px 3px 1px rgba(60, 64, 67, 0.15);\n",
              "      fill: #174EA6;\n",
              "    }\n",
              "\n",
              "    [theme=dark] .colab-df-convert {\n",
              "      background-color: #3B4455;\n",
              "      fill: #D2E3FC;\n",
              "    }\n",
              "\n",
              "    [theme=dark] .colab-df-convert:hover {\n",
              "      background-color: #434B5C;\n",
              "      box-shadow: 0px 1px 3px 1px rgba(0, 0, 0, 0.15);\n",
              "      filter: drop-shadow(0px 1px 2px rgba(0, 0, 0, 0.3));\n",
              "      fill: #FFFFFF;\n",
              "    }\n",
              "  </style>\n",
              "\n",
              "      <script>\n",
              "        const buttonEl =\n",
              "          document.querySelector('#df-04a5cb2b-a64d-4183-a86f-b7f67c1a8aaa button.colab-df-convert');\n",
              "        buttonEl.style.display =\n",
              "          google.colab.kernel.accessAllowed ? 'block' : 'none';\n",
              "\n",
              "        async function convertToInteractive(key) {\n",
              "          const element = document.querySelector('#df-04a5cb2b-a64d-4183-a86f-b7f67c1a8aaa');\n",
              "          const dataTable =\n",
              "            await google.colab.kernel.invokeFunction('convertToInteractive',\n",
              "                                                     [key], {});\n",
              "          if (!dataTable) return;\n",
              "\n",
              "          const docLinkHtml = 'Like what you see? Visit the ' +\n",
              "            '<a target=\"_blank\" href=https://colab.research.google.com/notebooks/data_table.ipynb>data table notebook</a>'\n",
              "            + ' to learn more about interactive tables.';\n",
              "          element.innerHTML = '';\n",
              "          dataTable['output_type'] = 'display_data';\n",
              "          await google.colab.output.renderOutput(dataTable, element);\n",
              "          const docLink = document.createElement('div');\n",
              "          docLink.innerHTML = docLinkHtml;\n",
              "          element.appendChild(docLink);\n",
              "        }\n",
              "      </script>\n",
              "    </div>\n",
              "  </div>\n",
              "  "
            ]
          },
          "metadata": {},
          "execution_count": 2
        }
      ],
      "source": [
        "# df = pd.read_excel(\"drive/MyDrive/mining/1.xlsx\")\n",
        "# df = pd.read_excel(\"drive/MyDrive/mining/2.xlsx\")\n",
        "# df = pd.read_excel(\"drive/MyDrive/mining/3.xlsx\")\n",
        "df = pd.read_excel(\"drive/MyDrive/mining/4.xlsx\")\n",
        "df.head()"
      ]
    },
    {
      "cell_type": "markdown",
      "metadata": {
        "id": "9m4cKsWI2nhC"
      },
      "source": [
        "------\n",
        "shuffle  \n",
        "بعثرة البيانات"
      ]
    },
    {
      "cell_type": "code",
      "execution_count": 3,
      "metadata": {
        "colab": {
          "base_uri": "https://localhost:8080/",
          "height": 424
        },
        "id": "4dI9bE4n2pVY",
        "outputId": "1bd0173b-fff0-48de-b1aa-aadcffc3d4a9"
      },
      "outputs": [
        {
          "output_type": "execute_result",
          "data": {
            "text/plain": [
              "                                                    text  targe\n",
              "34306  أخبارنا المغربية متابعة يستعد بدر هاري البطل ا...      0\n",
              "13070  اغتنم يوسف العربي المهاجم الدولي المغربي لفريق...      4\n",
              "44130  عبد الرحيم مرزوقي أصدرت نقابة الإتحاد المغربي ...      2\n",
              "42207  استخلاص مليون درهم إضافية من الرسوم بلغت قيمة ...      2\n",
              "10718  أخبارنا المغربية فاس فاز إدريس الأزمي الوزير ا...      3\n",
              "...                                                  ...    ...\n",
              "11708  رحب الرئيس الفرنسي فرنسوا هولاند الخميس بما وص...      3\n",
              "64737  ثم خالد الشرقاوي السموني أستاذ القانون الدستور...      3\n",
              "44540  في سياق الجدل المرتبط بالمادة مكرر المتضمنة في...      3\n",
              "807    تابعة نفى المخرج رامي إمام مساء السبت شائعة وف...      0\n",
              "31532  فاز فريق الوداد البيضاوي على ضيفه نهضة بركان ب...      4\n",
              "\n",
              "[68690 rows x 2 columns]"
            ],
            "text/html": [
              "\n",
              "  <div id=\"df-ff391e15-a595-49d1-accc-e70ee30d3609\">\n",
              "    <div class=\"colab-df-container\">\n",
              "      <div>\n",
              "<style scoped>\n",
              "    .dataframe tbody tr th:only-of-type {\n",
              "        vertical-align: middle;\n",
              "    }\n",
              "\n",
              "    .dataframe tbody tr th {\n",
              "        vertical-align: top;\n",
              "    }\n",
              "\n",
              "    .dataframe thead th {\n",
              "        text-align: right;\n",
              "    }\n",
              "</style>\n",
              "<table border=\"1\" class=\"dataframe\">\n",
              "  <thead>\n",
              "    <tr style=\"text-align: right;\">\n",
              "      <th></th>\n",
              "      <th>text</th>\n",
              "      <th>targe</th>\n",
              "    </tr>\n",
              "  </thead>\n",
              "  <tbody>\n",
              "    <tr>\n",
              "      <th>34306</th>\n",
              "      <td>أخبارنا المغربية متابعة يستعد بدر هاري البطل ا...</td>\n",
              "      <td>0</td>\n",
              "    </tr>\n",
              "    <tr>\n",
              "      <th>13070</th>\n",
              "      <td>اغتنم يوسف العربي المهاجم الدولي المغربي لفريق...</td>\n",
              "      <td>4</td>\n",
              "    </tr>\n",
              "    <tr>\n",
              "      <th>44130</th>\n",
              "      <td>عبد الرحيم مرزوقي أصدرت نقابة الإتحاد المغربي ...</td>\n",
              "      <td>2</td>\n",
              "    </tr>\n",
              "    <tr>\n",
              "      <th>42207</th>\n",
              "      <td>استخلاص مليون درهم إضافية من الرسوم بلغت قيمة ...</td>\n",
              "      <td>2</td>\n",
              "    </tr>\n",
              "    <tr>\n",
              "      <th>10718</th>\n",
              "      <td>أخبارنا المغربية فاس فاز إدريس الأزمي الوزير ا...</td>\n",
              "      <td>3</td>\n",
              "    </tr>\n",
              "    <tr>\n",
              "      <th>...</th>\n",
              "      <td>...</td>\n",
              "      <td>...</td>\n",
              "    </tr>\n",
              "    <tr>\n",
              "      <th>11708</th>\n",
              "      <td>رحب الرئيس الفرنسي فرنسوا هولاند الخميس بما وص...</td>\n",
              "      <td>3</td>\n",
              "    </tr>\n",
              "    <tr>\n",
              "      <th>64737</th>\n",
              "      <td>ثم خالد الشرقاوي السموني أستاذ القانون الدستور...</td>\n",
              "      <td>3</td>\n",
              "    </tr>\n",
              "    <tr>\n",
              "      <th>44540</th>\n",
              "      <td>في سياق الجدل المرتبط بالمادة مكرر المتضمنة في...</td>\n",
              "      <td>3</td>\n",
              "    </tr>\n",
              "    <tr>\n",
              "      <th>807</th>\n",
              "      <td>تابعة نفى المخرج رامي إمام مساء السبت شائعة وف...</td>\n",
              "      <td>0</td>\n",
              "    </tr>\n",
              "    <tr>\n",
              "      <th>31532</th>\n",
              "      <td>فاز فريق الوداد البيضاوي على ضيفه نهضة بركان ب...</td>\n",
              "      <td>4</td>\n",
              "    </tr>\n",
              "  </tbody>\n",
              "</table>\n",
              "<p>68690 rows × 2 columns</p>\n",
              "</div>\n",
              "      <button class=\"colab-df-convert\" onclick=\"convertToInteractive('df-ff391e15-a595-49d1-accc-e70ee30d3609')\"\n",
              "              title=\"Convert this dataframe to an interactive table.\"\n",
              "              style=\"display:none;\">\n",
              "        \n",
              "  <svg xmlns=\"http://www.w3.org/2000/svg\" height=\"24px\"viewBox=\"0 0 24 24\"\n",
              "       width=\"24px\">\n",
              "    <path d=\"M0 0h24v24H0V0z\" fill=\"none\"/>\n",
              "    <path d=\"M18.56 5.44l.94 2.06.94-2.06 2.06-.94-2.06-.94-.94-2.06-.94 2.06-2.06.94zm-11 1L8.5 8.5l.94-2.06 2.06-.94-2.06-.94L8.5 2.5l-.94 2.06-2.06.94zm10 10l.94 2.06.94-2.06 2.06-.94-2.06-.94-.94-2.06-.94 2.06-2.06.94z\"/><path d=\"M17.41 7.96l-1.37-1.37c-.4-.4-.92-.59-1.43-.59-.52 0-1.04.2-1.43.59L10.3 9.45l-7.72 7.72c-.78.78-.78 2.05 0 2.83L4 21.41c.39.39.9.59 1.41.59.51 0 1.02-.2 1.41-.59l7.78-7.78 2.81-2.81c.8-.78.8-2.07 0-2.86zM5.41 20L4 18.59l7.72-7.72 1.47 1.35L5.41 20z\"/>\n",
              "  </svg>\n",
              "      </button>\n",
              "      \n",
              "  <style>\n",
              "    .colab-df-container {\n",
              "      display:flex;\n",
              "      flex-wrap:wrap;\n",
              "      gap: 12px;\n",
              "    }\n",
              "\n",
              "    .colab-df-convert {\n",
              "      background-color: #E8F0FE;\n",
              "      border: none;\n",
              "      border-radius: 50%;\n",
              "      cursor: pointer;\n",
              "      display: none;\n",
              "      fill: #1967D2;\n",
              "      height: 32px;\n",
              "      padding: 0 0 0 0;\n",
              "      width: 32px;\n",
              "    }\n",
              "\n",
              "    .colab-df-convert:hover {\n",
              "      background-color: #E2EBFA;\n",
              "      box-shadow: 0px 1px 2px rgba(60, 64, 67, 0.3), 0px 1px 3px 1px rgba(60, 64, 67, 0.15);\n",
              "      fill: #174EA6;\n",
              "    }\n",
              "\n",
              "    [theme=dark] .colab-df-convert {\n",
              "      background-color: #3B4455;\n",
              "      fill: #D2E3FC;\n",
              "    }\n",
              "\n",
              "    [theme=dark] .colab-df-convert:hover {\n",
              "      background-color: #434B5C;\n",
              "      box-shadow: 0px 1px 3px 1px rgba(0, 0, 0, 0.15);\n",
              "      filter: drop-shadow(0px 1px 2px rgba(0, 0, 0, 0.3));\n",
              "      fill: #FFFFFF;\n",
              "    }\n",
              "  </style>\n",
              "\n",
              "      <script>\n",
              "        const buttonEl =\n",
              "          document.querySelector('#df-ff391e15-a595-49d1-accc-e70ee30d3609 button.colab-df-convert');\n",
              "        buttonEl.style.display =\n",
              "          google.colab.kernel.accessAllowed ? 'block' : 'none';\n",
              "\n",
              "        async function convertToInteractive(key) {\n",
              "          const element = document.querySelector('#df-ff391e15-a595-49d1-accc-e70ee30d3609');\n",
              "          const dataTable =\n",
              "            await google.colab.kernel.invokeFunction('convertToInteractive',\n",
              "                                                     [key], {});\n",
              "          if (!dataTable) return;\n",
              "\n",
              "          const docLinkHtml = 'Like what you see? Visit the ' +\n",
              "            '<a target=\"_blank\" href=https://colab.research.google.com/notebooks/data_table.ipynb>data table notebook</a>'\n",
              "            + ' to learn more about interactive tables.';\n",
              "          element.innerHTML = '';\n",
              "          dataTable['output_type'] = 'display_data';\n",
              "          await google.colab.output.renderOutput(dataTable, element);\n",
              "          const docLink = document.createElement('div');\n",
              "          docLink.innerHTML = docLinkHtml;\n",
              "          element.appendChild(docLink);\n",
              "        }\n",
              "      </script>\n",
              "    </div>\n",
              "  </div>\n",
              "  "
            ]
          },
          "metadata": {},
          "execution_count": 3
        }
      ],
      "source": [
        "df=shuffle(df)\n",
        "df"
      ]
    },
    {
      "cell_type": "markdown",
      "metadata": {
        "id": "mo35ApRl2wZ1"
      },
      "source": [
        "------\n",
        "**2- Clean Data**\n",
        "\n",
        "تنظيف البيانات"
      ]
    },
    {
      "cell_type": "code",
      "execution_count": 4,
      "metadata": {
        "colab": {
          "base_uri": "https://localhost:8080/"
        },
        "id": "x7Jkd1C_2ya8",
        "outputId": "3986a05d-e119-4f11-8907-eea4d9a51061"
      },
      "outputs": [
        {
          "output_type": "stream",
          "name": "stdout",
          "text": [
            "378\n",
            "0\n"
          ]
        }
      ],
      "source": [
        "print(np.sum(df.isnull().any(axis=1)))\n",
        "\n",
        "clean_df= df.dropna()\n",
        "print(np.sum(clean_df.isnull().any(axis=1)))\n",
        "# #-------------\n",
        "# print (df.notnull().any(axis = 0))\n",
        "# print(len(df))\n",
        "# #-------------\n",
        "# def remove_hashtag(df, col = 'text'):\n",
        "#     for letter in r'#.][!XR':\n",
        "#       df[col] = df[col].astype(str).str.replace(letter,'', regex=True)\n",
        "        \n",
        "# remove_hashtag(clean_df)\n",
        "# clean_df\n",
        "# #-------------\n",
        "# arabic_punctuations = '''`÷×؛<>_()*&^%][ـ،/:\"؟.,'{}~¦+|!”…“–ـ'''\n",
        "# english_punctuations = string.punctuation\n",
        "# punctuations_list = arabic_punctuations + english_punctuations\n",
        "\n",
        "# def remove_punctuations(text):\n",
        "#     translator = str.maketrans('', '', punctuations_list)\n",
        "#     return text.translate(translator)\n",
        "# #-------------\n",
        "# def normalize_arabic(text):\n",
        "#     text = re.sub(\"[إأآا]\", \"ا\", text)\n",
        "#     text = re.sub(\"ى\", \"ي\", text)\n",
        "#     text = re.sub(\"ة\", \"ه\", text)\n",
        "#     text = re.sub(\"گ\", \"ك\", text)\n",
        "#     return text\n",
        "# #-------------    \n",
        "# def remove_repeating_char(text):\n",
        "#     return re.sub(r'(.)\\1+', r'\\1', text)\n",
        "# #-------------\n",
        "# def processDocument(doc, stemmer): \n",
        "\n",
        "#     #Replace @username with empty string\n",
        "#     doc = re.sub(r'@[^\\s]+', ' ', doc)\n",
        "#     doc = re.sub(r'_', ' ', doc)\n",
        "#     doc = re.sub(r'\\n', ' ', doc)\n",
        "#     doc = re.sub(r'[a-z,A-Z]', '', doc)\n",
        "#     doc = re.sub(r'\\d', '', doc)\n",
        "#     #Convert www.* or https?://* to \" \"\n",
        "#     doc = re.sub('((www\\.[^\\s]+)|(https?://[^\\s]+))',' ',doc)\n",
        "#     #Replace #word with word\n",
        "#     doc = re.sub(r'#([^\\s]+)', r'\\1', doc)\n",
        "#     # remove punctuations\n",
        "#     doc= remove_punctuations(doc)\n",
        "#     # normalize the tweet\n",
        "#     doc= normalize_arabic(doc)\n",
        "#     # remove repeated letters\n",
        "#     doc=remove_repeating_char(doc)\n",
        "#     #stemming\n",
        "#     doc = stemmer.stem(doc)\n",
        "    \n",
        "#     return doc\n",
        "\n",
        "# stemmer = ISRIStemmer()\n",
        "# clean_df[\"text\"] = clean_df['text'].apply(lambda x: processDocument(x, stemmer))\n",
        "# print(clean_df)\n"
      ]
    },
    {
      "cell_type": "markdown",
      "source": [
        "---------\n",
        "accuracy calculation function\n",
        "\n",
        "عمل تابع لحساب الدقة"
      ],
      "metadata": {
        "id": "LZBccqYfYN4k"
      }
    },
    {
      "cell_type": "code",
      "source": [
        "def calculate_results(y_true, y_pred):\n",
        "  # Calculate model accuracy\n",
        "  model_accuracy = accuracy_score(y_true, y_pred) * 100\n",
        "  # Calculate model precision, recall and f1 score using \"weighted\" average\n",
        "  model_precision, model_recall, model_f1, _ = precision_recall_fscore_support(y_true, y_pred, average=\"weighted\")\n",
        "  model_results = {\"accuracy\": model_accuracy,\n",
        "                  \"precision\": model_precision,\n",
        "                  \"recall\": model_recall,\n",
        "                  \"f1\": model_f1}\n",
        "  return model_results"
      ],
      "metadata": {
        "id": "W8J6acPEO6A3"
      },
      "execution_count": 5,
      "outputs": []
    },
    {
      "cell_type": "markdown",
      "source": [
        "----------------------\n",
        "**3- Feature Extraction:** Count Vectorizer\n",
        "\n",
        "**4- classification:** Neural Network\n",
        "\n",
        "Neural Network & Count Vectorizer\n",
        "\n",
        "with Cross validation\n",
        "\n",
        "لتوزيع عينات الاختبار والتأكد من عدم وجود\n",
        "\n",
        "Overfitting"
      ],
      "metadata": {
        "id": "RFJpeLEFYQLw"
      }
    },
    {
      "cell_type": "code",
      "source": [
        "%%time\n",
        "from sklearn.model_selection import StratifiedKFold\n",
        "from keras.models import Sequential\n",
        "from keras import layers\n",
        "from keras.layers import Dense\n",
        "from keras.backend import clear_session\n",
        "from keras.utils.np_utils import to_categorical\n",
        "from sklearn.feature_extraction.text import CountVectorizer\n",
        "\n",
        "x = clean_df['text'].values\n",
        "y = clean_df['targe'].values\n",
        "\n",
        "vectorizer = CountVectorizer(max_features=10000)\n",
        "strtfdKFold = StratifiedKFold(n_splits=4)\n",
        "kfold = strtfdKFold.split(x, y)\n",
        "result_NNClassifier=[]\n",
        "#\n",
        "for k, (train_index, test_index) in enumerate(kfold):\n",
        "    X_train, X_test = x[train_index], x[test_index]\n",
        "    y_train, y_test = y[train_index], y[test_index]\n",
        "\n",
        "    vectorizer.fit(X_train)\n",
        "    X_train = vectorizer.transform(X_train)\n",
        "    X_test  = vectorizer.transform(X_test)\n",
        "    y_train = to_categorical(y_train)\n",
        "    y_test = to_categorical(y_test)\n",
        "    input_dim = X_train.shape[1]\n",
        "\n",
        "    model = Sequential()\n",
        "    model.add(layers.Dense(10, input_dim=input_dim, activation='relu'))\n",
        "    model.add(layers.Dense(5, activation='sigmoid'))\n",
        "    model.compile(loss='binary_crossentropy',optimizer='adam',metrics=['accuracy'])\n",
        "    model.summary()\n",
        "    model.fit(X_train, y_train,epochs=2,verbose=True,batch_size=10)#validation_split=0.1,\n",
        "\n",
        "    y_pred=(model.predict(X_test))\n",
        "    y_classes_pre = [np.argmax(y, axis=None, out=None) for y in y_pred]\n",
        "    y_classes_test = [np.argmax(y, axis=None, out=None) for y in y_test]\n",
        "\n",
        "    clear_session()\n",
        "    result_NNClassifier.append(calculate_results(y_classes_test, y_classes_pre))\n",
        "result_NNClassifier"
      ],
      "metadata": {
        "colab": {
          "base_uri": "https://localhost:8080/"
        },
        "id": "OMYruNcgN1kR",
        "outputId": "af6252c7-65ee-471d-fca5-2ef4f27dc6be"
      },
      "execution_count": 6,
      "outputs": [
        {
          "output_type": "stream",
          "name": "stdout",
          "text": [
            "Model: \"sequential\"\n",
            "_________________________________________________________________\n",
            " Layer (type)                Output Shape              Param #   \n",
            "=================================================================\n",
            " dense (Dense)               (None, 10)                100010    \n",
            "                                                                 \n",
            " dense_1 (Dense)             (None, 5)                 55        \n",
            "                                                                 \n",
            "=================================================================\n",
            "Total params: 100,065\n",
            "Trainable params: 100,065\n",
            "Non-trainable params: 0\n",
            "_________________________________________________________________\n",
            "Epoch 1/2\n",
            "5124/5124 [==============================] - 16s 3ms/step - loss: 0.0984 - accuracy: 0.9288\n",
            "Epoch 2/2\n",
            "5124/5124 [==============================] - 15s 3ms/step - loss: 0.0446 - accuracy: 0.9682\n",
            "Model: \"sequential\"\n",
            "_________________________________________________________________\n",
            " Layer (type)                Output Shape              Param #   \n",
            "=================================================================\n",
            " dense (Dense)               (None, 10)                100010    \n",
            "                                                                 \n",
            " dense_1 (Dense)             (None, 5)                 55        \n",
            "                                                                 \n",
            "=================================================================\n",
            "Total params: 100,065\n",
            "Trainable params: 100,065\n",
            "Non-trainable params: 0\n",
            "_________________________________________________________________\n",
            "Epoch 1/2\n",
            "5124/5124 [==============================] - 14s 3ms/step - loss: 0.0923 - accuracy: 0.9373\n",
            "Epoch 2/2\n",
            "5124/5124 [==============================] - 14s 3ms/step - loss: 0.0424 - accuracy: 0.9702\n",
            "Model: \"sequential\"\n",
            "_________________________________________________________________\n",
            " Layer (type)                Output Shape              Param #   \n",
            "=================================================================\n",
            " dense (Dense)               (None, 10)                100010    \n",
            "                                                                 \n",
            " dense_1 (Dense)             (None, 5)                 55        \n",
            "                                                                 \n",
            "=================================================================\n",
            "Total params: 100,065\n",
            "Trainable params: 100,065\n",
            "Non-trainable params: 0\n",
            "_________________________________________________________________\n",
            "Epoch 1/2\n",
            "5124/5124 [==============================] - 14s 3ms/step - loss: 0.1044 - accuracy: 0.9255\n",
            "Epoch 2/2\n",
            "5124/5124 [==============================] - 14s 3ms/step - loss: 0.0505 - accuracy: 0.9652\n",
            "Model: \"sequential\"\n",
            "_________________________________________________________________\n",
            " Layer (type)                Output Shape              Param #   \n",
            "=================================================================\n",
            " dense (Dense)               (None, 10)                100010    \n",
            "                                                                 \n",
            " dense_1 (Dense)             (None, 5)                 55        \n",
            "                                                                 \n",
            "=================================================================\n",
            "Total params: 100,065\n",
            "Trainable params: 100,065\n",
            "Non-trainable params: 0\n",
            "_________________________________________________________________\n",
            "Epoch 1/2\n",
            "5124/5124 [==============================] - 15s 3ms/step - loss: 0.0969 - accuracy: 0.9343\n",
            "Epoch 2/2\n",
            "5124/5124 [==============================] - 14s 3ms/step - loss: 0.0453 - accuracy: 0.9677\n",
            "CPU times: user 4min 28s, sys: 15.1 s, total: 4min 43s\n",
            "Wall time: 4min 32s\n"
          ]
        }
      ]
    },
    {
      "cell_type": "code",
      "source": [
        "accuracy=0\n",
        "f1=0\n",
        "precision=0\n",
        "recall=0\n",
        "for i in result_NNClassifier:\n",
        "  accuracy+=(i['accuracy'])\n",
        "  f1+=(i['f1'])\n",
        "  precision+=(i['precision'])\n",
        "  recall+=(i['recall'])\n",
        "\n",
        "accuracy=accuracy/len(result_NNClassifier)\n",
        "f1=f1/len(result_NNClassifier)\n",
        "precision=precision/len(result_NNClassifier)\n",
        "recall=recall/len(result_NNClassifier)\n",
        "# (result_DecisionTreeClassifier)\n",
        "results_NNClassifier=[{'accuracy':accuracy,'f1':f1,'precision':precision,'recall':recall}]\n",
        "results_NNClassifier"
      ],
      "metadata": {
        "colab": {
          "base_uri": "https://localhost:8080/"
        },
        "id": "cp5BvptyT-Zp",
        "outputId": "54c73b60-5b83-4523-b4e5-4b3df818f445"
      },
      "execution_count": 7,
      "outputs": [
        {
          "output_type": "execute_result",
          "data": {
            "text/plain": [
              "[{'accuracy': 94.52365616582738,\n",
              "  'f1': 0.9451137278987801,\n",
              "  'precision': 0.9454472816899243,\n",
              "  'recall': 0.9452365616582739}]"
            ]
          },
          "metadata": {},
          "execution_count": 7
        }
      ]
    },
    {
      "cell_type": "markdown",
      "source": [
        "--------\n",
        "-----\n",
        "---------\n",
        "**5- Show Results**\n",
        "\n",
        "النتائج\n",
        "\n",
        "نتائج التدريب لكل قاعدة بيانات"
      ],
      "metadata": {
        "id": "MsQwGuzAY1bt"
      }
    },
    {
      "cell_type": "code",
      "execution_count": null,
      "metadata": {
        "id": "e-5UX4r2kr7e",
        "outputId": "0e5ccefc-9edb-43b9-9165-6cfedb3fd773",
        "colab": {
          "base_uri": "https://localhost:8080/"
        }
      },
      "outputs": [
        {
          "output_type": "stream",
          "name": "stdout",
          "text": [
            "NN_Classifier results in dataset 1:\n"
          ]
        },
        {
          "output_type": "execute_result",
          "data": {
            "text/plain": [
              "[{'accuracy': 96.95294079011093,\n",
              "  'f1': 0.9695415946811223,\n",
              "  'precision': 0.9696679612532261,\n",
              "  'recall': 0.9695294079011093}]"
            ]
          },
          "metadata": {},
          "execution_count": 8
        }
      ],
      "source": [
        "print('NN_Classifier results in dataset 1:')\n",
        "results_NNClassifier"
      ]
    },
    {
      "cell_type": "code",
      "execution_count": null,
      "metadata": {
        "outputId": "b6fc92a4-fb2c-4d93-babf-f9136dd35364",
        "colab": {
          "base_uri": "https://localhost:8080/"
        },
        "id": "9GxDOfxmUMSE"
      },
      "outputs": [
        {
          "output_type": "stream",
          "name": "stdout",
          "text": [
            "NN_Classifier results in dataset 2:\n"
          ]
        },
        {
          "output_type": "execute_result",
          "data": {
            "text/plain": [
              "[{'accuracy': 96.41785013277912,\n",
              "  'f1': 0.9642125202129852,\n",
              "  'precision': 0.9644015412044011,\n",
              "  'recall': 0.9641785013277913}]"
            ]
          },
          "metadata": {},
          "execution_count": 8
        }
      ],
      "source": [
        "print('NN_Classifier results in dataset 2:')\n",
        "results_NNClassifier"
      ]
    },
    {
      "cell_type": "code",
      "execution_count": null,
      "metadata": {
        "outputId": "e2ce4916-0e8f-4c2e-f4a7-9cffcaa86e59",
        "colab": {
          "base_uri": "https://localhost:8080/"
        },
        "id": "ZU5zPvatUMX7"
      },
      "outputs": [
        {
          "output_type": "stream",
          "name": "stdout",
          "text": [
            "NN_Classifier results in dataset 3:\n"
          ]
        },
        {
          "output_type": "execute_result",
          "data": {
            "text/plain": [
              "[{'accuracy': 94.9532952205071,\n",
              "  'f1': 0.9495166752639633,\n",
              "  'precision': 0.9496688768144849,\n",
              "  'recall': 0.9495329522050711}]"
            ]
          },
          "metadata": {},
          "execution_count": 9
        }
      ],
      "source": [
        "print('NN_Classifier results in dataset 3:')\n",
        "results_NNClassifier"
      ]
    },
    {
      "cell_type": "code",
      "execution_count": null,
      "metadata": {
        "outputId": "a5b79669-e8ea-4444-8f24-80a112f173ef",
        "colab": {
          "base_uri": "https://localhost:8080/"
        },
        "id": "hdbDTlg9UMe_"
      },
      "outputs": [
        {
          "output_type": "stream",
          "name": "stdout",
          "text": [
            "NN_Classifier results in dataset 4:\n"
          ]
        },
        {
          "output_type": "execute_result",
          "data": {
            "text/plain": [
              "[{'accuracy': 94.4812038880431,\n",
              "  'f1': 0.9447319251501823,\n",
              "  'precision': 0.9450981459806844,\n",
              "  'recall': 0.9448120388804311}]"
            ]
          },
          "metadata": {},
          "execution_count": 8
        }
      ],
      "source": [
        "print('NN_Classifier results in dataset 4:')\n",
        "results_NNClassifier"
      ]
    },
    {
      "cell_type": "code",
      "source": [
        "Final_Result=[\n",
        "  {'accuracy': 96.41785013277912,\n",
        "  'f1': 0.9642125202129852,\n",
        "  'precision': 0.9644015412044011,\n",
        "  'recall': 0.9641785013277913}\n",
        "  ,\n",
        "  {'accuracy': 96.41785013277912,\n",
        "  'f1': 0.9642125202129852,\n",
        "  'precision': 0.9644015412044011,\n",
        "  'recall': 0.9641785013277913}\n",
        "  ,\n",
        "  {'accuracy': 94.9532952205071,\n",
        "  'f1': 0.9495166752639633,\n",
        "  'precision': 0.9496688768144849,\n",
        "  'recall': 0.9495329522050711}\n",
        "  ,\n",
        "  {'accuracy': 94.4812038880431,\n",
        "  'f1': 0.9447319251501823,\n",
        "  'precision': 0.9450981459806844,\n",
        "  'recall': 0.9448120388804311}\n",
        "  ]\n",
        "\n",
        "accuracy=0\n",
        "f1=0\n",
        "precision=0\n",
        "recall=0\n",
        "for i in Final_Result:\n",
        "  accuracy+=(i['accuracy'])\n",
        "  f1+=(i['f1'])\n",
        "  precision+=(i['precision'])\n",
        "  recall+=(i['recall'])\n",
        "\n",
        "accuracy=accuracy/len(Final_Result)\n",
        "f1=f1/len(Final_Result)\n",
        "precision=precision/len(Final_Result)\n",
        "recall=recall/len(Final_Result)\n",
        "Final_Result=[{'accuracy':accuracy,'f1':f1,'precision':precision,'recall':recall}]\n",
        "\n",
        "print(\"RAM: 0.72GB, CPU times: user 4min 32s\")\n",
        "print('Final_Result:')\n",
        "(Final_Result)\n"
      ],
      "metadata": {
        "id": "-lB0leWu1IwK",
        "colab": {
          "base_uri": "https://localhost:8080/"
        },
        "outputId": "9c198d49-428d-4529-b462-1749f8c24b15"
      },
      "execution_count": 8,
      "outputs": [
        {
          "output_type": "stream",
          "name": "stdout",
          "text": [
            "RAM: 0.72GB, CPU times: user 4min 32s\n",
            "Final_Result:\n"
          ]
        },
        {
          "output_type": "execute_result",
          "data": {
            "text/plain": [
              "[{'accuracy': 95.5675498435271,\n",
              "  'f1': 0.955668410210029,\n",
              "  'precision': 0.955892526300993,\n",
              "  'recall': 0.9556754984352711}]"
            ]
          },
          "metadata": {},
          "execution_count": 8
        }
      ]
    }
  ]
}