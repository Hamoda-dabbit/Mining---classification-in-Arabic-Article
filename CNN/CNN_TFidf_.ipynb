{
  "cells": [
    {
      "cell_type": "markdown",
      "metadata": {
        "id": "view-in-github",
        "colab_type": "text"
      },
      "source": [
        "<a href=\"https://colab.research.google.com/github/Hamoda-dabbit/Mining---classification-in-Arabic-Article/blob/main/CNN/CNN_TFidf_.ipynb\" target=\"_parent\"><img src=\"https://colab.research.google.com/assets/colab-badge.svg\" alt=\"Open In Colab\"/></a>"
      ]
    },
    {
      "cell_type": "markdown",
      "metadata": {
        "id": "DKSuILzq_b-8"
      },
      "source": [
        " 1- إستيراد المكتبات"
      ]
    },
    {
      "cell_type": "code",
      "execution_count": 67,
      "metadata": {
        "id": "6ZHYHdQtygBh"
      },
      "outputs": [],
      "source": [
        "import pandas as pd\n",
        "import numpy as np\n",
        "\n",
        "from tensorflow.keras.models import Sequential\n",
        "from tensorflow.keras.layers import Dense\n",
        "from tensorflow.keras.layers import Flatten\n",
        "from tensorflow.keras.layers import Conv1D\n",
        "from tensorflow.keras.layers import MaxPooling1D\n",
        "from tensorflow.keras.layers import Embedding\n",
        "from tensorflow.keras.preprocessing.text import Tokenizer\n",
        "from tensorflow.keras.preprocessing import sequence\n",
        "from sklearn.preprocessing import LabelEncoder\n",
        "import nltk\n",
        "# fix random seed for reproducibility\n",
        "seed = 42\n",
        "np.random.seed(seed)\n",
        "\n",
        "import string\n",
        "import re\n",
        "from nltk.stem.isri import ISRIStemmer\n",
        "import warnings\n",
        "warnings.filterwarnings(\"ignore\")"
      ]
    },
    {
      "cell_type": "markdown",
      "metadata": {
        "id": "IY_2pUn__oh8"
      },
      "source": [
        "--------\n",
        "\n",
        "2- استيراد ملفات البيانات"
      ]
    },
    {
      "cell_type": "code",
      "execution_count": 68,
      "metadata": {
        "colab": {
          "base_uri": "https://localhost:8080/"
        },
        "id": "ITaTjKYUJGKx",
        "outputId": "f73d7df5-4611-4cf7-a2ad-3137657d8ac0"
      },
      "outputs": [
        {
          "output_type": "stream",
          "name": "stdout",
          "text": [
            "<class 'pandas.core.frame.DataFrame'>\n",
            "RangeIndex: 17500 entries, 0 to 17499\n",
            "Data columns (total 2 columns):\n",
            " #   Column  Non-Null Count  Dtype \n",
            "---  ------  --------------  ----- \n",
            " 0   text    17361 non-null  object\n",
            " 1   targe   17500 non-null  int64 \n",
            "dtypes: int64(1), object(1)\n",
            "memory usage: 273.6+ KB\n"
          ]
        }
      ],
      "source": [
        "dataset = pd.read_excel(\"drive/MyDrive/mining/1.xlsx\")\n",
        "# dataset = pd.read_excel(\"drive/MyDrive/mining/2.xlsx\")\n",
        "# dataset = pd.read_excel(\"drive/MyDrive/mining/3.xlsx\")\n",
        "# datasetf = pd.read_excel(\"drive/MyDrive/mining/4.xlsx\")\n",
        "\n",
        "dataset.info()"
      ]
    },
    {
      "cell_type": "markdown",
      "metadata": {
        "id": "CjXeZSy9_fB2"
      },
      "source": [
        "------\n",
        "3- shuffle  \n",
        "بعثرة البيانات"
      ]
    },
    {
      "cell_type": "code",
      "execution_count": 69,
      "metadata": {
        "colab": {
          "base_uri": "https://localhost:8080/",
          "height": 424
        },
        "id": "n70SDzKWdM5_",
        "outputId": "491f9a5e-786e-495b-cb41-aded720312b1"
      },
      "outputs": [
        {
          "output_type": "execute_result",
          "data": {
            "text/plain": [
              "                                                    text  targe\n",
              "1411   علمت الصباح أن الفيلم الجديد للمخرج نبيل عيوش ...      0\n",
              "7555   يستعد المغرب لإطلاق أول دفعة من السندات الإسلا...      2\n",
              "4930   استقلال القاضي هدف ثابت وحتمي لتحقيق العدالة ف...      1\n",
              "10054  بلغ حجم الإعفاءات الضريبية خلال العام الحالي م...      2\n",
              "2714   أخبارنا المغربية سناء الوردي استغلت الفنانة ال...      0\n",
              "...                                                  ...    ...\n",
              "11284  اختتمت شبيبة حزب التجمع الوطني للأحرار أشغال ج...      3\n",
              "11964  عب رت الفعاليات الثقافية والفكرية الملتئمة ضمن...      3\n",
              "5390   اعترضوه بالمدينة العتيقة ومارسوا عليه الجنس بع...      1\n",
              "860    تستعد لتقديم برنامجين تلفزيونيين جديدين بعد رم...      0\n",
              "15795  أغلق أمس الثلاثاء سوق الانتقالات الصيفية بصفقا...      4\n",
              "\n",
              "[17500 rows x 2 columns]"
            ],
            "text/html": [
              "\n",
              "  <div id=\"df-172cd55d-38b0-4582-90ce-3aa423ac40d8\">\n",
              "    <div class=\"colab-df-container\">\n",
              "      <div>\n",
              "<style scoped>\n",
              "    .dataframe tbody tr th:only-of-type {\n",
              "        vertical-align: middle;\n",
              "    }\n",
              "\n",
              "    .dataframe tbody tr th {\n",
              "        vertical-align: top;\n",
              "    }\n",
              "\n",
              "    .dataframe thead th {\n",
              "        text-align: right;\n",
              "    }\n",
              "</style>\n",
              "<table border=\"1\" class=\"dataframe\">\n",
              "  <thead>\n",
              "    <tr style=\"text-align: right;\">\n",
              "      <th></th>\n",
              "      <th>text</th>\n",
              "      <th>targe</th>\n",
              "    </tr>\n",
              "  </thead>\n",
              "  <tbody>\n",
              "    <tr>\n",
              "      <th>1411</th>\n",
              "      <td>علمت الصباح أن الفيلم الجديد للمخرج نبيل عيوش ...</td>\n",
              "      <td>0</td>\n",
              "    </tr>\n",
              "    <tr>\n",
              "      <th>7555</th>\n",
              "      <td>يستعد المغرب لإطلاق أول دفعة من السندات الإسلا...</td>\n",
              "      <td>2</td>\n",
              "    </tr>\n",
              "    <tr>\n",
              "      <th>4930</th>\n",
              "      <td>استقلال القاضي هدف ثابت وحتمي لتحقيق العدالة ف...</td>\n",
              "      <td>1</td>\n",
              "    </tr>\n",
              "    <tr>\n",
              "      <th>10054</th>\n",
              "      <td>بلغ حجم الإعفاءات الضريبية خلال العام الحالي م...</td>\n",
              "      <td>2</td>\n",
              "    </tr>\n",
              "    <tr>\n",
              "      <th>2714</th>\n",
              "      <td>أخبارنا المغربية سناء الوردي استغلت الفنانة ال...</td>\n",
              "      <td>0</td>\n",
              "    </tr>\n",
              "    <tr>\n",
              "      <th>...</th>\n",
              "      <td>...</td>\n",
              "      <td>...</td>\n",
              "    </tr>\n",
              "    <tr>\n",
              "      <th>11284</th>\n",
              "      <td>اختتمت شبيبة حزب التجمع الوطني للأحرار أشغال ج...</td>\n",
              "      <td>3</td>\n",
              "    </tr>\n",
              "    <tr>\n",
              "      <th>11964</th>\n",
              "      <td>عب رت الفعاليات الثقافية والفكرية الملتئمة ضمن...</td>\n",
              "      <td>3</td>\n",
              "    </tr>\n",
              "    <tr>\n",
              "      <th>5390</th>\n",
              "      <td>اعترضوه بالمدينة العتيقة ومارسوا عليه الجنس بع...</td>\n",
              "      <td>1</td>\n",
              "    </tr>\n",
              "    <tr>\n",
              "      <th>860</th>\n",
              "      <td>تستعد لتقديم برنامجين تلفزيونيين جديدين بعد رم...</td>\n",
              "      <td>0</td>\n",
              "    </tr>\n",
              "    <tr>\n",
              "      <th>15795</th>\n",
              "      <td>أغلق أمس الثلاثاء سوق الانتقالات الصيفية بصفقا...</td>\n",
              "      <td>4</td>\n",
              "    </tr>\n",
              "  </tbody>\n",
              "</table>\n",
              "<p>17500 rows × 2 columns</p>\n",
              "</div>\n",
              "      <button class=\"colab-df-convert\" onclick=\"convertToInteractive('df-172cd55d-38b0-4582-90ce-3aa423ac40d8')\"\n",
              "              title=\"Convert this dataframe to an interactive table.\"\n",
              "              style=\"display:none;\">\n",
              "        \n",
              "  <svg xmlns=\"http://www.w3.org/2000/svg\" height=\"24px\"viewBox=\"0 0 24 24\"\n",
              "       width=\"24px\">\n",
              "    <path d=\"M0 0h24v24H0V0z\" fill=\"none\"/>\n",
              "    <path d=\"M18.56 5.44l.94 2.06.94-2.06 2.06-.94-2.06-.94-.94-2.06-.94 2.06-2.06.94zm-11 1L8.5 8.5l.94-2.06 2.06-.94-2.06-.94L8.5 2.5l-.94 2.06-2.06.94zm10 10l.94 2.06.94-2.06 2.06-.94-2.06-.94-.94-2.06-.94 2.06-2.06.94z\"/><path d=\"M17.41 7.96l-1.37-1.37c-.4-.4-.92-.59-1.43-.59-.52 0-1.04.2-1.43.59L10.3 9.45l-7.72 7.72c-.78.78-.78 2.05 0 2.83L4 21.41c.39.39.9.59 1.41.59.51 0 1.02-.2 1.41-.59l7.78-7.78 2.81-2.81c.8-.78.8-2.07 0-2.86zM5.41 20L4 18.59l7.72-7.72 1.47 1.35L5.41 20z\"/>\n",
              "  </svg>\n",
              "      </button>\n",
              "      \n",
              "  <style>\n",
              "    .colab-df-container {\n",
              "      display:flex;\n",
              "      flex-wrap:wrap;\n",
              "      gap: 12px;\n",
              "    }\n",
              "\n",
              "    .colab-df-convert {\n",
              "      background-color: #E8F0FE;\n",
              "      border: none;\n",
              "      border-radius: 50%;\n",
              "      cursor: pointer;\n",
              "      display: none;\n",
              "      fill: #1967D2;\n",
              "      height: 32px;\n",
              "      padding: 0 0 0 0;\n",
              "      width: 32px;\n",
              "    }\n",
              "\n",
              "    .colab-df-convert:hover {\n",
              "      background-color: #E2EBFA;\n",
              "      box-shadow: 0px 1px 2px rgba(60, 64, 67, 0.3), 0px 1px 3px 1px rgba(60, 64, 67, 0.15);\n",
              "      fill: #174EA6;\n",
              "    }\n",
              "\n",
              "    [theme=dark] .colab-df-convert {\n",
              "      background-color: #3B4455;\n",
              "      fill: #D2E3FC;\n",
              "    }\n",
              "\n",
              "    [theme=dark] .colab-df-convert:hover {\n",
              "      background-color: #434B5C;\n",
              "      box-shadow: 0px 1px 3px 1px rgba(0, 0, 0, 0.15);\n",
              "      filter: drop-shadow(0px 1px 2px rgba(0, 0, 0, 0.3));\n",
              "      fill: #FFFFFF;\n",
              "    }\n",
              "  </style>\n",
              "\n",
              "      <script>\n",
              "        const buttonEl =\n",
              "          document.querySelector('#df-172cd55d-38b0-4582-90ce-3aa423ac40d8 button.colab-df-convert');\n",
              "        buttonEl.style.display =\n",
              "          google.colab.kernel.accessAllowed ? 'block' : 'none';\n",
              "\n",
              "        async function convertToInteractive(key) {\n",
              "          const element = document.querySelector('#df-172cd55d-38b0-4582-90ce-3aa423ac40d8');\n",
              "          const dataTable =\n",
              "            await google.colab.kernel.invokeFunction('convertToInteractive',\n",
              "                                                     [key], {});\n",
              "          if (!dataTable) return;\n",
              "\n",
              "          const docLinkHtml = 'Like what you see? Visit the ' +\n",
              "            '<a target=\"_blank\" href=https://colab.research.google.com/notebooks/data_table.ipynb>data table notebook</a>'\n",
              "            + ' to learn more about interactive tables.';\n",
              "          element.innerHTML = '';\n",
              "          dataTable['output_type'] = 'display_data';\n",
              "          await google.colab.output.renderOutput(dataTable, element);\n",
              "          const docLink = document.createElement('div');\n",
              "          docLink.innerHTML = docLinkHtml;\n",
              "          element.appendChild(docLink);\n",
              "        }\n",
              "      </script>\n",
              "    </div>\n",
              "  </div>\n",
              "  "
            ]
          },
          "metadata": {},
          "execution_count": 69
        }
      ],
      "source": [
        "from sklearn.utils import shuffle\n",
        "dataset=shuffle(dataset)\n",
        "dataset"
      ]
    },
    {
      "cell_type": "markdown",
      "metadata": {
        "id": "IWomJ3tI_qIQ"
      },
      "source": [
        "------\n",
        "4- clean\n",
        "تنظيف البيانات"
      ]
    },
    {
      "cell_type": "code",
      "execution_count": 70,
      "metadata": {
        "colab": {
          "base_uri": "https://localhost:8080/"
        },
        "id": "MFsW7x2E1vbw",
        "outputId": "df46acef-7b49-4048-c090-530ecbcda9f6"
      },
      "outputs": [
        {
          "output_type": "stream",
          "name": "stdout",
          "text": [
            "139\n",
            "0\n",
            "                                                    text  targe\n",
            "1411   علمت الصباح ان الفيلم الجديد لمخرج نبيل عيوش س...      0\n",
            "7555   يستعد المغرب لاطلاق اول دفعه من السندات الاسلا...      2\n",
            "4930   استقلال القاضي هدف ثابت وحتمي لتحقيق العداله ف...      1\n",
            "10054  بلغ حجم الاعفاءات الضريبيه خلال العام الحالي م...      2\n",
            "2714   اخبارنا المغربيه سناء الوردي استغلت الفنانه ال...      0\n",
            "...                                                  ...    ...\n",
            "11284  اختمت شبيبه حزب التجمع الوطني لاحرار اشغال جام...      3\n",
            "11964  عب رت الفعاليات الثقافيه والفكريه الملتئمه ضمن...      3\n",
            "5390   اعترضوه بالمدينه العتيقه ومارسوا عليه الجنس بع...      1\n",
            "860    تستعد لتقديم برنامجين تلفزيونين جديدين بعد رمض...      0\n",
            "15795  اغلق امس الثلاثاء سوق الانتقالات الصيفيه بصفقا...      4\n",
            "\n",
            "[17361 rows x 2 columns]\n"
          ]
        }
      ],
      "source": [
        "print(np.sum(dataset.isnull().any(axis=1)))\n",
        "dataset= dataset.dropna()\n",
        "print(np.sum(dataset.isnull().any(axis=1)))\n",
        "\n",
        "#-------------\n",
        "def remove_hashtag(df, col = 'text'):\n",
        "    for letter in r'#.][!XR':\n",
        "      df[col] = df[col].astype(str).str.replace(letter,'', regex=True)\n",
        "           \n",
        "remove_hashtag(dataset)\n",
        "#-------------\n",
        "arabic_punctuations = '''`÷×؛<>_()*&^%][ـ،/:\"؟.,'{}~¦+|!”…“–ـ'''\n",
        "english_punctuations = string.punctuation\n",
        "punctuations_list = arabic_punctuations + english_punctuations\n",
        "\n",
        "def remove_punctuations(text):\n",
        "    translator = str.maketrans('', '', punctuations_list)\n",
        "    return text.translate(translator)\n",
        "#-------------\n",
        "def normalize_arabic(text):\n",
        "    text = re.sub(\"[إأآا]\", \"ا\", text)\n",
        "    text = re.sub(\"ى\", \"ي\", text)\n",
        "    text = re.sub(\"ة\", \"ه\", text)\n",
        "    text = re.sub(\"گ\", \"ك\", text)\n",
        "    return text\n",
        "#-------------    \n",
        "def remove_repeating_char(text):\n",
        "    return re.sub(r'(.)\\1+', r'\\1', text)\n",
        "#-------------\n",
        "def processDocument(doc, stemmer): \n",
        "\n",
        "    #Replace @username with empty string\n",
        "    doc = re.sub(r'@[^\\s]+', ' ', doc)\n",
        "    doc = re.sub(r'_', ' ', doc)\n",
        "    doc = re.sub(r'\\n', ' ', doc)\n",
        "    doc = re.sub(r'[a-z,A-Z]', '', doc)\n",
        "    doc = re.sub(r'\\d', '', doc)\n",
        "    #Convert www.* or https?://* to \" \"\n",
        "    doc = re.sub('((www\\.[^\\s]+)|(https?://[^\\s]+))',' ',doc)\n",
        "    #Replace #word with word\n",
        "    doc = re.sub(r'#([^\\s]+)', r'\\1', doc)\n",
        "    # remove punctuations\n",
        "    doc= remove_punctuations(doc)\n",
        "    # normalize the tweet\n",
        "    doc= normalize_arabic(doc)\n",
        "    # remove repeated letters\n",
        "    doc=remove_repeating_char(doc)\n",
        "    #stemming\n",
        "    doc = stemmer.stem(doc)\n",
        "    \n",
        "    return doc\n",
        "    \n",
        "stemmer = ISRIStemmer()\n",
        "dataset[\"text\"] = dataset['text'].apply(lambda x: processDocument(x, stemmer))\n",
        "print(dataset)\n",
        "\n",
        "reviews = dataset['text'].values\n",
        "t = Tokenizer(oov_token='<UNK>')\n",
        "# fit the tokenizer on the documents\n",
        "t.fit_on_texts(reviews)\n",
        "t.word_index['<PAD>'] = 0\n",
        "\n",
        "VOCAB_SIZE = len(t.word_index)"
      ]
    },
    {
      "cell_type": "code",
      "execution_count": 71,
      "metadata": {
        "colab": {
          "base_uri": "https://localhost:8080/"
        },
        "id": "PE_HTuA8xOxk",
        "outputId": "8cf958b7-4d42-443c-f328-6fa0a84f865d"
      },
      "outputs": [
        {
          "output_type": "stream",
          "name": "stderr",
          "text": [
            "[nltk_data] Downloading package stopwords to /root/nltk_data...\n",
            "[nltk_data]   Package stopwords is already up-to-date!\n"
          ]
        },
        {
          "output_type": "execute_result",
          "data": {
            "text/plain": [
              "array([[0.        , 0.        , 0.        , ..., 0.        , 0.        ,\n",
              "        0.        ],\n",
              "       [0.        , 0.        , 0.        , ..., 0.        , 0.        ,\n",
              "        0.        ],\n",
              "       [0.        , 0.        , 0.        , ..., 0.08585352, 0.05430437,\n",
              "        0.        ],\n",
              "       ...,\n",
              "       [0.        , 0.        , 0.        , ..., 0.        , 0.        ,\n",
              "        0.        ],\n",
              "       [0.        , 0.26063555, 0.        , ..., 0.        , 0.07297497,\n",
              "        0.        ],\n",
              "       [0.        , 0.        , 0.        , ..., 0.        , 0.        ,\n",
              "        0.        ]])"
            ]
          },
          "metadata": {},
          "execution_count": 71
        }
      ],
      "source": [
        "import nltk \n",
        "nltk.download('stopwords')\n",
        "from nltk.corpus import stopwords\n",
        "from sklearn.feature_extraction.text import TfidfVectorizer\n",
        "\n",
        "\n",
        "# y = dataset['targe']\n",
        "# X = dataset['text']\n",
        "stopwords_list = stopwords.words('arabic')\n",
        "\n",
        "tfidf = TfidfVectorizer(max_features=500, min_df=5, max_df=0.7,token_pattern=r\"(?u)\\b\\w\\w+\\b\",stop_words=stopwords_list)\n",
        "\n",
        "y1 = dataset['targe']\n",
        "X1 = dataset['text']\n",
        "tfidf = tfidf.fit(X1)\n",
        "# X1= tfidf.fit_transform (X1) .toarray ()\n",
        "TF_X = tfidf.transform(X1).toarray()\n",
        "TF_X"
      ]
    },
    {
      "cell_type": "code",
      "source": [
        "# print(TF_X)\n",
        "xx=[]\n",
        "for i in range(0,len(TF_X)):\n",
        "  xx1=[]\n",
        "  for j in TF_X[i]:\n",
        "    if j>0:\n",
        "      xx1.append(j)\n",
        "  xx.append(xx1)"
      ],
      "metadata": {
        "id": "LSw7T9L7d-H1"
      },
      "execution_count": 72,
      "outputs": []
    },
    {
      "cell_type": "code",
      "source": [
        "max_len=0\n",
        "for i in xx:\n",
        "  if max_len<len(i):\n",
        "    max_len=len(i)\n",
        "max_len"
      ],
      "metadata": {
        "id": "OQav-l4MdpRv",
        "outputId": "134eff49-cd15-433c-e993-1004142ebc03",
        "colab": {
          "base_uri": "https://localhost:8080/"
        }
      },
      "execution_count": 73,
      "outputs": [
        {
          "output_type": "execute_result",
          "data": {
            "text/plain": [
              "187"
            ]
          },
          "metadata": {},
          "execution_count": 73
        }
      ]
    },
    {
      "cell_type": "code",
      "source": [
        "# for i in range(0,len(xx)):\n",
        "#   for j in range(len(xx[i]),max_len):\n",
        "#     xx[i].append(0)"
      ],
      "metadata": {
        "id": "Yd1CvCfNnIgk"
      },
      "execution_count": 49,
      "outputs": []
    },
    {
      "cell_type": "code",
      "source": [
        "# arrx = np.array(xx)\n",
        "# arrx.shape"
      ],
      "metadata": {
        "id": "_viAEEWrmQFA",
        "outputId": "f87fea60-c5bf-482b-86bf-25898b29cda9",
        "colab": {
          "base_uri": "https://localhost:8080/"
        }
      },
      "execution_count": 50,
      "outputs": [
        {
          "output_type": "execute_result",
          "data": {
            "text/plain": [
              "(17361, 354)"
            ]
          },
          "metadata": {},
          "execution_count": 50
        }
      ]
    },
    {
      "cell_type": "code",
      "execution_count": 78,
      "metadata": {
        "colab": {
          "base_uri": "https://localhost:8080/"
        },
        "id": "FVk8EhzaZc5H",
        "outputId": "5ded21d4-e519-44f1-a012-a4bf93e82620"
      },
      "outputs": [
        {
          "output_type": "stream",
          "name": "stdout",
          "text": [
            "Model: \"sequential_4\"\n",
            "_________________________________________________________________\n",
            " Layer (type)                Output Shape              Param #   \n",
            "=================================================================\n",
            " embedding_4 (Embedding)     (None, 187, 187)          93500     \n",
            "                                                                 \n",
            " conv1d_12 (Conv1D)          (None, 187, 128)          95872     \n",
            "                                                                 \n",
            " max_pooling1d_12 (MaxPoolin  (None, 93, 128)          0         \n",
            " g1D)                                                            \n",
            "                                                                 \n",
            " conv1d_13 (Conv1D)          (None, 93, 64)            32832     \n",
            "                                                                 \n",
            " max_pooling1d_13 (MaxPoolin  (None, 46, 64)           0         \n",
            " g1D)                                                            \n",
            "                                                                 \n",
            " conv1d_14 (Conv1D)          (None, 46, 32)            8224      \n",
            "                                                                 \n",
            " max_pooling1d_14 (MaxPoolin  (None, 23, 32)           0         \n",
            " g1D)                                                            \n",
            "                                                                 \n",
            " flatten_4 (Flatten)         (None, 736)               0         \n",
            "                                                                 \n",
            " dense_8 (Dense)             (None, 256)               188672    \n",
            "                                                                 \n",
            " dense_9 (Dense)             (None, 5)                 1285      \n",
            "                                                                 \n",
            "=================================================================\n",
            "Total params: 420,385\n",
            "Trainable params: 420,385\n",
            "Non-trainable params: 0\n",
            "_________________________________________________________________\n"
          ]
        }
      ],
      "source": [
        "# VOCAB_SIZE = len(t.word_index)\n",
        "VOCAB_SIZE =len(tfidf.vocabulary_)\n",
        "MAX_SEQUENCE_LENGTH = max_len#1500\n",
        "EMBED_SIZE = max_len#300\n",
        "EPOCHS=25\n",
        "BATCH_SIZE=128\n",
        "# create the model\n",
        "model = Sequential()\n",
        "model.add(Embedding(VOCAB_SIZE, EMBED_SIZE, input_length=MAX_SEQUENCE_LENGTH))\n",
        "model.add(Conv1D(filters=128, kernel_size=4, padding='same', activation='relu'))\n",
        "model.add(MaxPooling1D(pool_size=2))\n",
        "model.add(Conv1D(filters=64, kernel_size=4, padding='same', activation='relu'))\n",
        "model.add(MaxPooling1D(pool_size=2))\n",
        "model.add(Conv1D(filters=32, kernel_size=4, padding='same', activation='relu'))\n",
        "model.add(MaxPooling1D(pool_size=2))\n",
        "model.add(Flatten())\n",
        "model.add(Dense(256, activation='relu'))\n",
        "\n",
        "# model.add(Dense(1, activation='sigmoid'))\n",
        "model.add(Dense(5, activation='sigmoid'))\n",
        "# model.add(Flatten())\n",
        "model.compile(loss='binary_crossentropy', optimizer='adam', metrics=['accuracy'])\n",
        "model.summary()"
      ]
    },
    {
      "cell_type": "code",
      "execution_count": 75,
      "metadata": {
        "id": "pv7_gvf_eD-v"
      },
      "outputs": [],
      "source": [
        "from sklearn.metrics import accuracy_score, precision_recall_fscore_support\n",
        "def calculate_results(y_true, y_pred):\n",
        "  # Calculate model accuracy\n",
        "  model_accuracy = accuracy_score(y_true, y_pred) * 100\n",
        "  # Calculate model precision, recall and f1 score using \"weighted\" average\n",
        "  model_precision, model_recall, model_f1, _ = precision_recall_fscore_support(y_true, y_pred, average=\"weighted\")\n",
        "  model_results = {\"accuracy\": model_accuracy,\n",
        "                  \"precision\": model_precision,\n",
        "                  \"recall\": model_recall,\n",
        "                  \"f1\": model_f1}\n",
        "  return model_results"
      ]
    },
    {
      "cell_type": "code",
      "source": [
        "def emp_zero(X1):\n",
        "  TF_X = tfidf.transform(X1).toarray()\n",
        "  xx=[]\n",
        "  for i in range(0,len(TF_X)):\n",
        "    xx1=[]\n",
        "    for j in TF_X[i]:\n",
        "      if j>0:\n",
        "        xx1.append(j)\n",
        "    xx.append(xx1)\n",
        "\n",
        "  for i in range(0,len(xx)):\n",
        "    for j in range(len(xx[i]),max_len):\n",
        "      xx[i].append(0)\n",
        "    \n",
        "  arx = np.array(xx)\n",
        "  return arx"
      ],
      "metadata": {
        "id": "56aeBjOWmmBz"
      },
      "execution_count": 76,
      "outputs": []
    },
    {
      "cell_type": "code",
      "execution_count": null,
      "metadata": {
        "id": "OnKaXjnUghKY"
      },
      "outputs": [],
      "source": [
        "# train_x = X1[:14000]\n",
        "# train_y = y1[:14000]\n",
        "# test_x = X1[14000:]\n",
        "# test_y = y1[14000:]"
      ]
    },
    {
      "cell_type": "code",
      "execution_count": null,
      "metadata": {
        "colab": {
          "base_uri": "https://localhost:8080/"
        },
        "id": "YwGWYOmE3ql1",
        "outputId": "66f3cbad-fc2c-450e-ab11-abd7eae5afaa"
      },
      "outputs": [
        {
          "output_type": "stream",
          "name": "stdout",
          "text": [
            "Epoch 1/25\n",
            "82/82 [==============================] - 36s 425ms/step - loss: 0.5118 - accuracy: 0.1960 - val_loss: 0.5006 - val_accuracy: 0.2021\n",
            "Epoch 2/25\n",
            "14/82 [====>.........................] - ETA: 28s - loss: 0.5013 - accuracy: 0.2042"
          ]
        }
      ],
      "source": [
        "%%time\n",
        "from sklearn.model_selection import StratifiedKFold\n",
        "from keras.utils.np_utils import to_categorical\n",
        "import os.path\n",
        "from tensorflow import keras\n",
        "# from sklearn import tree\n",
        "y1 = dataset['targe']\n",
        "X1 = dataset['text'].values\n",
        "strtfdKFold = StratifiedKFold(n_splits=3)#5\n",
        "kfold = strtfdKFold.split(X1, y1)\n",
        "# clf = tree.DecisionTreeClassifier(random_state=5)\n",
        "result_CNNClassifier=[]\n",
        "#\n",
        "for k, (train_index, test_index) in enumerate(kfold):\n",
        "    # if(os.path.exists(\"drive/MyDrive/mining/CNN.net\")):\n",
        "    #   print(\"load net\")\n",
        "    #   model = keras.models.load_model('drive/MyDrive/mining/CNN.net') \n",
        "\n",
        "    X_train, X_test = X1[train_index], X1[test_index]\n",
        "    X_train=emp_zero(X_train)\n",
        "    X_test=emp_zero(X_test)\n",
        "\n",
        "    y_train, y_test = y1.iloc[train_index], y1.iloc[test_index]\n",
        "    y_train = to_categorical(y_train)\n",
        "    y_test = to_categorical(y_test)\n",
        "\n",
        "    # Fit the model\n",
        "    model.fit(X_train, y_train, validation_split=0.1, epochs=EPOCHS, batch_size=BATCH_SIZE, verbose=1)\n",
        "    y_pred=(model.predict(X_test))\n",
        "    y_classes_pre = [np.argmax(y, axis=None, out=None) for y in y_pred]\n",
        "    y_classes_test = [np.argmax(y, axis=None, out=None) for y in y_test]\n",
        "    result_CNNClassifier.append(calculate_results(y_classes_test, y_classes_pre))\n",
        "    # model.save('drive/MyDrive/mining/CNN.net')\n",
        "    # print(\"save net\")\n",
        "\n",
        "result_CNNClassifier"
      ]
    },
    {
      "cell_type": "code",
      "execution_count": 1,
      "metadata": {
        "id": "EdKO-wnR8n6Z",
        "colab": {
          "base_uri": "https://localhost:8080/",
          "height": 241
        },
        "outputId": "9513f869-8538-4151-cd78-44eb6456e690"
      },
      "outputs": [
        {
          "output_type": "error",
          "ename": "NameError",
          "evalue": "ignored",
          "traceback": [
            "\u001b[0;31m---------------------------------------------------------------------------\u001b[0m",
            "\u001b[0;31mNameError\u001b[0m                                 Traceback (most recent call last)",
            "\u001b[0;32m<ipython-input-1-f878105f5913>\u001b[0m in \u001b[0;36m<module>\u001b[0;34m()\u001b[0m\n\u001b[1;32m      3\u001b[0m \u001b[0mprecision\u001b[0m\u001b[0;34m=\u001b[0m\u001b[0;36m0\u001b[0m\u001b[0;34m\u001b[0m\u001b[0;34m\u001b[0m\u001b[0m\n\u001b[1;32m      4\u001b[0m \u001b[0mrecall\u001b[0m\u001b[0;34m=\u001b[0m\u001b[0;36m0\u001b[0m\u001b[0;34m\u001b[0m\u001b[0;34m\u001b[0m\u001b[0m\n\u001b[0;32m----> 5\u001b[0;31m \u001b[0;32mfor\u001b[0m \u001b[0mi\u001b[0m \u001b[0;32min\u001b[0m \u001b[0mresult_CNNClassifier\u001b[0m\u001b[0;34m:\u001b[0m\u001b[0;34m\u001b[0m\u001b[0;34m\u001b[0m\u001b[0m\n\u001b[0m\u001b[1;32m      6\u001b[0m   \u001b[0maccuracy\u001b[0m\u001b[0;34m+=\u001b[0m\u001b[0;34m(\u001b[0m\u001b[0mi\u001b[0m\u001b[0;34m[\u001b[0m\u001b[0;34m'accuracy'\u001b[0m\u001b[0;34m]\u001b[0m\u001b[0;34m)\u001b[0m\u001b[0;34m\u001b[0m\u001b[0;34m\u001b[0m\u001b[0m\n\u001b[1;32m      7\u001b[0m   \u001b[0mf1\u001b[0m\u001b[0;34m+=\u001b[0m\u001b[0;34m(\u001b[0m\u001b[0mi\u001b[0m\u001b[0;34m[\u001b[0m\u001b[0;34m'f1'\u001b[0m\u001b[0;34m]\u001b[0m\u001b[0;34m)\u001b[0m\u001b[0;34m\u001b[0m\u001b[0;34m\u001b[0m\u001b[0m\n",
            "\u001b[0;31mNameError\u001b[0m: name 'result_CNNClassifier' is not defined"
          ]
        }
      ],
      "source": [
        "accuracy=0\n",
        "f1=0\n",
        "precision=0\n",
        "recall=0\n",
        "for i in result_CNNClassifier:\n",
        "  accuracy+=(i['accuracy'])\n",
        "  f1+=(i['f1'])\n",
        "  precision+=(i['precision'])\n",
        "  recall+=(i['recall'])\n",
        "\n",
        "accuracy=accuracy/len(result_CNNClassifier)\n",
        "f1=f1/len(result_CNNClassifier)\n",
        "precision=precision/len(result_CNNClassifier)\n",
        "recall=recall/len(result_CNNClassifier)\n",
        "# (result_DecisionTreeClassifier)\n",
        "results_CNNClassifier=[{'accuracy':accuracy,'f1':f1,'precision':precision,'recall':recall}]\n",
        "results_CNNClassifier"
      ]
    },
    {
      "cell_type": "code",
      "execution_count": null,
      "metadata": {
        "id": "Svx-SEbjnahs"
      },
      "outputs": [],
      "source": [
        "print('DecisionTreeClassifier results in dataset 1:')\n",
        "results_DecisionTreeClassifier"
      ]
    },
    {
      "cell_type": "code",
      "execution_count": null,
      "metadata": {
        "id": "D00Bo8DJxQUP"
      },
      "outputs": [],
      "source": [
        "##################################"
      ]
    },
    {
      "cell_type": "code",
      "execution_count": null,
      "metadata": {
        "id": "XpwueLn6V-qF"
      },
      "outputs": [],
      "source": [
        "# # build train and test datasets\n",
        "# reviews = dataset['text'].values\n",
        "# sentiments = dataset['targe'].values\n",
        "\n",
        "# # from sklearn.model_selection import train_test_split\n",
        "# # test_reviews, test_sentiments, train_reviews, train_sentiments = train_test_split(reviews, sentiments, test_size=0.2)\n",
        "\n",
        "# train_reviews = reviews[:14000]\n",
        "# train_sentiments = sentiments[:14000]\n",
        "# test_reviews = reviews[14000:]\n",
        "# test_sentiments = sentiments[14000:]\n",
        "\n",
        "# # y_cat = y[:14000]\n",
        "# # train_reviews = reviews[:35000]\n",
        "# # test_reviews = reviews[35000:]\n",
        "# # y_test = y[14000:]\n",
        "\n",
        "# norm_train_reviews = (train_reviews)\n",
        "# norm_test_reviews = (test_reviews)\n",
        "\n",
        "\n",
        "# le = LabelEncoder()\n",
        "# y_train = le.fit_transform(train_sentiments)\n",
        "# y_test = le.transform(test_sentiments)\n",
        "\n",
        "# # print(y_train)\n",
        "# # y_test = to_categorical(y_test)\n",
        "# # y_cat\n",
        "\n",
        "# #convert text to numper \n",
        "# num_classes=5 #  -> 0,  -> 1 , 2, 3, ,4\n",
        "\n",
        "# # print(y[0])\n",
        "# #convert numper to array  1=>[0,1,0,0,0]\n",
        "# #Converting prediction to categorical\n",
        "# from keras.utils.np_utils import to_categorical\n",
        "# y_train = to_categorical(y_train)\n",
        "# y_test = to_categorical(y_test)\n",
        "# # print(y[0])"
      ]
    },
    {
      "cell_type": "code",
      "execution_count": null,
      "metadata": {
        "id": "QYUIAn6Xx7Yk"
      },
      "outputs": [],
      "source": [
        "# print(len(test_reviews))\n",
        "# print(len(test_sentiments))\n",
        "# print(len(train_reviews))\n",
        "# print(len(train_sentiments))"
      ]
    },
    {
      "cell_type": "markdown",
      "metadata": {
        "id": "COgKPRmLpxTu"
      },
      "source": [
        "## Preprocessing\n",
        "\n",
        "To prepare text data for our deep learning model, we transform each review into a sequence.\n",
        "Every word in the review is mapped to an integer index and thus the sentence turns into a sequence of numbers.\n",
        "\n",
        "To perform this transformation, keras provides the ```Tokenizer```"
      ]
    },
    {
      "cell_type": "code",
      "execution_count": null,
      "metadata": {
        "id": "dff8sG63cw03"
      },
      "outputs": [],
      "source": [
        "# t = Tokenizer(oov_token='<UNK>')\n",
        "# # fit the tokenizer on the documents\n",
        "# t.fit_on_texts(norm_train_reviews)\n",
        "# t.word_index['<PAD>'] = 0\n",
        "# # max([(k, v) for k, v in t.word_index.items()], key = lambda x:x[1]), min([(k, v) for k, v in t.word_index.items()], key = lambda x:x[1]), t.word_index['<UNK>']\n",
        "# train_sequences = t.texts_to_sequences(norm_train_reviews)\n",
        "# test_sequences = t.texts_to_sequences(norm_test_reviews)\n",
        "# print(\"Vocabulary size={}\".format(len(t.word_index)))\n",
        "# print(\"Number of Documents={}\".format(t.document_count))\n"
      ]
    },
    {
      "cell_type": "code",
      "execution_count": null,
      "metadata": {
        "id": "wDYC0-2jaYks"
      },
      "outputs": [],
      "source": [
        "# len(t.word_index)"
      ]
    },
    {
      "cell_type": "markdown",
      "metadata": {
        "id": "xfZwP6C8pxT8"
      },
      "source": [
        "### Sequence Normalization\n",
        "\n",
        "Not all reviews are of same length. To handle this difference in length of reviews, we define a maximum length.\n",
        "For reviews which are smaller than this length, we pad them with zeros which longer ones are truncated"
      ]
    },
    {
      "cell_type": "code",
      "execution_count": null,
      "metadata": {
        "id": "wAnv99kzWA5k"
      },
      "outputs": [],
      "source": [
        "# MAX_SEQUENCE_LENGTH = 1000\n",
        "# # pad dataset to a maximum review length in words\n",
        "# X_train = sequence.pad_sequences(train_sequences, maxlen=MAX_SEQUENCE_LENGTH)\n",
        "# X_test = sequence.pad_sequences(test_sequences, maxlen=MAX_SEQUENCE_LENGTH)\n",
        "# X_train.shape, X_test.shape"
      ]
    },
    {
      "cell_type": "code",
      "execution_count": null,
      "metadata": {
        "id": "VF9ybLGwMC3b"
      },
      "outputs": [],
      "source": [
        "# X_train, y_train"
      ]
    },
    {
      "cell_type": "markdown",
      "metadata": {
        "id": "9X_4ticSpxUC"
      },
      "source": [
        "### Encoding Labels\n",
        "\n",
        "The dataset contains labels of the form positive/negative. The following step encodes the labels using ```sklearn's``` ```LabelEncoder```"
      ]
    },
    {
      "cell_type": "markdown",
      "metadata": {
        "id": "YCjRYBh2pxUM"
      },
      "source": [
        "## Prepare the Model\n",
        "\n",
        "Since textual data is a sequence of words, we utilize ```1D``` convolutions to scan through the sentences.\n",
        "The model first transforms each word into lower dimensional embedding/vector space followed by 1d convolutions and then passing the data through dense layers before the final layer for classification"
      ]
    },
    {
      "cell_type": "code",
      "execution_count": null,
      "metadata": {
        "id": "AXhAERVeXhmZ"
      },
      "outputs": [],
      "source": [
        "# VOCAB_SIZE = len(t.word_index)\n",
        "# EMBED_SIZE = 300\n",
        "# EPOCHS=2\n",
        "# BATCH_SIZE=128\n",
        "# # create the model\n",
        "# model = Sequential()\n",
        "# model.add(Embedding(VOCAB_SIZE, EMBED_SIZE, input_length=MAX_SEQUENCE_LENGTH))\n",
        "# model.add(Conv1D(filters=128, kernel_size=4, padding='same', activation='relu'))\n",
        "# model.add(MaxPooling1D(pool_size=2))\n",
        "# model.add(Conv1D(filters=64, kernel_size=4, padding='same', activation='relu'))\n",
        "# model.add(MaxPooling1D(pool_size=2))\n",
        "# model.add(Conv1D(filters=32, kernel_size=4, padding='same', activation='relu'))\n",
        "# model.add(MaxPooling1D(pool_size=2))\n",
        "# model.add(Flatten())\n",
        "# model.add(Dense(256, activation='relu'))\n",
        "\n",
        "# # model.add(Dense(1, activation='sigmoid'))\n",
        "# model.add(Dense(5, activation='sigmoid'))\n",
        "# # model.add(Flatten())\n",
        "# model.compile(loss='binary_crossentropy', optimizer='adam', metrics=['accuracy'])\n",
        "# model.summary()"
      ]
    },
    {
      "cell_type": "markdown",
      "metadata": {
        "id": "szNl8QiQpxUa"
      },
      "source": [
        "## Model Training"
      ]
    },
    {
      "cell_type": "code",
      "execution_count": null,
      "metadata": {
        "id": "0uc0jXszf5ob"
      },
      "outputs": [],
      "source": [
        "# # Fit the model\n",
        "# model.fit(X_train, y_train, \n",
        "#           validation_split=0.1,\n",
        "#           epochs=EPOCHS, \n",
        "#           batch_size=BATCH_SIZE, \n",
        "#           verbose=1)"
      ]
    },
    {
      "cell_type": "markdown",
      "metadata": {
        "id": "cuKczZqYpxUk"
      },
      "source": [
        "## Model Evaluation"
      ]
    },
    {
      "cell_type": "code",
      "execution_count": null,
      "metadata": {
        "colab": {
          "background_save": true
        },
        "id": "3Zik9CWQgNlK"
      },
      "outputs": [],
      "source": [
        "# # Final evaluation of the model\n",
        "# scores = model.evaluate(X_test, y_test, verbose=1)\n",
        "# print(\"Accuracy: %.2f%%\" % (scores[1]*100))"
      ]
    },
    {
      "cell_type": "code",
      "execution_count": null,
      "metadata": {
        "id": "zm-pc34lkk25"
      },
      "outputs": [],
      "source": [
        "# from sklearn.metrics import accuracy_score, precision_recall_fscore_support\n",
        "# def calculate_results(y_true, y_pred):\n",
        "#   # Calculate model accuracy\n",
        "#   model_accuracy = accuracy_score(y_true, y_pred) * 100\n",
        "#   # Calculate model precision, recall and f1 score using \"weighted\" average\n",
        "#   model_precision, model_recall, model_f1, _ = precision_recall_fscore_support(y_true, y_pred, average=\"weighted\")\n",
        "#   model_results = {\"accuracy\": model_accuracy,\n",
        "#                   \"precision\": model_precision,\n",
        "#                   \"recall\": model_recall,\n",
        "#                   \"f1\": model_f1}\n",
        "#   return model_results"
      ]
    },
    {
      "cell_type": "code",
      "execution_count": null,
      "metadata": {
        "colab": {
          "base_uri": "https://localhost:8080/"
        },
        "id": "e-5UX4r2kr7e",
        "outputId": "5d6ad424-be9c-4609-b4e8-1655d8bf4545"
      },
      "outputs": [
        {
          "data": {
            "text/plain": [
              "{'accuracy': 95.8048199940494,\n",
              " 'f1': 0.9581779967289312,\n",
              " 'precision': 0.9585923509457559,\n",
              " 'recall': 0.958048199940494}"
            ]
          },
          "execution_count": 40,
          "metadata": {},
          "output_type": "execute_result"
        }
      ],
      "source": [
        "# y_pred=(model.predict(X_test))\n",
        "# y_classes_pre = [np.argmax(y, axis=None, out=None) for y in y_pred]\n",
        "# y_classes_test = [np.argmax(y, axis=None, out=None) for y in y_test]\n",
        "\n",
        "# result_CNN=(calculate_results(y_classes_test, y_classes_pre))\n",
        "# result_CNN"
      ]
    },
    {
      "cell_type": "markdown",
      "metadata": {
        "id": "f_qyQzgTNUlO"
      },
      "source": [
        "---------------\n"
      ]
    },
    {
      "cell_type": "code",
      "execution_count": null,
      "metadata": {
        "id": "B904TLKNiA1B"
      },
      "outputs": [],
      "source": [
        "# predictions = model.predict_classes(X_test).ravel()\n",
        "# predictions[:10]"
      ]
    },
    {
      "cell_type": "code",
      "execution_count": null,
      "metadata": {
        "id": "HVjbqjaopxU-"
      },
      "outputs": [],
      "source": [
        "# predictions = ['positive' if item == 1 else 'negative' for item in predictions]\n",
        "# predictions[:10]"
      ]
    },
    {
      "cell_type": "code",
      "execution_count": null,
      "metadata": {
        "id": "mINpo7mDpxVC"
      },
      "outputs": [],
      "source": [
        "# from sklearn.metrics import confusion_matrix, classification_report\n",
        "\n",
        "# labels = ['negative', 'positive']\n",
        "# print(classification_report(test_sentiments, predictions))\n",
        "# pd.DataFrame(confusion_matrix(test_sentiments, predictions), index=labels, columns=labels)"
      ]
    }
  ],
  "metadata": {
    "colab": {
      "collapsed_sections": [],
      "name": "CNN_TFidf.ipynb",
      "provenance": [],
      "mount_file_id": "https://github.com/Hamoda-dabbit/Mining---classification-in-Arabic-Article/blob/main/CNN/CNN_TFidf.ipynb",
      "authorship_tag": "ABX9TyPcjRX3+gccSZILBQH33lBV",
      "include_colab_link": true
    },
    "gpuClass": "standard",
    "kernelspec": {
      "display_name": "Python 3",
      "name": "python3"
    },
    "language_info": {
      "name": "python"
    }
  },
  "nbformat": 4,
  "nbformat_minor": 0
}