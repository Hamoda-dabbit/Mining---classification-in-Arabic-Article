{
  "cells": [
    {
      "cell_type": "markdown",
      "metadata": {
        "id": "view-in-github",
        "colab_type": "text"
      },
      "source": [
        "<a href=\"https://colab.research.google.com/github/Hamoda-dabbit/Mining---classification-in-Arabic-Article/blob/main/RandomForest/RandomForest_TFidf.ipynb\" target=\"_parent\"><img src=\"https://colab.research.google.com/assets/colab-badge.svg\" alt=\"Open In Colab\"/></a>"
      ]
    },
    {
      "cell_type": "markdown",
      "source": [
        "**Classification by Random Forest and TfIdf Vectorizer**\n",
        "\n",
        "----------"
      ],
      "metadata": {
        "id": "XM1pNzDEOIWn"
      }
    },
    {
      "cell_type": "markdown",
      "metadata": {
        "id": "wNbjAAdR_a7V"
      },
      "source": [
        " import library\n",
        "\n",
        "  إستيراد المكتبات"
      ]
    },
    {
      "cell_type": "code",
      "execution_count": null,
      "metadata": {
        "colab": {
          "base_uri": "https://localhost:8080/"
        },
        "id": "TNoA8UhxJGT0",
        "outputId": "f975bc12-6163-40aa-8651-7882b1d90ac2"
      },
      "outputs": [
        {
          "output_type": "stream",
          "name": "stderr",
          "text": [
            "[nltk_data] Downloading package stopwords to /root/nltk_data...\n",
            "[nltk_data]   Unzipping corpora/stopwords.zip.\n"
          ]
        }
      ],
      "source": [
        "import warnings\n",
        "warnings.filterwarnings(\"ignore\")\n",
        "import numpy as np\n",
        "import pandas as pd\n",
        "from sklearn.utils import shuffle\n",
        "import nltk\n",
        "nltk.download('stopwords')\n",
        "from nltk.corpus import stopwords\n",
        "from nltk.stem.isri import ISRIStemmer\n",
        "import re\n",
        "import string\n",
        "from sklearn.feature_extraction.text import TfidfVectorizer\n",
        "from sklearn.metrics import accuracy_score, precision_recall_fscore_support\n"
      ]
    },
    {
      "cell_type": "markdown",
      "metadata": {
        "id": "IY_2pUn__oh8"
      },
      "source": [
        "--------\n",
        "\n",
        "**1- Import Data set**"
      ]
    },
    {
      "cell_type": "code",
      "execution_count": null,
      "metadata": {
        "id": "a5M0RrmjJXpU"
      },
      "outputs": [],
      "source": [
        "df = pd.read_excel(\"drive/MyDrive/mining/1.xlsx\")\n",
        "# df = pd.read_excel(\"drive/MyDrive/mining/2.xlsx\")\n",
        "# df = pd.read_excel(\"drive/MyDrive/mining/3.xlsx\")\n",
        "# df = pd.read_excel(\"drive/MyDrive/mining/4.xlsx\")"
      ]
    },
    {
      "cell_type": "markdown",
      "metadata": {
        "id": "CjXeZSy9_fB2"
      },
      "source": [
        "------\n",
        "shuffle  \n",
        "بعثرة البيانات"
      ]
    },
    {
      "cell_type": "code",
      "execution_count": null,
      "metadata": {
        "colab": {
          "base_uri": "https://localhost:8080/",
          "height": 424
        },
        "id": "3E1HSB0BJbab",
        "outputId": "c3a29394-5705-4b20-aa02-76ebe45be333"
      },
      "outputs": [
        {
          "output_type": "execute_result",
          "data": {
            "text/plain": [
              "                                                    text  targe\n",
              "13041  يبدو أن النقاش الذي أثاره تفويت صلاحيات الآمر ...      3\n",
              "5345   علم لدى الأمن الجهوي بالرشيدية أن شخصا من ذوي ...      1\n",
              "5680   لقي عنصر من الوقاية المدنية صباح أول أمس الأحد...      1\n",
              "9637   تحركت شركة مايكروسوفت العملاقة نحو الاستحواذ ع...      2\n",
              "1592   الرميد معد ومقدم البرنامج قال إنه يرصد حالات م...      0\n",
              "...                                                  ...    ...\n",
              "8013   حمري النسبة المطبقة على المصرحين تلقائيا بممتل...      2\n",
              "11405  سيكون لعبد الإله بنكيران الأمين العام لحزب الع...      3\n",
              "7690   كشف مؤشر الأمم المتحدة للتطور الرقمي للحكومات ...      2\n",
              "11267  بعد الموقف الرافض الذي أبدته الحركة الأمازيغية...      3\n",
              "9207   فيما كانت توقعات بنك المغرب بأن السنة القادمة ...      2\n",
              "\n",
              "[17500 rows x 2 columns]"
            ],
            "text/html": [
              "\n",
              "  <div id=\"df-b2df2b8a-1143-41fd-a6b2-4ffcd2423a3b\">\n",
              "    <div class=\"colab-df-container\">\n",
              "      <div>\n",
              "<style scoped>\n",
              "    .dataframe tbody tr th:only-of-type {\n",
              "        vertical-align: middle;\n",
              "    }\n",
              "\n",
              "    .dataframe tbody tr th {\n",
              "        vertical-align: top;\n",
              "    }\n",
              "\n",
              "    .dataframe thead th {\n",
              "        text-align: right;\n",
              "    }\n",
              "</style>\n",
              "<table border=\"1\" class=\"dataframe\">\n",
              "  <thead>\n",
              "    <tr style=\"text-align: right;\">\n",
              "      <th></th>\n",
              "      <th>text</th>\n",
              "      <th>targe</th>\n",
              "    </tr>\n",
              "  </thead>\n",
              "  <tbody>\n",
              "    <tr>\n",
              "      <th>13041</th>\n",
              "      <td>يبدو أن النقاش الذي أثاره تفويت صلاحيات الآمر ...</td>\n",
              "      <td>3</td>\n",
              "    </tr>\n",
              "    <tr>\n",
              "      <th>5345</th>\n",
              "      <td>علم لدى الأمن الجهوي بالرشيدية أن شخصا من ذوي ...</td>\n",
              "      <td>1</td>\n",
              "    </tr>\n",
              "    <tr>\n",
              "      <th>5680</th>\n",
              "      <td>لقي عنصر من الوقاية المدنية صباح أول أمس الأحد...</td>\n",
              "      <td>1</td>\n",
              "    </tr>\n",
              "    <tr>\n",
              "      <th>9637</th>\n",
              "      <td>تحركت شركة مايكروسوفت العملاقة نحو الاستحواذ ع...</td>\n",
              "      <td>2</td>\n",
              "    </tr>\n",
              "    <tr>\n",
              "      <th>1592</th>\n",
              "      <td>الرميد معد ومقدم البرنامج قال إنه يرصد حالات م...</td>\n",
              "      <td>0</td>\n",
              "    </tr>\n",
              "    <tr>\n",
              "      <th>...</th>\n",
              "      <td>...</td>\n",
              "      <td>...</td>\n",
              "    </tr>\n",
              "    <tr>\n",
              "      <th>8013</th>\n",
              "      <td>حمري النسبة المطبقة على المصرحين تلقائيا بممتل...</td>\n",
              "      <td>2</td>\n",
              "    </tr>\n",
              "    <tr>\n",
              "      <th>11405</th>\n",
              "      <td>سيكون لعبد الإله بنكيران الأمين العام لحزب الع...</td>\n",
              "      <td>3</td>\n",
              "    </tr>\n",
              "    <tr>\n",
              "      <th>7690</th>\n",
              "      <td>كشف مؤشر الأمم المتحدة للتطور الرقمي للحكومات ...</td>\n",
              "      <td>2</td>\n",
              "    </tr>\n",
              "    <tr>\n",
              "      <th>11267</th>\n",
              "      <td>بعد الموقف الرافض الذي أبدته الحركة الأمازيغية...</td>\n",
              "      <td>3</td>\n",
              "    </tr>\n",
              "    <tr>\n",
              "      <th>9207</th>\n",
              "      <td>فيما كانت توقعات بنك المغرب بأن السنة القادمة ...</td>\n",
              "      <td>2</td>\n",
              "    </tr>\n",
              "  </tbody>\n",
              "</table>\n",
              "<p>17500 rows × 2 columns</p>\n",
              "</div>\n",
              "      <button class=\"colab-df-convert\" onclick=\"convertToInteractive('df-b2df2b8a-1143-41fd-a6b2-4ffcd2423a3b')\"\n",
              "              title=\"Convert this dataframe to an interactive table.\"\n",
              "              style=\"display:none;\">\n",
              "        \n",
              "  <svg xmlns=\"http://www.w3.org/2000/svg\" height=\"24px\"viewBox=\"0 0 24 24\"\n",
              "       width=\"24px\">\n",
              "    <path d=\"M0 0h24v24H0V0z\" fill=\"none\"/>\n",
              "    <path d=\"M18.56 5.44l.94 2.06.94-2.06 2.06-.94-2.06-.94-.94-2.06-.94 2.06-2.06.94zm-11 1L8.5 8.5l.94-2.06 2.06-.94-2.06-.94L8.5 2.5l-.94 2.06-2.06.94zm10 10l.94 2.06.94-2.06 2.06-.94-2.06-.94-.94-2.06-.94 2.06-2.06.94z\"/><path d=\"M17.41 7.96l-1.37-1.37c-.4-.4-.92-.59-1.43-.59-.52 0-1.04.2-1.43.59L10.3 9.45l-7.72 7.72c-.78.78-.78 2.05 0 2.83L4 21.41c.39.39.9.59 1.41.59.51 0 1.02-.2 1.41-.59l7.78-7.78 2.81-2.81c.8-.78.8-2.07 0-2.86zM5.41 20L4 18.59l7.72-7.72 1.47 1.35L5.41 20z\"/>\n",
              "  </svg>\n",
              "      </button>\n",
              "      \n",
              "  <style>\n",
              "    .colab-df-container {\n",
              "      display:flex;\n",
              "      flex-wrap:wrap;\n",
              "      gap: 12px;\n",
              "    }\n",
              "\n",
              "    .colab-df-convert {\n",
              "      background-color: #E8F0FE;\n",
              "      border: none;\n",
              "      border-radius: 50%;\n",
              "      cursor: pointer;\n",
              "      display: none;\n",
              "      fill: #1967D2;\n",
              "      height: 32px;\n",
              "      padding: 0 0 0 0;\n",
              "      width: 32px;\n",
              "    }\n",
              "\n",
              "    .colab-df-convert:hover {\n",
              "      background-color: #E2EBFA;\n",
              "      box-shadow: 0px 1px 2px rgba(60, 64, 67, 0.3), 0px 1px 3px 1px rgba(60, 64, 67, 0.15);\n",
              "      fill: #174EA6;\n",
              "    }\n",
              "\n",
              "    [theme=dark] .colab-df-convert {\n",
              "      background-color: #3B4455;\n",
              "      fill: #D2E3FC;\n",
              "    }\n",
              "\n",
              "    [theme=dark] .colab-df-convert:hover {\n",
              "      background-color: #434B5C;\n",
              "      box-shadow: 0px 1px 3px 1px rgba(0, 0, 0, 0.15);\n",
              "      filter: drop-shadow(0px 1px 2px rgba(0, 0, 0, 0.3));\n",
              "      fill: #FFFFFF;\n",
              "    }\n",
              "  </style>\n",
              "\n",
              "      <script>\n",
              "        const buttonEl =\n",
              "          document.querySelector('#df-b2df2b8a-1143-41fd-a6b2-4ffcd2423a3b button.colab-df-convert');\n",
              "        buttonEl.style.display =\n",
              "          google.colab.kernel.accessAllowed ? 'block' : 'none';\n",
              "\n",
              "        async function convertToInteractive(key) {\n",
              "          const element = document.querySelector('#df-b2df2b8a-1143-41fd-a6b2-4ffcd2423a3b');\n",
              "          const dataTable =\n",
              "            await google.colab.kernel.invokeFunction('convertToInteractive',\n",
              "                                                     [key], {});\n",
              "          if (!dataTable) return;\n",
              "\n",
              "          const docLinkHtml = 'Like what you see? Visit the ' +\n",
              "            '<a target=\"_blank\" href=https://colab.research.google.com/notebooks/data_table.ipynb>data table notebook</a>'\n",
              "            + ' to learn more about interactive tables.';\n",
              "          element.innerHTML = '';\n",
              "          dataTable['output_type'] = 'display_data';\n",
              "          await google.colab.output.renderOutput(dataTable, element);\n",
              "          const docLink = document.createElement('div');\n",
              "          docLink.innerHTML = docLinkHtml;\n",
              "          element.appendChild(docLink);\n",
              "        }\n",
              "      </script>\n",
              "    </div>\n",
              "  </div>\n",
              "  "
            ]
          },
          "metadata": {},
          "execution_count": 3
        }
      ],
      "source": [
        "df=shuffle(df)\n",
        "df"
      ]
    },
    {
      "cell_type": "markdown",
      "metadata": {
        "id": "IWomJ3tI_qIQ"
      },
      "source": [
        "------\n",
        "**2- Clean Data**\n",
        "\n",
        "تنظيف البيانات"
      ]
    },
    {
      "cell_type": "code",
      "execution_count": null,
      "metadata": {
        "colab": {
          "base_uri": "https://localhost:8080/"
        },
        "id": "yuk9UFPZJjxA",
        "outputId": "eceb4f0b-94c3-43fa-d07f-2428ed440bb7"
      },
      "outputs": [
        {
          "output_type": "stream",
          "name": "stdout",
          "text": [
            "139\n",
            "0\n",
            "text     True\n",
            "targe    True\n",
            "dtype: bool\n",
            "17500\n",
            "                                                    text  targe\n",
            "13041  يبدو ان النقاش الذي اثاره تفويت صلاحيات الامر ...      3\n",
            "5345   علم لدي الامن الجهوي بالرشيديه ان شخصا من ذوي ...      1\n",
            "5680   لقي عنصر من الوقايه المدنيه صباح اول امس الاحد...      1\n",
            "9637   تحركت شركه مايكروسوفت العملاقه نحو الاستحواذ ع...      2\n",
            "1592   رميد معد ومقدم البرنامج قال انه يرصد حالات معق...      0\n",
            "...                                                  ...    ...\n",
            "8013   حمري النسبه المطبقه علي المصرحين تلقائيا بمتلك...      2\n",
            "11405  سيكون لعبد الاله بنكيران الامين العام لحزب الع...      3\n",
            "7690   كشف مؤشر الام المتحده لتطور الرقمي لحكومات عن ...      2\n",
            "11267  بعد الموقف الرافض الذي ابدته الحركه الامازيغيه...      3\n",
            "9207   فيما كانت توقعات بنك المغرب بان السنه القادمه ...      2\n",
            "\n",
            "[17361 rows x 2 columns]\n"
          ]
        }
      ],
      "source": [
        "print(np.sum(df.isnull().any(axis=1)))\n",
        "\n",
        "clean_df= df.dropna()\n",
        "print(np.sum(clean_df.isnull().any(axis=1)))\n",
        "#-------------\n",
        "print (df.notnull().any(axis = 0))\n",
        "print(len(df))\n",
        "#-------------\n",
        "def remove_hashtag(df, col = 'text'):\n",
        "    for letter in r'#.][!XR':\n",
        "      df[col] = df[col].astype(str).str.replace(letter,'', regex=True)\n",
        "        \n",
        "remove_hashtag(clean_df)\n",
        "clean_df\n",
        "#-------------\n",
        "arabic_punctuations = '''`÷×؛<>_()*&^%][ـ،/:\"؟.,'{}~¦+|!”…“–ـ'''\n",
        "english_punctuations = string.punctuation\n",
        "punctuations_list = arabic_punctuations + english_punctuations\n",
        "\n",
        "def remove_punctuations(text):\n",
        "    translator = str.maketrans('', '', punctuations_list)\n",
        "    return text.translate(translator)\n",
        "#-------------\n",
        "def normalize_arabic(text):\n",
        "    text = re.sub(\"[إأآا]\", \"ا\", text)\n",
        "    text = re.sub(\"ى\", \"ي\", text)\n",
        "    text = re.sub(\"ة\", \"ه\", text)\n",
        "    text = re.sub(\"گ\", \"ك\", text)\n",
        "    return text\n",
        "#-------------    \n",
        "def remove_repeating_char(text):\n",
        "    return re.sub(r'(.)\\1+', r'\\1', text)\n",
        "#-------------\n",
        "def processDocument(doc, stemmer): \n",
        "\n",
        "    #Replace @username with empty string\n",
        "    doc = re.sub(r'@[^\\s]+', ' ', doc)\n",
        "    doc = re.sub(r'_', ' ', doc)\n",
        "    doc = re.sub(r'\\n', ' ', doc)\n",
        "    doc = re.sub(r'[a-z,A-Z]', '', doc)\n",
        "    doc = re.sub(r'\\d', '', doc)\n",
        "    #Convert www.* or https?://* to \" \"\n",
        "    doc = re.sub('((www\\.[^\\s]+)|(https?://[^\\s]+))',' ',doc)\n",
        "    #Replace #word with word\n",
        "    doc = re.sub(r'#([^\\s]+)', r'\\1', doc)\n",
        "    # remove punctuations\n",
        "    doc= remove_punctuations(doc)\n",
        "    # normalize the tweet\n",
        "    doc= normalize_arabic(doc)\n",
        "    # remove repeated letters\n",
        "    doc=remove_repeating_char(doc)\n",
        "    #stemming\n",
        "    doc = stemmer.stem(doc)\n",
        "    \n",
        "    return doc\n",
        "\n",
        "stemmer = ISRIStemmer()\n",
        "clean_df[\"text\"] = clean_df['text'].apply(lambda x: processDocument(x, stemmer))\n",
        "print(clean_df)"
      ]
    },
    {
      "cell_type": "markdown",
      "metadata": {
        "id": "0W__rb6W_7g-"
      },
      "source": [
        "----------------------\n",
        "**3- Feature Extraction:** TfIdtVectorizer\n",
        "\n",
        "استخراج الميزات(تحويل النص إلى أرقام)"
      ]
    },
    {
      "cell_type": "code",
      "execution_count": null,
      "metadata": {
        "id": "a9xbE07AnyLm"
      },
      "outputs": [],
      "source": [
        "y = clean_df['targe']\n",
        "X = clean_df['text']\n",
        "stopwords_list = stopwords.words('arabic')\n",
        "\n",
        "tfidf = TfidfVectorizer(max_features=1500, min_df=5, max_df=0.7,token_pattern=r\"(?u)\\b\\w\\w+\\b\",stop_words=stopwords_list)\n",
        "\n",
        "y1 = clean_df['targe']\n",
        "X1 = clean_df['text']\n",
        "X1= tfidf.fit_transform (X1) .toarray ()\n"
      ]
    },
    {
      "cell_type": "markdown",
      "metadata": {
        "id": "7rNrSubY_-K2"
      },
      "source": [
        "---------\n",
        "accuracy calculation function\n",
        "\n",
        "عمل تابع لحساب الدقة"
      ]
    },
    {
      "cell_type": "code",
      "execution_count": null,
      "metadata": {
        "id": "dNuFbLERJ32Z"
      },
      "outputs": [],
      "source": [
        "def calculate_results(y_true, y_pred):\n",
        "  # Calculate model accuracy\n",
        "  model_accuracy = accuracy_score(y_true, y_pred) * 100\n",
        "  # Calculate model precision, recall and f1 score using \"weighted\" average\n",
        "  model_precision, model_recall, model_f1, _ = precision_recall_fscore_support(y_true, y_pred, average=\"weighted\")\n",
        "  model_results = {\"accuracy\": model_accuracy,\n",
        "                  \"precision\": model_precision,\n",
        "                  \"recall\": model_recall,\n",
        "                  \"f1\": model_f1}\n",
        "  return model_results"
      ]
    },
    {
      "cell_type": "markdown",
      "metadata": {
        "id": "eAXIMBXPnw6N"
      },
      "source": [
        "----------------------\n",
        "\n",
        "**4- classification:** Random Forest\n",
        "\n",
        "تصنيف البيانات\n",
        "\n",
        "with Cross validation\n",
        "\n",
        "لتوزيع عينات الاختبار والتأكد من عدم وجود\n",
        "\n",
        "Overfitting"
      ]
    },
    {
      "cell_type": "code",
      "execution_count": null,
      "metadata": {
        "id": "YwGWYOmE3ql1"
      },
      "outputs": [],
      "source": [
        "from sklearn.model_selection import StratifiedKFold\n",
        "\n",
        "from sklearn.ensemble import RandomForestClassifier\n",
        "\n",
        "strtfdKFold = StratifiedKFold(n_splits=5)\n",
        "kfold = strtfdKFold.split(X1, y1)\n",
        "classifier = RandomForestClassifier(n_estimators=1000, random_state=0)\n",
        "result_RandomForestClassifier=[]\n",
        "#\n",
        "for k, (train_index, test_index) in enumerate(kfold):\n",
        "    X_train, X_test = X1[train_index], X1[test_index]\n",
        "    y_train, y_test = y1.iloc[train_index], y1.iloc[test_index]\n",
        "    classifier.fit(X_train, y_train)\n",
        "    y_pred=(classifier.predict(X_test))\n",
        "    result_RandomForestClassifier.append(calculate_results(y_test, y_pred))\n"
      ]
    },
    {
      "cell_type": "markdown",
      "source": [
        "حساب متوسط النتائج للـ5 مراحل من\n",
        "\n",
        " cross validation "
      ],
      "metadata": {
        "id": "ez8M3-N7Ps5v"
      }
    },
    {
      "cell_type": "code",
      "execution_count": null,
      "metadata": {
        "colab": {
          "base_uri": "https://localhost:8080/"
        },
        "id": "P-wYlUI6DXjc",
        "outputId": "6e28a34b-1424-4702-ef15-7e4460ff53eb"
      },
      "outputs": [
        {
          "output_type": "execute_result",
          "data": {
            "text/plain": [
              "[{'accuracy': 94.81597670508903,\n",
              "  'f1': 0.9482018591927437,\n",
              "  'precision': 0.948531344987602,\n",
              "  'recall': 0.9481597670508902}]"
            ]
          },
          "metadata": {},
          "execution_count": 8
        }
      ],
      "source": [
        "accuracy=0\n",
        "f1=0\n",
        "precision=0\n",
        "recall=0\n",
        "for i in result_RandomForestClassifier:\n",
        "  accuracy+=(i['accuracy'])\n",
        "  f1+=(i['f1'])\n",
        "  precision+=(i['precision'])\n",
        "  recall+=(i['recall'])\n",
        "\n",
        "accuracy=accuracy/len(result_RandomForestClassifier)\n",
        "f1=f1/len(result_RandomForestClassifier)\n",
        "precision=precision/len(result_RandomForestClassifier)\n",
        "recall=recall/len(result_RandomForestClassifier)\n",
        "# (result_DecisionTreeClassifier)\n",
        "results_RandomForestClassifier=[{'accuracy':accuracy,'f1':f1,'precision':precision,'recall':recall}]\n",
        "results_RandomForestClassifier"
      ]
    },
    {
      "cell_type": "markdown",
      "source": [
        "--------\n",
        "-----\n",
        "---------\n",
        "**5- Show Results**\n",
        "\n",
        "النتائج\n",
        "\n",
        "نتائج التدريب لكل قاعدة بيانات"
      ],
      "metadata": {
        "id": "dp81kMJRNntL"
      }
    },
    {
      "cell_type": "code",
      "execution_count": null,
      "metadata": {
        "colab": {
          "base_uri": "https://localhost:8080/"
        },
        "id": "Svx-SEbjnahs",
        "outputId": "cf7ced88-2bcc-49be-a5b5-651c15417ec0"
      },
      "outputs": [
        {
          "name": "stdout",
          "output_type": "stream",
          "text": [
            "DecisionTreeClassifier results in dataset 1:\n"
          ]
        },
        {
          "data": {
            "text/plain": [
              "[{'accuracy': 94.79871052663006,\n",
              "  'f1': 0.948054790221879,\n",
              "  'precision': 0.9484085086796259,\n",
              "  'recall': 0.9479871052663006}]"
            ]
          },
          "execution_count": 18,
          "metadata": {},
          "output_type": "execute_result"
        }
      ],
      "source": [
        "print('DecisionTreeClassifier results in dataset 1:')\n",
        "results_RandomForestClassifier"
      ]
    },
    {
      "cell_type": "code",
      "execution_count": null,
      "metadata": {
        "colab": {
          "base_uri": "https://localhost:8080/"
        },
        "id": "hLW7TlgBDqp9",
        "outputId": "589467d2-960a-4bd6-f9d5-55a106104997"
      },
      "outputs": [
        {
          "name": "stdout",
          "output_type": "stream",
          "text": [
            "DecisionTreeClassifier results in dataset 2:\n"
          ]
        },
        {
          "data": {
            "text/plain": [
              "[{'accuracy': 94.35977276279998,\n",
              "  'f1': 0.9436010724434535,\n",
              "  'precision': 0.9437771120290449,\n",
              "  'recall': 0.9435977276279998}]"
            ]
          },
          "execution_count": 26,
          "metadata": {},
          "output_type": "execute_result"
        }
      ],
      "source": [
        "print('DecisionTreeClassifier results in dataset 2:')\n",
        "results_RandomForestClassifier"
      ]
    },
    {
      "cell_type": "code",
      "execution_count": null,
      "metadata": {
        "colab": {
          "base_uri": "https://localhost:8080/"
        },
        "id": "U52UiCc7DqwN",
        "outputId": "80b07481-ce9f-4f3d-f4a9-1e88d3060ac6"
      },
      "outputs": [
        {
          "name": "stdout",
          "output_type": "stream",
          "text": [
            "DecisionTreeClassifier results in dataset 3:\n"
          ]
        },
        {
          "data": {
            "text/plain": [
              "[{'accuracy': 93.20200229777969,\n",
              "  'f1': 0.9320751779523017,\n",
              "  'precision': 0.9322813561648182,\n",
              "  'recall': 0.9320200229777968}]"
            ]
          },
          "execution_count": 35,
          "metadata": {},
          "output_type": "execute_result"
        }
      ],
      "source": [
        "print('DecisionTreeClassifier results in dataset 3:')\n",
        "results_RandomForestClassifier"
      ]
    },
    {
      "cell_type": "code",
      "execution_count": null,
      "metadata": {
        "id": "8MOnaBFnDq_1",
        "colab": {
          "base_uri": "https://localhost:8080/"
        },
        "outputId": "ec7e91fa-0d46-4cfd-c6a1-cc1c47440cda"
      },
      "outputs": [
        {
          "output_type": "stream",
          "name": "stdout",
          "text": [
            "DecisionTreeClassifier results in dataset 4:\n"
          ]
        },
        {
          "output_type": "execute_result",
          "data": {
            "text/plain": [
              "[{'accuracy': 92.80506484204825,\n",
              "  'f1': 0.9280963000587084,\n",
              "  'precision': 0.9283160067681553,\n",
              "  'recall': 0.9280506484204825}]"
            ]
          },
          "metadata": {},
          "execution_count": 3
        }
      ],
      "source": [
        "print('DecisionTreeClassifier results in dataset 4:')\n",
        "results_RandomForestClassifier"
      ]
    },
    {
      "cell_type": "code",
      "source": [
        "Final_Result=[\n",
        "  {'accuracy': 94.79871052663006,\n",
        "  'f1': 0.948054790221879,\n",
        "  'precision': 0.9484085086796259,\n",
        "  'recall': 0.9479871052663006}         \n",
        "  ,\n",
        "  {'accuracy': 94.35977276279998,\n",
        "  'f1': 0.9436010724434535,\n",
        "  'precision': 0.9437771120290449,\n",
        "  'recall': 0.9435977276279998}\n",
        "  ,\n",
        "  {'accuracy': 93.20200229777969,\n",
        "  'f1': 0.9320751779523017,\n",
        "  'precision': 0.9322813561648182,\n",
        "  'recall': 0.9320200229777968}\n",
        "  ,\n",
        "  {'accuracy': 92.80506484204825,\n",
        "  'f1': 0.9280963000587084,\n",
        "  'precision': 0.9283160067681553,\n",
        "  'recall': 0.9280506484204825}  \n",
        "  ]\n",
        "\n",
        "accuracy=0\n",
        "f1=0\n",
        "precision=0\n",
        "recall=0\n",
        "for i in Final_Result:\n",
        "  accuracy+=(i['accuracy'])\n",
        "  f1+=(i['f1'])\n",
        "  precision+=(i['precision'])\n",
        "  recall+=(i['recall'])\n",
        "\n",
        "accuracy=accuracy/len(Final_Result)\n",
        "f1=f1/len(Final_Result)\n",
        "precision=precision/len(Final_Result)\n",
        "recall=recall/len(Final_Result)\n",
        "# (result_DecisionTreeClassifier)\n",
        "Final_Result=[{'accuracy':accuracy,'f1':f1,'precision':precision,'recall':recall}]\n",
        "\n",
        "print('Final_Result:')\n",
        "print(Final_Result)"
      ],
      "metadata": {
        "colab": {
          "base_uri": "https://localhost:8080/"
        },
        "id": "v_dhdVPXKgr7",
        "outputId": "55994953-bd3d-4620-f5b9-c6e20d08c74c"
      },
      "execution_count": null,
      "outputs": [
        {
          "output_type": "stream",
          "name": "stdout",
          "text": [
            "Final_Result:\n",
            "[{'accuracy': 93.79138760731449, 'f1': 0.9379568351690857, 'precision': 0.9381957459104111, 'recall': 0.9379138760731449}]\n"
          ]
        }
      ]
    }
  ],
  "metadata": {
    "colab": {
      "collapsed_sections": [],
      "name": "RandomForest_TFidf.ipynb",
      "provenance": [],
      "mount_file_id": "https://github.com/Hamoda-dabbit/Mining---classification-in-Arabic-Article/blob/main/RandomForest/RandomForest_TFidf.ipynb",
      "authorship_tag": "ABX9TyOiSXibmEcy0PUCxdp32GDe",
      "include_colab_link": true
    },
    "kernelspec": {
      "display_name": "Python 3",
      "name": "python3"
    },
    "language_info": {
      "name": "python"
    }
  },
  "nbformat": 4,
  "nbformat_minor": 0
}