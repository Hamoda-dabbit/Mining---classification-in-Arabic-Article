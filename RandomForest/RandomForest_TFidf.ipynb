{
  "cells": [
    {
      "cell_type": "markdown",
      "metadata": {
        "id": "view-in-github",
        "colab_type": "text"
      },
      "source": [
        "<a href=\"https://colab.research.google.com/github/Hamoda-dabbit/Mining---classification-in-Arabic-Article/blob/main/RandomForest/RandomForest_TFidf.ipynb\" target=\"_parent\"><img src=\"https://colab.research.google.com/assets/colab-badge.svg\" alt=\"Open In Colab\"/></a>"
      ]
    },
    {
      "cell_type": "markdown",
      "source": [
        "**Classification by Random Forest and TfIdf Vectorizer**\n",
        "\n",
        "----------"
      ],
      "metadata": {
        "id": "XM1pNzDEOIWn"
      }
    },
    {
      "cell_type": "markdown",
      "metadata": {
        "id": "wNbjAAdR_a7V"
      },
      "source": [
        " import library\n",
        "\n",
        "  إستيراد المكتبات"
      ]
    },
    {
      "cell_type": "code",
      "execution_count": 1,
      "metadata": {
        "colab": {
          "base_uri": "https://localhost:8080/"
        },
        "id": "TNoA8UhxJGT0",
        "outputId": "dd3e1cb8-a823-40e0-e66b-3ec877931d40"
      },
      "outputs": [
        {
          "output_type": "stream",
          "name": "stderr",
          "text": [
            "[nltk_data] Downloading package stopwords to /root/nltk_data...\n",
            "[nltk_data]   Unzipping corpora/stopwords.zip.\n"
          ]
        }
      ],
      "source": [
        "import warnings\n",
        "warnings.filterwarnings(\"ignore\")\n",
        "import numpy as np\n",
        "import pandas as pd\n",
        "from sklearn.utils import shuffle\n",
        "import nltk\n",
        "nltk.download('stopwords')\n",
        "from nltk.corpus import stopwords\n",
        "from nltk.stem.isri import ISRIStemmer\n",
        "import re\n",
        "import string\n",
        "from sklearn.feature_extraction.text import TfidfVectorizer\n",
        "from sklearn.metrics import accuracy_score, precision_recall_fscore_support\n"
      ]
    },
    {
      "cell_type": "markdown",
      "metadata": {
        "id": "IY_2pUn__oh8"
      },
      "source": [
        "--------\n",
        "\n",
        "**1- Import Data set**"
      ]
    },
    {
      "cell_type": "code",
      "execution_count": 2,
      "metadata": {
        "id": "a5M0RrmjJXpU"
      },
      "outputs": [],
      "source": [
        "# df = pd.read_excel(\"drive/MyDrive/mining/1.xlsx\")\n",
        "# df = pd.read_excel(\"drive/MyDrive/mining/2.xlsx\")\n",
        "# df = pd.read_excel(\"drive/MyDrive/mining/3.xlsx\")\n",
        "df = pd.read_excel(\"drive/MyDrive/mining/4.xlsx\")"
      ]
    },
    {
      "cell_type": "markdown",
      "metadata": {
        "id": "CjXeZSy9_fB2"
      },
      "source": [
        "------\n",
        "shuffle  \n",
        "بعثرة البيانات"
      ]
    },
    {
      "cell_type": "code",
      "execution_count": 3,
      "metadata": {
        "colab": {
          "base_uri": "https://localhost:8080/",
          "height": 424
        },
        "id": "3E1HSB0BJbab",
        "outputId": "458c5734-5bc7-42ed-c86f-b231b919eaf2"
      },
      "outputs": [
        {
          "output_type": "execute_result",
          "data": {
            "text/plain": [
              "                                                    text  targe\n",
              "23545  أخبارنا المغربية أفاد تقرير للاتحاد الأوروبي ا...      2\n",
              "7439   تطالب أحزاب الخضر الأوروبية وخاصة الفرنسية بزع...      2\n",
              "25339  أخبارنا المغربية سناء الوردي بعد النجاح الكبير...      2\n",
              "43211                                                NaN      2\n",
              "50219                                                NaN      4\n",
              "...                                                  ...    ...\n",
              "57814  ادعى رفض محام تسلم محضر تبليغ في نزاع حول عقار...      1\n",
              "68351  جرحى وإغماء عشرات الفتيات وبهدلة رجال الأمن لا...      4\n",
              "67801  تضم السباحة والدراجات والجري وانتعشت بالمغرب ب...      4\n",
              "28125  ستقبل ملك الأردن عبدالله الثاني اليوم السبتالط...      3\n",
              "8838   تكاد أحلام سكان جهة سوس في اختصار المسافات الك...      2\n",
              "\n",
              "[68690 rows x 2 columns]"
            ],
            "text/html": [
              "\n",
              "  <div id=\"df-e5b7778d-42d0-4688-811c-e49073315648\">\n",
              "    <div class=\"colab-df-container\">\n",
              "      <div>\n",
              "<style scoped>\n",
              "    .dataframe tbody tr th:only-of-type {\n",
              "        vertical-align: middle;\n",
              "    }\n",
              "\n",
              "    .dataframe tbody tr th {\n",
              "        vertical-align: top;\n",
              "    }\n",
              "\n",
              "    .dataframe thead th {\n",
              "        text-align: right;\n",
              "    }\n",
              "</style>\n",
              "<table border=\"1\" class=\"dataframe\">\n",
              "  <thead>\n",
              "    <tr style=\"text-align: right;\">\n",
              "      <th></th>\n",
              "      <th>text</th>\n",
              "      <th>targe</th>\n",
              "    </tr>\n",
              "  </thead>\n",
              "  <tbody>\n",
              "    <tr>\n",
              "      <th>23545</th>\n",
              "      <td>أخبارنا المغربية أفاد تقرير للاتحاد الأوروبي ا...</td>\n",
              "      <td>2</td>\n",
              "    </tr>\n",
              "    <tr>\n",
              "      <th>7439</th>\n",
              "      <td>تطالب أحزاب الخضر الأوروبية وخاصة الفرنسية بزع...</td>\n",
              "      <td>2</td>\n",
              "    </tr>\n",
              "    <tr>\n",
              "      <th>25339</th>\n",
              "      <td>أخبارنا المغربية سناء الوردي بعد النجاح الكبير...</td>\n",
              "      <td>2</td>\n",
              "    </tr>\n",
              "    <tr>\n",
              "      <th>43211</th>\n",
              "      <td>NaN</td>\n",
              "      <td>2</td>\n",
              "    </tr>\n",
              "    <tr>\n",
              "      <th>50219</th>\n",
              "      <td>NaN</td>\n",
              "      <td>4</td>\n",
              "    </tr>\n",
              "    <tr>\n",
              "      <th>...</th>\n",
              "      <td>...</td>\n",
              "      <td>...</td>\n",
              "    </tr>\n",
              "    <tr>\n",
              "      <th>57814</th>\n",
              "      <td>ادعى رفض محام تسلم محضر تبليغ في نزاع حول عقار...</td>\n",
              "      <td>1</td>\n",
              "    </tr>\n",
              "    <tr>\n",
              "      <th>68351</th>\n",
              "      <td>جرحى وإغماء عشرات الفتيات وبهدلة رجال الأمن لا...</td>\n",
              "      <td>4</td>\n",
              "    </tr>\n",
              "    <tr>\n",
              "      <th>67801</th>\n",
              "      <td>تضم السباحة والدراجات والجري وانتعشت بالمغرب ب...</td>\n",
              "      <td>4</td>\n",
              "    </tr>\n",
              "    <tr>\n",
              "      <th>28125</th>\n",
              "      <td>ستقبل ملك الأردن عبدالله الثاني اليوم السبتالط...</td>\n",
              "      <td>3</td>\n",
              "    </tr>\n",
              "    <tr>\n",
              "      <th>8838</th>\n",
              "      <td>تكاد أحلام سكان جهة سوس في اختصار المسافات الك...</td>\n",
              "      <td>2</td>\n",
              "    </tr>\n",
              "  </tbody>\n",
              "</table>\n",
              "<p>68690 rows × 2 columns</p>\n",
              "</div>\n",
              "      <button class=\"colab-df-convert\" onclick=\"convertToInteractive('df-e5b7778d-42d0-4688-811c-e49073315648')\"\n",
              "              title=\"Convert this dataframe to an interactive table.\"\n",
              "              style=\"display:none;\">\n",
              "        \n",
              "  <svg xmlns=\"http://www.w3.org/2000/svg\" height=\"24px\"viewBox=\"0 0 24 24\"\n",
              "       width=\"24px\">\n",
              "    <path d=\"M0 0h24v24H0V0z\" fill=\"none\"/>\n",
              "    <path d=\"M18.56 5.44l.94 2.06.94-2.06 2.06-.94-2.06-.94-.94-2.06-.94 2.06-2.06.94zm-11 1L8.5 8.5l.94-2.06 2.06-.94-2.06-.94L8.5 2.5l-.94 2.06-2.06.94zm10 10l.94 2.06.94-2.06 2.06-.94-2.06-.94-.94-2.06-.94 2.06-2.06.94z\"/><path d=\"M17.41 7.96l-1.37-1.37c-.4-.4-.92-.59-1.43-.59-.52 0-1.04.2-1.43.59L10.3 9.45l-7.72 7.72c-.78.78-.78 2.05 0 2.83L4 21.41c.39.39.9.59 1.41.59.51 0 1.02-.2 1.41-.59l7.78-7.78 2.81-2.81c.8-.78.8-2.07 0-2.86zM5.41 20L4 18.59l7.72-7.72 1.47 1.35L5.41 20z\"/>\n",
              "  </svg>\n",
              "      </button>\n",
              "      \n",
              "  <style>\n",
              "    .colab-df-container {\n",
              "      display:flex;\n",
              "      flex-wrap:wrap;\n",
              "      gap: 12px;\n",
              "    }\n",
              "\n",
              "    .colab-df-convert {\n",
              "      background-color: #E8F0FE;\n",
              "      border: none;\n",
              "      border-radius: 50%;\n",
              "      cursor: pointer;\n",
              "      display: none;\n",
              "      fill: #1967D2;\n",
              "      height: 32px;\n",
              "      padding: 0 0 0 0;\n",
              "      width: 32px;\n",
              "    }\n",
              "\n",
              "    .colab-df-convert:hover {\n",
              "      background-color: #E2EBFA;\n",
              "      box-shadow: 0px 1px 2px rgba(60, 64, 67, 0.3), 0px 1px 3px 1px rgba(60, 64, 67, 0.15);\n",
              "      fill: #174EA6;\n",
              "    }\n",
              "\n",
              "    [theme=dark] .colab-df-convert {\n",
              "      background-color: #3B4455;\n",
              "      fill: #D2E3FC;\n",
              "    }\n",
              "\n",
              "    [theme=dark] .colab-df-convert:hover {\n",
              "      background-color: #434B5C;\n",
              "      box-shadow: 0px 1px 3px 1px rgba(0, 0, 0, 0.15);\n",
              "      filter: drop-shadow(0px 1px 2px rgba(0, 0, 0, 0.3));\n",
              "      fill: #FFFFFF;\n",
              "    }\n",
              "  </style>\n",
              "\n",
              "      <script>\n",
              "        const buttonEl =\n",
              "          document.querySelector('#df-e5b7778d-42d0-4688-811c-e49073315648 button.colab-df-convert');\n",
              "        buttonEl.style.display =\n",
              "          google.colab.kernel.accessAllowed ? 'block' : 'none';\n",
              "\n",
              "        async function convertToInteractive(key) {\n",
              "          const element = document.querySelector('#df-e5b7778d-42d0-4688-811c-e49073315648');\n",
              "          const dataTable =\n",
              "            await google.colab.kernel.invokeFunction('convertToInteractive',\n",
              "                                                     [key], {});\n",
              "          if (!dataTable) return;\n",
              "\n",
              "          const docLinkHtml = 'Like what you see? Visit the ' +\n",
              "            '<a target=\"_blank\" href=https://colab.research.google.com/notebooks/data_table.ipynb>data table notebook</a>'\n",
              "            + ' to learn more about interactive tables.';\n",
              "          element.innerHTML = '';\n",
              "          dataTable['output_type'] = 'display_data';\n",
              "          await google.colab.output.renderOutput(dataTable, element);\n",
              "          const docLink = document.createElement('div');\n",
              "          docLink.innerHTML = docLinkHtml;\n",
              "          element.appendChild(docLink);\n",
              "        }\n",
              "      </script>\n",
              "    </div>\n",
              "  </div>\n",
              "  "
            ]
          },
          "metadata": {},
          "execution_count": 3
        }
      ],
      "source": [
        "df=shuffle(df)\n",
        "df"
      ]
    },
    {
      "cell_type": "markdown",
      "metadata": {
        "id": "IWomJ3tI_qIQ"
      },
      "source": [
        "------\n",
        "**2- Clean Data**\n",
        "\n",
        "تنظيف البيانات"
      ]
    },
    {
      "cell_type": "code",
      "execution_count": 4,
      "metadata": {
        "colab": {
          "base_uri": "https://localhost:8080/"
        },
        "id": "yuk9UFPZJjxA",
        "outputId": "5efe8744-db39-4585-f9be-24880b72346b"
      },
      "outputs": [
        {
          "output_type": "stream",
          "name": "stdout",
          "text": [
            "378\n",
            "0\n",
            "text     True\n",
            "targe    True\n",
            "dtype: bool\n",
            "68690\n",
            "                                                    text  targe\n",
            "23545  اخبارنا المغربيه افاد تقرير لاتحاد الاوروبي ال...      2\n",
            "7439   تطالب احزاب الخضر الاوروبيه وخاصه الفرنسيه بزع...      2\n",
            "25339  اخبارنا المغربيه سناء الوردي بعد النجاح الكبير...      2\n",
            "11073  ثبت حزب الاستقلال حميد شباط امينه العام وكيلا ...      3\n",
            "35486  منشطه زينب صابر قالت انها سعيده بما تقدمه في ت...      0\n",
            "...                                                  ...    ...\n",
            "57814  ادعي رفض محام تسلم محضر تبليغ في نزاع حول عقار...      1\n",
            "68351  جرحي واغماء عشرات الفتيات وبهدله رجال الامن لا...      4\n",
            "67801  تضم السباحه والدراجات والجري وانتعشت بالمغرب ب...      4\n",
            "28125  ستقبل ملك الاردن عبداله الثاني اليوم السبتالطي...      3\n",
            "8838   تكاد احلام سكان جه سوس في اختصار المسافات الكي...      2\n",
            "\n",
            "[68312 rows x 2 columns]\n"
          ]
        }
      ],
      "source": [
        "print(np.sum(df.isnull().any(axis=1)))\n",
        "\n",
        "clean_df= df.dropna()\n",
        "print(np.sum(clean_df.isnull().any(axis=1)))\n",
        "#-------------\n",
        "print (df.notnull().any(axis = 0))\n",
        "print(len(df))\n",
        "#-------------\n",
        "def remove_hashtag(df, col = 'text'):\n",
        "    for letter in r'#.][!XR':\n",
        "      df[col] = df[col].astype(str).str.replace(letter,'', regex=True)\n",
        "        \n",
        "remove_hashtag(clean_df)\n",
        "clean_df\n",
        "#-------------\n",
        "arabic_punctuations = '''`÷×؛<>_()*&^%][ـ،/:\"؟.,'{}~¦+|!”…“–ـ'''\n",
        "english_punctuations = string.punctuation\n",
        "punctuations_list = arabic_punctuations + english_punctuations\n",
        "\n",
        "def remove_punctuations(text):\n",
        "    translator = str.maketrans('', '', punctuations_list)\n",
        "    return text.translate(translator)\n",
        "#-------------\n",
        "def normalize_arabic(text):\n",
        "    text = re.sub(\"[إأآا]\", \"ا\", text)\n",
        "    text = re.sub(\"ى\", \"ي\", text)\n",
        "    text = re.sub(\"ة\", \"ه\", text)\n",
        "    text = re.sub(\"گ\", \"ك\", text)\n",
        "    return text\n",
        "#-------------    \n",
        "def remove_repeating_char(text):\n",
        "    return re.sub(r'(.)\\1+', r'\\1', text)\n",
        "#-------------\n",
        "def processDocument(doc, stemmer): \n",
        "\n",
        "    #Replace @username with empty string\n",
        "    doc = re.sub(r'@[^\\s]+', ' ', doc)\n",
        "    doc = re.sub(r'_', ' ', doc)\n",
        "    doc = re.sub(r'\\n', ' ', doc)\n",
        "    doc = re.sub(r'[a-z,A-Z]', '', doc)\n",
        "    doc = re.sub(r'\\d', '', doc)\n",
        "    #Convert www.* or https?://* to \" \"\n",
        "    doc = re.sub('((www\\.[^\\s]+)|(https?://[^\\s]+))',' ',doc)\n",
        "    #Replace #word with word\n",
        "    doc = re.sub(r'#([^\\s]+)', r'\\1', doc)\n",
        "    # remove punctuations\n",
        "    doc= remove_punctuations(doc)\n",
        "    # normalize the tweet\n",
        "    doc= normalize_arabic(doc)\n",
        "    # remove repeated letters\n",
        "    doc=remove_repeating_char(doc)\n",
        "    #stemming\n",
        "    doc = stemmer.stem(doc)\n",
        "    \n",
        "    return doc\n",
        "\n",
        "stemmer = ISRIStemmer()\n",
        "clean_df[\"text\"] = clean_df['text'].apply(lambda x: processDocument(x, stemmer))\n",
        "print(clean_df)"
      ]
    },
    {
      "cell_type": "markdown",
      "metadata": {
        "id": "0W__rb6W_7g-"
      },
      "source": [
        "----------------------\n",
        "**3- Feature Extraction:** TfIdtVectorizer\n",
        "\n",
        "استخراج الميزات(تحويل النص إلى أرقام)"
      ]
    },
    {
      "cell_type": "code",
      "execution_count": 5,
      "metadata": {
        "id": "a9xbE07AnyLm"
      },
      "outputs": [],
      "source": [
        "y = clean_df['targe']\n",
        "X = clean_df['text']\n",
        "stopwords_list = stopwords.words('arabic')\n",
        "\n",
        "tfidf = TfidfVectorizer(max_features=1500, min_df=5, max_df=0.7,token_pattern=r\"(?u)\\b\\w\\w+\\b\",stop_words=stopwords_list)\n",
        "\n",
        "y1 = clean_df['targe']\n",
        "X1 = clean_df['text']\n",
        "X1= tfidf.fit_transform (X1) .toarray ()\n"
      ]
    },
    {
      "cell_type": "markdown",
      "metadata": {
        "id": "7rNrSubY_-K2"
      },
      "source": [
        "---------\n",
        "accuracy calculation function\n",
        "\n",
        "عمل تابع لحساب الدقة"
      ]
    },
    {
      "cell_type": "code",
      "execution_count": 6,
      "metadata": {
        "id": "dNuFbLERJ32Z"
      },
      "outputs": [],
      "source": [
        "def calculate_results(y_true, y_pred):\n",
        "  # Calculate model accuracy\n",
        "  model_accuracy = accuracy_score(y_true, y_pred) * 100\n",
        "  # Calculate model precision, recall and f1 score using \"weighted\" average\n",
        "  model_precision, model_recall, model_f1, _ = precision_recall_fscore_support(y_true, y_pred, average=\"weighted\")\n",
        "  model_results = {\"accuracy\": model_accuracy,\n",
        "                  \"precision\": model_precision,\n",
        "                  \"recall\": model_recall,\n",
        "                  \"f1\": model_f1}\n",
        "  return model_results"
      ]
    },
    {
      "cell_type": "markdown",
      "metadata": {
        "id": "eAXIMBXPnw6N"
      },
      "source": [
        "----------------------\n",
        "\n",
        "**4- classification:** Random Forest\n",
        "\n",
        "تصنيف البيانات\n",
        "\n",
        "with Cross validation\n",
        "\n",
        "لتوزيع عينات الاختبار والتأكد من عدم وجود\n",
        "\n",
        "Overfitting"
      ]
    },
    {
      "cell_type": "code",
      "execution_count": 7,
      "metadata": {
        "id": "YwGWYOmE3ql1",
        "outputId": "2f016f77-2aa2-4fb1-d3b3-c7f77ac752a3",
        "colab": {
          "base_uri": "https://localhost:8080/"
        }
      },
      "outputs": [
        {
          "metadata": {
            "tags": null
          },
          "name": "stdout",
          "output_type": "stream",
          "text": [
            "CPU times: user 1h 8min 7s, sys: 18.2 s, total: 1h 8min 26s\n",
            "Wall time: 1h 8min 12s\n"
          ]
        }
      ],
      "source": [
        "%%time\n",
        "from sklearn.model_selection import StratifiedKFold\n",
        "\n",
        "from sklearn.ensemble import RandomForestClassifier\n",
        "\n",
        "strtfdKFold = StratifiedKFold(n_splits=5)\n",
        "kfold = strtfdKFold.split(X1, y1)\n",
        "classifier = RandomForestClassifier(n_estimators=1000, random_state=0)\n",
        "result_RandomForestClassifier=[]\n",
        "#\n",
        "for k, (train_index, test_index) in enumerate(kfold):\n",
        "    X_train, X_test = X1[train_index], X1[test_index]\n",
        "    y_train, y_test = y1.iloc[train_index], y1.iloc[test_index]\n",
        "    classifier.fit(X_train, y_train)\n",
        "    y_pred=(classifier.predict(X_test))\n",
        "    result_RandomForestClassifier.append(calculate_results(y_test, y_pred))\n"
      ]
    },
    {
      "cell_type": "markdown",
      "source": [
        "حساب متوسط النتائج للـ5 مراحل من\n",
        "\n",
        " cross validation "
      ],
      "metadata": {
        "id": "ez8M3-N7Ps5v"
      }
    },
    {
      "cell_type": "code",
      "execution_count": 8,
      "metadata": {
        "colab": {
          "base_uri": "https://localhost:8080/"
        },
        "id": "P-wYlUI6DXjc",
        "outputId": "b3d55fb9-43c3-4a46-cc6d-50de6e34a59e"
      },
      "outputs": [
        {
          "data": {
            "text/plain": [
              "[{'accuracy': 92.71870192194521,\n",
              "  'f1': 0.927235869172043,\n",
              "  'precision': 0.927458211726609,\n",
              "  'recall': 0.9271870192194521}]"
            ]
          },
          "execution_count": 8,
          "metadata": {},
          "output_type": "execute_result"
        }
      ],
      "source": [
        "accuracy=0\n",
        "f1=0\n",
        "precision=0\n",
        "recall=0\n",
        "for i in result_RandomForestClassifier:\n",
        "  accuracy+=(i['accuracy'])\n",
        "  f1+=(i['f1'])\n",
        "  precision+=(i['precision'])\n",
        "  recall+=(i['recall'])\n",
        "\n",
        "accuracy=accuracy/len(result_RandomForestClassifier)\n",
        "f1=f1/len(result_RandomForestClassifier)\n",
        "precision=precision/len(result_RandomForestClassifier)\n",
        "recall=recall/len(result_RandomForestClassifier)\n",
        "# (result_DecisionTreeClassifier)\n",
        "results_RandomForestClassifier=[{'accuracy':accuracy,'f1':f1,'precision':precision,'recall':recall}]\n",
        "results_RandomForestClassifier"
      ]
    },
    {
      "cell_type": "markdown",
      "source": [
        "--------\n",
        "-----\n",
        "---------\n",
        "**5- Show Results**\n",
        "\n",
        "النتائج\n",
        "\n",
        "نتائج التدريب لكل قاعدة بيانات"
      ],
      "metadata": {
        "id": "dp81kMJRNntL"
      }
    },
    {
      "cell_type": "code",
      "execution_count": null,
      "metadata": {
        "colab": {
          "base_uri": "https://localhost:8080/"
        },
        "id": "Svx-SEbjnahs",
        "outputId": "0bd6a536-06b2-4215-9d97-c65d81b797b3"
      },
      "outputs": [
        {
          "output_type": "stream",
          "name": "stdout",
          "text": [
            "RandomForestClassifier results in dataset 1:\n"
          ]
        },
        {
          "output_type": "execute_result",
          "data": {
            "text/plain": [
              "[{'accuracy': 94.79871052663006,\n",
              "  'f1': 0.948054790221879,\n",
              "  'precision': 0.9484085086796259,\n",
              "  'recall': 0.9479871052663006}]"
            ]
          },
          "metadata": {},
          "execution_count": 5
        }
      ],
      "source": [
        "print('RandomForestClassifier results in dataset 1:')\n",
        "results_RandomForestClassifier"
      ]
    },
    {
      "cell_type": "code",
      "execution_count": null,
      "metadata": {
        "colab": {
          "base_uri": "https://localhost:8080/"
        },
        "id": "hLW7TlgBDqp9",
        "outputId": "caa7fdcf-589a-4727-d33c-213cda9c607f"
      },
      "outputs": [
        {
          "output_type": "stream",
          "name": "stdout",
          "text": [
            "RandomForestClassifier results in dataset 2:\n"
          ]
        },
        {
          "output_type": "execute_result",
          "data": {
            "text/plain": [
              "[{'accuracy': 94.35977276279998,\n",
              "  'f1': 0.9436010724434535,\n",
              "  'precision': 0.9437771120290449,\n",
              "  'recall': 0.9435977276279998}]"
            ]
          },
          "metadata": {},
          "execution_count": 3
        }
      ],
      "source": [
        "print('RandomForestClassifier results in dataset 2:')\n",
        "results_RandomForestClassifier"
      ]
    },
    {
      "cell_type": "code",
      "execution_count": null,
      "metadata": {
        "colab": {
          "base_uri": "https://localhost:8080/"
        },
        "id": "U52UiCc7DqwN",
        "outputId": "b26acff7-58a6-4aba-9bdb-5f6bda14de70"
      },
      "outputs": [
        {
          "output_type": "stream",
          "name": "stdout",
          "text": [
            "RandomForestClassifier results in dataset 3:\n"
          ]
        },
        {
          "output_type": "execute_result",
          "data": {
            "text/plain": [
              "[{'accuracy': 93.20200229777969,\n",
              "  'f1': 0.9320751779523017,\n",
              "  'precision': 0.9322813561648182,\n",
              "  'recall': 0.9320200229777968}]"
            ]
          },
          "metadata": {},
          "execution_count": 2
        }
      ],
      "source": [
        "print('RandomForestClassifier results in dataset 3:')\n",
        "results_RandomForestClassifier"
      ]
    },
    {
      "cell_type": "code",
      "execution_count": null,
      "metadata": {
        "id": "8MOnaBFnDq_1",
        "colab": {
          "base_uri": "https://localhost:8080/"
        },
        "outputId": "5dc823de-1575-4b24-f55c-0e627e3eff1e"
      },
      "outputs": [
        {
          "output_type": "stream",
          "name": "stdout",
          "text": [
            "RandomForestClassifier results in dataset 4:\n"
          ]
        },
        {
          "output_type": "execute_result",
          "data": {
            "text/plain": [
              "[{'accuracy': 92.80506484204825,\n",
              "  'f1': 0.9280963000587084,\n",
              "  'precision': 0.9283160067681553,\n",
              "  'recall': 0.9280506484204825}]"
            ]
          },
          "metadata": {},
          "execution_count": 1
        }
      ],
      "source": [
        "print('RandomForestClassifier results in dataset 4:')\n",
        "results_RandomForestClassifier"
      ]
    },
    {
      "cell_type": "code",
      "source": [
        "Final_Result=[\n",
        "  {'accuracy': 94.79871052663006,\n",
        "  'f1': 0.948054790221879,\n",
        "  'precision': 0.9484085086796259,\n",
        "  'recall': 0.9479871052663006}         \n",
        "  ,\n",
        "  {'accuracy': 94.35977276279998,\n",
        "  'f1': 0.9436010724434535,\n",
        "  'precision': 0.9437771120290449,\n",
        "  'recall': 0.9435977276279998}\n",
        "  ,\n",
        "  {'accuracy': 93.20200229777969,\n",
        "  'f1': 0.9320751779523017,\n",
        "  'precision': 0.9322813561648182,\n",
        "  'recall': 0.9320200229777968}\n",
        "  ,\n",
        "  {'accuracy': 92.80506484204825,\n",
        "  'f1': 0.9280963000587084,\n",
        "  'precision': 0.9283160067681553,\n",
        "  'recall': 0.9280506484204825}  \n",
        "  ]\n",
        "\n",
        "accuracy=0\n",
        "f1=0\n",
        "precision=0\n",
        "recall=0\n",
        "for i in Final_Result:\n",
        "  accuracy+=(i['accuracy'])\n",
        "  f1+=(i['f1'])\n",
        "  precision+=(i['precision'])\n",
        "  recall+=(i['recall'])\n",
        "\n",
        "accuracy=accuracy/len(Final_Result)\n",
        "f1=f1/len(Final_Result)\n",
        "precision=precision/len(Final_Result)\n",
        "recall=recall/len(Final_Result)\n",
        "# (result_DecisionTreeClassifier)\n",
        "Final_Result=[{'accuracy':accuracy,'f1':f1,'precision':precision,'recall':recall}]\n",
        "print(\"RAM: 3.12 , CPU times: user 1h 8min 7s\")\n",
        "print('Final_Result:')\n",
        "print(Final_Result)"
      ],
      "metadata": {
        "colab": {
          "base_uri": "https://localhost:8080/"
        },
        "id": "v_dhdVPXKgr7",
        "outputId": "ce8b8172-74de-4b86-8b14-5e6b21d99500"
      },
      "execution_count": 9,
      "outputs": [
        {
          "output_type": "stream",
          "name": "stdout",
          "text": [
            "RAM: 3.12 , CPU times: user 1h 8min 7s\n",
            "Final_Result:\n",
            "[{'accuracy': 93.79138760731449, 'f1': 0.9379568351690857, 'precision': 0.9381957459104111, 'recall': 0.9379138760731449}]\n"
          ]
        }
      ]
    }
  ],
  "metadata": {
    "colab": {
      "collapsed_sections": [],
      "name": "RandomForest_TFidf.ipynb",
      "provenance": [],
      "mount_file_id": "https://github.com/Hamoda-dabbit/Mining---classification-in-Arabic-Article/blob/main/RandomForest/RandomForest_TFidf.ipynb",
      "authorship_tag": "ABX9TyPAwM7956qo4m1d44tIgRd7",
      "include_colab_link": true
    },
    "kernelspec": {
      "display_name": "Python 3",
      "name": "python3"
    },
    "language_info": {
      "name": "python"
    }
  },
  "nbformat": 4,
  "nbformat_minor": 0
}